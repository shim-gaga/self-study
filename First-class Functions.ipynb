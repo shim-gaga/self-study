{
 "cells": [
  {
   "cell_type": "markdown",
   "id": "1607271d",
   "metadata": {},
   "source": [
    "# 📍 First-class Functions\n",
    "함수형 프로그래밍. 함수를 객체 취급하기 떄문에 1급 함수 개념.\n",
    "파이썬 함수 특징\n",
    "함수 객체 속성 확인\n",
    "map,filter, reduce\n",
    "익명 함수\n",
    "다양한 매개변수 사용"
   ]
  },
  {
   "cell_type": "markdown",
   "id": "4bc1fc22",
   "metadata": {},
   "source": [
    "# 1. 일급 함수(일급 객체)\n",
    "## 파이썬 함수 특징\n",
    "1. 런타임 초기화 가능: 실행 시 초기화 가능\n",
    "2. 변수 등에 함수 할당 가능\n",
    "3. 함수 인수 전달 가능 ex. sorted(key=len)\n",
    "4. 함수 결과로 반환 가능 ex. return func"
   ]
  },
  {
   "cell_type": "code",
   "execution_count": 7,
   "id": "ac48876f",
   "metadata": {},
   "outputs": [],
   "source": [
    "# 함수 객체 예제\n",
    "def factorial(n):\n",
    "    '''Facotrial Function -> n: int'''\n",
    "    if n == 1:\n",
    "        return 1\n",
    "    return n * factorial(n-1)\n",
    "\n",
    "class A:\n",
    "    pass"
   ]
  },
  {
   "cell_type": "code",
   "execution_count": 10,
   "id": "2eeadccc",
   "metadata": {},
   "outputs": [
    {
     "name": "stdout",
     "output_type": "stream",
     "text": [
      "Facotrial Function -> n: int\n",
      "120\n"
     ]
    }
   ],
   "source": [
    "print(factorial.__doc__)\n",
    "print(factorial(5))"
   ]
  },
  {
   "cell_type": "code",
   "execution_count": 11,
   "id": "53616ef4",
   "metadata": {},
   "outputs": [
    {
     "name": "stdout",
     "output_type": "stream",
     "text": [
      "<class 'function'> <class 'type'>\n"
     ]
    }
   ],
   "source": [
    "print(type(factorial), type(A))"
   ]
  },
  {
   "cell_type": "code",
   "execution_count": 17,
   "id": "23840cf9",
   "metadata": {},
   "outputs": [
    {
     "name": "stdout",
     "output_type": "stream",
     "text": [
      "{'__code__', '__call__', '__qualname__', '__annotations__', '__defaults__', '__kwdefaults__', '__closure__', '__name__', '__globals__', '__get__'}\n"
     ]
    }
   ],
   "source": [
    "# 함수와 클래스의 차이\n",
    "print(set(sorted(dir(factorial))) - set(sorted(dir(A))))"
   ]
  },
  {
   "cell_type": "code",
   "execution_count": 19,
   "id": "9b1dce16",
   "metadata": {},
   "outputs": [
    {
     "name": "stdout",
     "output_type": "stream",
     "text": [
      "factorial\n",
      "<code object factorial at 0x7f958e5570e0, file \"<ipython-input-7-69b04b288f12>\", line 2>\n"
     ]
    }
   ],
   "source": [
    "print(factorial.__name__)\n",
    "print(factorial.__code__)"
   ]
  },
  {
   "cell_type": "code",
   "execution_count": 23,
   "id": "e9f45ce3",
   "metadata": {},
   "outputs": [
    {
     "name": "stdout",
     "output_type": "stream",
     "text": [
      "<function factorial at 0x7f958e55c550>\n",
      "120\n",
      "<map object at 0x7f958e5648e0>\n"
     ]
    }
   ],
   "source": [
    "# 변수에 함수 할당\n",
    "var_func = factorial\n",
    "print(var_func)\n",
    "print(var_func(5))"
   ]
  },
  {
   "cell_type": "code",
   "execution_count": 24,
   "id": "ce19337f",
   "metadata": {},
   "outputs": [
    {
     "name": "stdout",
     "output_type": "stream",
     "text": [
      "[1, 2, 6, 24, 120]\n"
     ]
    }
   ],
   "source": [
    "print(list(map(var_func, range(1, 6))))"
   ]
  },
  {
   "cell_type": "code",
   "execution_count": 26,
   "id": "a0ba0253",
   "metadata": {},
   "outputs": [
    {
     "name": "stdout",
     "output_type": "stream",
     "text": [
      "[1, 6, 120]\n",
      "[1, 6, 120]\n"
     ]
    }
   ],
   "source": [
    "# 함수 인수 전달 및 함수로 결과 반환 -> 고위 함수(Higher-order Function)\n",
    "print(list(map(var_func, filter(lambda x: x % 2, range(1, 6)))))\n",
    "print([var_func(i) for i in range(1, 6) if i % 2])"
   ]
  },
  {
   "cell_type": "markdown",
   "id": "7f521b82",
   "metadata": {},
   "source": [
    "## reduce()\n",
    "파이썬의 functools 내장 모듈의 reduce() 함수는 여러 개의 데이터를 대상으로 주로 누적 집계를 내기 위해서 사용한다. 기본적으로 초기값을 기준으로 데이터를 루프 돌면서 집계 함수를 계속해서 적용하면서 데이터를 누적하는 방식으로 작동한다.\n",
    "<br><br>\n",
    "**reduce(집계 함수, 순회 가능한 데이터[, 초기값])**\n",
    "<br><br>\n",
    "출처: https://www.daleseo.com/python-functools-reduce/"
   ]
  },
  {
   "cell_type": "code",
   "execution_count": 29,
   "id": "3f2db847",
   "metadata": {},
   "outputs": [
    {
     "name": "stdout",
     "output_type": "stream",
     "text": [
      "55\n",
      "55\n"
     ]
    }
   ],
   "source": [
    "from functools import reduce\n",
    "from operator import add\n",
    "\n",
    "print(reduce(add, range(1, 11))) # 누적\n",
    "print(sum(range(1, 11)))"
   ]
  },
  {
   "cell_type": "markdown",
   "id": "fc74460a",
   "metadata": {},
   "source": [
    "## 익명함수(lambda)\n",
    "람다를 사용할 때는 가급적 주석을 사용하는 것이 좋다. 그러나 가급적 함수를 사용하여 일반 함수 형태로 리팩토링하는 것을 권장한다. "
   ]
  },
  {
   "cell_type": "code",
   "execution_count": 30,
   "id": "a0c3eb37",
   "metadata": {},
   "outputs": [
    {
     "name": "stdout",
     "output_type": "stream",
     "text": [
      "55\n"
     ]
    }
   ],
   "source": [
    "print(reduce(lambda x,t: x + t, range(1, 11)))"
   ]
  },
  {
   "cell_type": "markdown",
   "id": "f95bb5b1",
   "metadata": {},
   "source": [
    "## Callable: 호출 연산자 \n",
    "#### -> 메소드 형태로 호출 가능한지 확인할 수 있다.\n",
    "\\___call\\___ 이 있는 경우는 callable"
   ]
  },
  {
   "cell_type": "code",
   "execution_count": 41,
   "id": "8f9d8862",
   "metadata": {},
   "outputs": [],
   "source": [
    "# 로또 추첨 클래스 선언\n",
    "import random\n",
    "\n",
    "class LottoGame:\n",
    "    def __init__(self):\n",
    "        self._balls = [n for n in range(1, 46)]\n",
    "        \n",
    "    def pick(self):\n",
    "        random.shuffle(self._balls)\n",
    "        return sorted(random.choice(self._balls) for n in range(6))\n",
    "    \n",
    "    # 추가\n",
    "    def __call__(self):\n",
    "        return self.pick()"
   ]
  },
  {
   "cell_type": "code",
   "execution_count": 43,
   "id": "249238fd",
   "metadata": {},
   "outputs": [
    {
     "name": "stdout",
     "output_type": "stream",
     "text": [
      "[9, 9, 13, 30, 32, 43]\n"
     ]
    }
   ],
   "source": [
    "# 객체 생성\n",
    "game = LottoGame()\n",
    "\n",
    "# 게임 실행\n",
    "print(game.pick())"
   ]
  },
  {
   "cell_type": "code",
   "execution_count": 38,
   "id": "7da9eec0",
   "metadata": {},
   "outputs": [
    {
     "name": "stdout",
     "output_type": "stream",
     "text": [
      "True True True False\n"
     ]
    }
   ],
   "source": [
    "# 호출 가능 확인\n",
    "print(callable(str), callable(list), callable(factorial), callable(3.14))"
   ]
  },
  {
   "cell_type": "code",
   "execution_count": 39,
   "id": "4929736b",
   "metadata": {},
   "outputs": [
    {
     "data": {
      "text/plain": [
       "False"
      ]
     },
     "execution_count": 39,
     "metadata": {},
     "output_type": "execute_result"
    }
   ],
   "source": [
    "callable(game)"
   ]
  },
  {
   "cell_type": "code",
   "execution_count": 40,
   "id": "d6fcd06a",
   "metadata": {},
   "outputs": [
    {
     "ename": "TypeError",
     "evalue": "'LottoGame' object is not callable",
     "output_type": "error",
     "traceback": [
      "\u001b[0;31m---------------------------------------------------------------------------\u001b[0m",
      "\u001b[0;31mTypeError\u001b[0m                                 Traceback (most recent call last)",
      "\u001b[0;32m<ipython-input-40-4a8413945148>\u001b[0m in \u001b[0;36m<module>\u001b[0;34m\u001b[0m\n\u001b[0;32m----> 1\u001b[0;31m \u001b[0mgame\u001b[0m\u001b[0;34m(\u001b[0m\u001b[0;34m)\u001b[0m\u001b[0;34m\u001b[0m\u001b[0;34m\u001b[0m\u001b[0m\n\u001b[0m",
      "\u001b[0;31mTypeError\u001b[0m: 'LottoGame' object is not callable"
     ]
    }
   ],
   "source": [
    "# not callable -> 에러\n",
    "game()"
   ]
  },
  {
   "cell_type": "markdown",
   "id": "f81b8edb",
   "metadata": {},
   "source": [
    "클래스인 game()을 호출하면 pick이 실행되게 만들려면 \\__call\\__을 override 하면 된다"
   ]
  },
  {
   "cell_type": "code",
   "execution_count": 46,
   "id": "c98e40e2",
   "metadata": {},
   "outputs": [
    {
     "name": "stdout",
     "output_type": "stream",
     "text": [
      "[21, 23, 28, 30, 33, 45]\n",
      "True\n"
     ]
    }
   ],
   "source": [
    "print(game())\n",
    "print(callable(game))"
   ]
  },
  {
   "cell_type": "markdown",
   "id": "c43aa13b",
   "metadata": {},
   "source": [
    "### 다양한 매개변수 입력(*args, **kwargs)\n",
    "* \\*args: packing. 튜플로 넘어온다.\n",
    "* \\**kwargs: unpacking. 딕셔너리로 넘어온다.\n",
    "* 인수 지정은 파라미터로 넘겨줄 때 동일한 이름을 지정해야만 받을 수 있다."
   ]
  },
  {
   "cell_type": "code",
   "execution_count": 49,
   "id": "6de8cf43",
   "metadata": {},
   "outputs": [],
   "source": [
    "def args_test(name, *contents, point=None, **attrs):\n",
    "    return '<args_test> -> ({}) ({}) ({}) ({})'.format(name, contents, point, attrs)"
   ]
  },
  {
   "cell_type": "code",
   "execution_count": 50,
   "id": "43f7cf4c",
   "metadata": {},
   "outputs": [
    {
     "name": "stdout",
     "output_type": "stream",
     "text": [
      "<args_test> -> (test1) (()) (None) ({})\n"
     ]
    }
   ],
   "source": [
    "print(args_test('test1'))"
   ]
  },
  {
   "cell_type": "code",
   "execution_count": 51,
   "id": "35f27179",
   "metadata": {},
   "outputs": [
    {
     "name": "stdout",
     "output_type": "stream",
     "text": [
      "<args_test> -> (test1) (('test2',)) (None) ({})\n"
     ]
    }
   ],
   "source": [
    "print(args_test('test1', 'test2'))"
   ]
  },
  {
   "cell_type": "code",
   "execution_count": 53,
   "id": "244a919f",
   "metadata": {},
   "outputs": [
    {
     "name": "stdout",
     "output_type": "stream",
     "text": [
      "<args_test> -> (test1) (('test2', 'test3')) (None) ({'id': 'admin'})\n"
     ]
    }
   ],
   "source": [
    "print(args_test('test1', 'test2', 'test3', id='admin'))"
   ]
  },
  {
   "cell_type": "code",
   "execution_count": 54,
   "id": "866e13c7",
   "metadata": {},
   "outputs": [
    {
     "name": "stdout",
     "output_type": "stream",
     "text": [
      "<args_test> -> (test1) (('test2', 'test3')) (7) ({'id': 'admin'})\n"
     ]
    }
   ],
   "source": [
    "print(args_test('test1', 'test2', 'test3', id='admin', point=7))"
   ]
  },
  {
   "cell_type": "code",
   "execution_count": 55,
   "id": "02205cf7",
   "metadata": {},
   "outputs": [
    {
     "name": "stdout",
     "output_type": "stream",
     "text": [
      "<args_test> -> (test1) (('test2', 'test3')) (7) ({'id': 'admin', 'password': '1234'})\n"
     ]
    }
   ],
   "source": [
    "print(args_test('test1', 'test2', 'test3', id='admin', point=7, password='1234'))"
   ]
  },
  {
   "cell_type": "markdown",
   "id": "87b3a0c8",
   "metadata": {},
   "source": [
    "### 함수 Signature\n",
    "signature()은 함수 인자에 대한 정보를 알려주는 클래스 형태의 메소드이다. signature 함수를 통해서 함수의 인자 타입을 알 수 있다. 이때, inspect 패키지를 많이 사용한다."
   ]
  },
  {
   "cell_type": "code",
   "execution_count": 57,
   "id": "f1f1602f",
   "metadata": {},
   "outputs": [
    {
     "name": "stdout",
     "output_type": "stream",
     "text": [
      "(name, *contents, point=None, **attrs)\n",
      "OrderedDict([('name', <Parameter \"name\">), ('contents', <Parameter \"*contents\">), ('point', <Parameter \"point=None\">), ('attrs', <Parameter \"**attrs\">)])\n"
     ]
    }
   ],
   "source": [
    "from inspect import signature\n",
    "\n",
    "sg = signature(args_test)\n",
    "print(sg)\n",
    "print(sg.parameters)"
   ]
  },
  {
   "cell_type": "code",
   "execution_count": 58,
   "id": "e60e54e4",
   "metadata": {},
   "outputs": [
    {
     "name": "stdout",
     "output_type": "stream",
     "text": [
      "name POSITIONAL_OR_KEYWORD <class 'inspect._empty'>\n",
      "contents VAR_POSITIONAL <class 'inspect._empty'>\n",
      "point KEYWORD_ONLY None\n",
      "attrs VAR_KEYWORD <class 'inspect._empty'>\n"
     ]
    }
   ],
   "source": [
    "# 모든 정보 출력\n",
    "for name, param in sg.parameters.items():\n",
    "    print(name, param.kind, param.default)"
   ]
  },
  {
   "cell_type": "markdown",
   "id": "da0bd031",
   "metadata": {},
   "source": [
    "### partial \n",
    "#### 사용법: 인수 고정 -> 주로 특정 인수 고정 후 콜백 함수에 사용한다.\n",
    "partial 사용법 : 인수 고정 -> 주로 특정 인수 고정 후 콜백 함수에 사용  \n",
    "하나 이상의 인수가 이미 할당된(채워진) 함수의 새 버전을 반환한다. 함수의 새 객체 타입은 이전 함수의 자체를 기술하고 있다."
   ]
  },
  {
   "cell_type": "code",
   "execution_count": 59,
   "id": "b51cccef",
   "metadata": {},
   "outputs": [
    {
     "name": "stdout",
     "output_type": "stream",
     "text": [
      "1000\n"
     ]
    }
   ],
   "source": [
    "from operator import mul\n",
    "from functools import partial\n",
    "\n",
    "print(mul(10,100))"
   ]
  },
  {
   "cell_type": "code",
   "execution_count": 60,
   "id": "39006310",
   "metadata": {},
   "outputs": [],
   "source": [
    "# 인수 고정\n",
    "five = partial(mul, 5)"
   ]
  },
  {
   "cell_type": "code",
   "execution_count": 64,
   "id": "9eb2f8d9",
   "metadata": {},
   "outputs": [
    {
     "name": "stdout",
     "output_type": "stream",
     "text": [
      "500\n",
      "30\n"
     ]
    }
   ],
   "source": [
    "# 고정 추가\n",
    "six = partial(five, 6)\n",
    "print(five(100))\n",
    "print(six())"
   ]
  },
  {
   "cell_type": "code",
   "execution_count": 66,
   "id": "6417d5f0",
   "metadata": {},
   "outputs": [
    {
     "name": "stdout",
     "output_type": "stream",
     "text": [
      "[5, 10, 15, 20, 25, 30, 35, 40, 45, 50]\n"
     ]
    }
   ],
   "source": [
    "print([five(i) for i in range(1, 11)])"
   ]
  },
  {
   "cell_type": "code",
   "execution_count": 67,
   "id": "0429db47",
   "metadata": {},
   "outputs": [
    {
     "name": "stdout",
     "output_type": "stream",
     "text": [
      "[5, 10, 15, 20, 25, 30, 35, 40, 45, 50]\n"
     ]
    }
   ],
   "source": [
    "print(list(map(five, range(1, 11))))"
   ]
  },
  {
   "cell_type": "markdown",
   "id": "eb18a025",
   "metadata": {},
   "source": [
    "# 2. Closure & Decorator"
   ]
  },
  {
   "cell_type": "code",
   "execution_count": 68,
   "id": "22bc9b23",
   "metadata": {},
   "outputs": [
    {
     "name": "stdout",
     "output_type": "stream",
     "text": [
      "5\n"
     ]
    },
    {
     "ename": "NameError",
     "evalue": "name 'b' is not defined",
     "output_type": "error",
     "traceback": [
      "\u001b[0;31m---------------------------------------------------------------------------\u001b[0m",
      "\u001b[0;31mNameError\u001b[0m                                 Traceback (most recent call last)",
      "\u001b[0;32m<ipython-input-68-2122bf783750>\u001b[0m in \u001b[0;36m<module>\u001b[0;34m\u001b[0m\n\u001b[1;32m      5\u001b[0m     \u001b[0mprint\u001b[0m\u001b[0;34m(\u001b[0m\u001b[0mb\u001b[0m\u001b[0;34m)\u001b[0m\u001b[0;34m\u001b[0m\u001b[0;34m\u001b[0m\u001b[0m\n\u001b[1;32m      6\u001b[0m \u001b[0;34m\u001b[0m\u001b[0m\n\u001b[0;32m----> 7\u001b[0;31m \u001b[0mfunc_v1\u001b[0m\u001b[0;34m(\u001b[0m\u001b[0;36m5\u001b[0m\u001b[0;34m)\u001b[0m \u001b[0;31m# 에러 발생. b를 선언해주지 않음\u001b[0m\u001b[0;34m\u001b[0m\u001b[0;34m\u001b[0m\u001b[0m\n\u001b[0m",
      "\u001b[0;32m<ipython-input-68-2122bf783750>\u001b[0m in \u001b[0;36mfunc_v1\u001b[0;34m(a)\u001b[0m\n\u001b[1;32m      3\u001b[0m \u001b[0;32mdef\u001b[0m \u001b[0mfunc_v1\u001b[0m\u001b[0;34m(\u001b[0m\u001b[0ma\u001b[0m\u001b[0;34m)\u001b[0m\u001b[0;34m:\u001b[0m\u001b[0;34m\u001b[0m\u001b[0;34m\u001b[0m\u001b[0m\n\u001b[1;32m      4\u001b[0m     \u001b[0mprint\u001b[0m\u001b[0;34m(\u001b[0m\u001b[0ma\u001b[0m\u001b[0;34m)\u001b[0m\u001b[0;34m\u001b[0m\u001b[0;34m\u001b[0m\u001b[0m\n\u001b[0;32m----> 5\u001b[0;31m     \u001b[0mprint\u001b[0m\u001b[0;34m(\u001b[0m\u001b[0mb\u001b[0m\u001b[0;34m)\u001b[0m\u001b[0;34m\u001b[0m\u001b[0;34m\u001b[0m\u001b[0m\n\u001b[0m\u001b[1;32m      6\u001b[0m \u001b[0;34m\u001b[0m\u001b[0m\n\u001b[1;32m      7\u001b[0m \u001b[0mfunc_v1\u001b[0m\u001b[0;34m(\u001b[0m\u001b[0;36m5\u001b[0m\u001b[0;34m)\u001b[0m \u001b[0;31m# 에러 발생. b를 선언해주지 않음\u001b[0m\u001b[0;34m\u001b[0m\u001b[0;34m\u001b[0m\u001b[0m\n",
      "\u001b[0;31mNameError\u001b[0m: name 'b' is not defined"
     ]
    }
   ],
   "source": [
    "# 파이썬 변수 범위(global)\n",
    "\n",
    "def func_v1(a):\n",
    "    print(a)\n",
    "    print(b)\n",
    "    \n",
    "func_v1(5) # 에러 발생. b를 선언해주지 않음"
   ]
  },
  {
   "cell_type": "code",
   "execution_count": 72,
   "id": "8dc9d965",
   "metadata": {},
   "outputs": [
    {
     "name": "stdout",
     "output_type": "stream",
     "text": [
      "5\n",
      "10\n"
     ]
    }
   ],
   "source": [
    "b = 10\n",
    "\n",
    "def func_v2(a):\n",
    "    print(a)\n",
    "    print(b)\n",
    "    \n",
    "func_v2(5) "
   ]
  },
  {
   "cell_type": "code",
   "execution_count": 73,
   "id": "cd2c4ebd",
   "metadata": {},
   "outputs": [
    {
     "name": "stdout",
     "output_type": "stream",
     "text": [
      "10\n"
     ]
    },
    {
     "ename": "UnboundLocalError",
     "evalue": "local variable 'b' referenced before assignment",
     "output_type": "error",
     "traceback": [
      "\u001b[0;31m---------------------------------------------------------------------------\u001b[0m",
      "\u001b[0;31mUnboundLocalError\u001b[0m                         Traceback (most recent call last)",
      "\u001b[0;32m<ipython-input-73-190b971e8796>\u001b[0m in \u001b[0;36m<module>\u001b[0;34m\u001b[0m\n\u001b[1;32m      6\u001b[0m     \u001b[0mb\u001b[0m \u001b[0;34m=\u001b[0m \u001b[0;36m5\u001b[0m    \u001b[0;31m# 글로벌 변수는 참조되지 않음\u001b[0m\u001b[0;34m\u001b[0m\u001b[0;34m\u001b[0m\u001b[0m\n\u001b[1;32m      7\u001b[0m \u001b[0;34m\u001b[0m\u001b[0m\n\u001b[0;32m----> 8\u001b[0;31m \u001b[0mfunc_v3\u001b[0m\u001b[0;34m(\u001b[0m\u001b[0;36m10\u001b[0m\u001b[0;34m)\u001b[0m\u001b[0;34m\u001b[0m\u001b[0;34m\u001b[0m\u001b[0m\n\u001b[0m",
      "\u001b[0;32m<ipython-input-73-190b971e8796>\u001b[0m in \u001b[0;36mfunc_v3\u001b[0;34m(a)\u001b[0m\n\u001b[1;32m      3\u001b[0m \u001b[0;32mdef\u001b[0m \u001b[0mfunc_v3\u001b[0m\u001b[0;34m(\u001b[0m\u001b[0ma\u001b[0m\u001b[0;34m)\u001b[0m\u001b[0;34m:\u001b[0m\u001b[0;34m\u001b[0m\u001b[0;34m\u001b[0m\u001b[0m\n\u001b[1;32m      4\u001b[0m     \u001b[0mprint\u001b[0m\u001b[0;34m(\u001b[0m\u001b[0ma\u001b[0m\u001b[0;34m)\u001b[0m\u001b[0;34m\u001b[0m\u001b[0;34m\u001b[0m\u001b[0m\n\u001b[0;32m----> 5\u001b[0;31m     \u001b[0mprint\u001b[0m\u001b[0;34m(\u001b[0m\u001b[0mb\u001b[0m\u001b[0;34m)\u001b[0m \u001b[0;31m# 로컬 변수를 참조하려고 했으나 밑에서 선언했기 때문에 에러 발생\u001b[0m\u001b[0;34m\u001b[0m\u001b[0;34m\u001b[0m\u001b[0m\n\u001b[0m\u001b[1;32m      6\u001b[0m     \u001b[0mb\u001b[0m \u001b[0;34m=\u001b[0m \u001b[0;36m5\u001b[0m    \u001b[0;31m# 글로벌 변수는 참조되지 않음\u001b[0m\u001b[0;34m\u001b[0m\u001b[0;34m\u001b[0m\u001b[0m\n\u001b[1;32m      7\u001b[0m \u001b[0;34m\u001b[0m\u001b[0m\n",
      "\u001b[0;31mUnboundLocalError\u001b[0m: local variable 'b' referenced before assignment"
     ]
    }
   ],
   "source": [
    "b = 10\n",
    "\n",
    "def func_v3(a):\n",
    "    print(a)\n",
    "    print(b) # 로컬 변수를 참조하려고 했으나 밑에서 선언했기 때문에 에러 발생\n",
    "    b = 5    # 여기서 글로벌 변수는 참조되지 않음\n",
    "    \n",
    "func_v3(10) "
   ]
  },
  {
   "cell_type": "code",
   "execution_count": 74,
   "id": "361cabbe",
   "metadata": {},
   "outputs": [
    {
     "name": "stdout",
     "output_type": "stream",
     "text": [
      "  4           0 LOAD_GLOBAL              0 (print)\n",
      "              2 LOAD_FAST                0 (a)\n",
      "              4 CALL_FUNCTION            1\n",
      "              6 POP_TOP\n",
      "\n",
      "  5           8 LOAD_GLOBAL              0 (print)\n",
      "             10 LOAD_FAST                1 (b)\n",
      "             12 CALL_FUNCTION            1\n",
      "             14 POP_TOP\n",
      "\n",
      "  6          16 LOAD_CONST               1 (5)\n",
      "             18 STORE_FAST               1 (b)\n",
      "             20 LOAD_CONST               0 (None)\n",
      "             22 RETURN_VALUE\n",
      "None\n"
     ]
    }
   ],
   "source": [
    "from dis import dis\n",
    "print(dis(func_v3))"
   ]
  },
  {
   "cell_type": "markdown",
   "id": "aa6ee5d2",
   "metadata": {},
   "source": [
    "## Closure\n",
    "파이썬에서 클로저는 ‘자신을 둘러싼 스코프(네임스페이스)의 상태값을 기억하는 함수’다. 그리고 어떤 함수가 클로저이기 위해서는 다음의 세 가지 조건을 만족해야 한다.\n",
    "<br><br>\n",
    "1. 해당 함수는 어떤 함수 내의 중첩된 함수여야 한다.\n",
    "2. 해당 함수는 자신을 둘러싼(enclose) 함수 내의 상태값을 반드시 참조해야 한다.\n",
    "3. 해당 함수를 둘러싼 함수는 이 함수를 반환해야 한다.\n",
    "  \n",
    "클로저는 반환되는 내부 함수에 대해서 선언된 연결의 정보을 가지고 참조하는 방식이다. 반환 당시 함수 유효 범위를 벗어난 변수 또는 메소드에 직접 접근이 가능하다. 또한, 내부 함수 바깥 범위를 참조할 수 있다.   \n",
    "  \n",
    "Closure의 특징은 다음과 같다.\n",
    "* 전역 변수 사용 감소\n",
    "* 디자인 패턴 적용\n",
    "* 은닉화 가능\n",
    "* 너무 많이 사용하면 리소스 감소 -> 꼭 필요한 곳에 사용해야 한다\n",
    "  \n",
    "아래의 링크에서 closure를 아주 상세히 설명해 놓았다. \n",
    "  \n",
    "출처 및 참고하면 좋은 링크: https://shoark7.github.io/programming/python/closure-in-python"
   ]
  },
  {
   "cell_type": "code",
   "execution_count": 75,
   "id": "9321b66f",
   "metadata": {},
   "outputs": [
    {
     "name": "stdout",
     "output_type": "stream",
     "text": [
      "20\n",
      "110\n"
     ]
    }
   ],
   "source": [
    "a = 10\n",
    "print(a + 10)\n",
    "print(a + 100) "
   ]
  },
  {
   "cell_type": "code",
   "execution_count": 76,
   "id": "b7a2cbb2",
   "metadata": {},
   "outputs": [
    {
     "name": "stdout",
     "output_type": "stream",
     "text": [
      "1275\n",
      "3775\n"
     ]
    }
   ],
   "source": [
    "# 결과를 누적할 수 없을까?\n",
    "print(sum(range(1, 51)))\n",
    "print(sum(range(51, 101)))"
   ]
  },
  {
   "cell_type": "code",
   "execution_count": 77,
   "id": "2982e20e",
   "metadata": {},
   "outputs": [],
   "source": [
    "# 클래스 이용: 결과 누적을 클래스로 만들어보자\n",
    "class Averager():\n",
    "    def __init__(self):\n",
    "        self._series = []\n",
    "    \n",
    "    def __call__(self, v):\n",
    "        self._series.append(v)\n",
    "        print('class >> {} / {}'.format(self._series, len(self._series)))\n",
    "        return sum(self._series) / len(self._series)"
   ]
  },
  {
   "cell_type": "code",
   "execution_count": 80,
   "id": "33823016",
   "metadata": {},
   "outputs": [
    {
     "name": "stdout",
     "output_type": "stream",
     "text": [
      "class >> [15] / 1\n",
      "15.0\n",
      "class >> [15, 35] / 2\n",
      "25.0\n",
      "class >> [15, 35, 40] / 3\n",
      "30.0\n"
     ]
    }
   ],
   "source": [
    "# 인스턴스 생성\n",
    "avg_cls = Averager()\n",
    "\n",
    "# 누적 확인\n",
    "print(avg_cls(15))\n",
    "print(avg_cls(35))\n",
    "print(avg_cls(40))"
   ]
  },
  {
   "cell_type": "code",
   "execution_count": 101,
   "id": "a6b1a5b6",
   "metadata": {},
   "outputs": [],
   "source": [
    "# Closure 사용: Average class를 클로저로\n",
    "def closure_avg1():\n",
    "    # Free variable\n",
    "    series = []\n",
    "    # 클로저 영역\n",
    "    \n",
    "    def averager(v):\n",
    "        # series = [] # check. 여기에 선언하면 누적 x\n",
    "        series.append(v)\n",
    "        print('def1 >> {} / {}'.format(series, len(series)))\n",
    "        return sum(series) / len(series)\n",
    "    return averager"
   ]
  },
  {
   "cell_type": "code",
   "execution_count": 102,
   "id": "a7f255db",
   "metadata": {},
   "outputs": [
    {
     "name": "stdout",
     "output_type": "stream",
     "text": [
      "<function closure_avg1.<locals>.averager at 0x7f958ffb8e50>\n"
     ]
    }
   ],
   "source": [
    "avg_closure1 = closure_avg1()\n",
    "print(avg_closure1)"
   ]
  },
  {
   "cell_type": "code",
   "execution_count": 103,
   "id": "0f344db3",
   "metadata": {},
   "outputs": [
    {
     "ename": "TypeError",
     "evalue": "averager() missing 1 required positional argument: 'v'",
     "output_type": "error",
     "traceback": [
      "\u001b[0;31m---------------------------------------------------------------------------\u001b[0m",
      "\u001b[0;31mTypeError\u001b[0m                                 Traceback (most recent call last)",
      "\u001b[0;32m<ipython-input-103-2808010b1d77>\u001b[0m in \u001b[0;36m<module>\u001b[0;34m\u001b[0m\n\u001b[0;32m----> 1\u001b[0;31m \u001b[0mprint\u001b[0m\u001b[0;34m(\u001b[0m\u001b[0mavg_closure1\u001b[0m\u001b[0;34m(\u001b[0m\u001b[0;34m)\u001b[0m\u001b[0;34m)\u001b[0m\u001b[0;34m\u001b[0m\u001b[0;34m\u001b[0m\u001b[0m\n\u001b[0m",
      "\u001b[0;31mTypeError\u001b[0m: averager() missing 1 required positional argument: 'v'"
     ]
    }
   ],
   "source": [
    "print(avg_closure1()) # 파라미터가 없기 때문에 에러 발생"
   ]
  },
  {
   "cell_type": "code",
   "execution_count": 104,
   "id": "80c18e54",
   "metadata": {},
   "outputs": [
    {
     "name": "stdout",
     "output_type": "stream",
     "text": [
      "def1 >> [15] / 1\n",
      "15.0\n",
      "def1 >> [15, 35] / 2\n",
      "25.0\n",
      "def1 >> [15, 35, 40] / 3\n",
      "30.0\n"
     ]
    }
   ],
   "source": [
    "print(avg_closure1(15))\n",
    "print(avg_closure1(35))\n",
    "print(avg_closure1(40))"
   ]
  },
  {
   "cell_type": "code",
   "execution_count": 105,
   "id": "87bf6644",
   "metadata": {},
   "outputs": [
    {
     "name": "stdout",
     "output_type": "stream",
     "text": [
      "['__annotations__', '__call__', '__class__', '__closure__', '__code__', '__defaults__', '__delattr__', '__dict__', '__dir__', '__doc__', '__eq__', '__format__', '__ge__', '__get__', '__getattribute__', '__globals__', '__gt__', '__hash__', '__init__', '__init_subclass__', '__kwdefaults__', '__le__', '__lt__', '__module__', '__name__', '__ne__', '__new__', '__qualname__', '__reduce__', '__reduce_ex__', '__repr__', '__setattr__', '__sizeof__', '__str__', '__subclasshook__']\n"
     ]
    }
   ],
   "source": [
    "print(dir(avg_closure1))"
   ]
  },
  {
   "cell_type": "code",
   "execution_count": 106,
   "id": "b9bc4711",
   "metadata": {},
   "outputs": [
    {
     "name": "stdout",
     "output_type": "stream",
     "text": [
      "['__class__', '__delattr__', '__dir__', '__doc__', '__eq__', '__format__', '__ge__', '__getattribute__', '__gt__', '__hash__', '__init__', '__init_subclass__', '__le__', '__lt__', '__ne__', '__new__', '__reduce__', '__reduce_ex__', '__repr__', '__setattr__', '__sizeof__', '__str__', '__subclasshook__', 'co_argcount', 'co_cellvars', 'co_code', 'co_consts', 'co_filename', 'co_firstlineno', 'co_flags', 'co_freevars', 'co_kwonlyargcount', 'co_lnotab', 'co_name', 'co_names', 'co_nlocals', 'co_posonlyargcount', 'co_stacksize', 'co_varnames', 'replace']\n"
     ]
    }
   ],
   "source": [
    "# co_freevars: 자유 영역\n",
    "print(dir(avg_closure1.__code__))"
   ]
  },
  {
   "cell_type": "code",
   "execution_count": 107,
   "id": "9e9857d7",
   "metadata": {},
   "outputs": [
    {
     "name": "stdout",
     "output_type": "stream",
     "text": [
      "('series',)\n"
     ]
    }
   ],
   "source": [
    "# series를 튜플 형태로 가지고 있다\n",
    "print(avg_closure1.__code__.co_freevars)"
   ]
  },
  {
   "cell_type": "code",
   "execution_count": 108,
   "id": "50a12c62",
   "metadata": {},
   "outputs": [
    {
     "name": "stdout",
     "output_type": "stream",
     "text": [
      "['__add__', '__class__', '__contains__', '__delattr__', '__delitem__', '__dir__', '__doc__', '__eq__', '__format__', '__ge__', '__getattribute__', '__getitem__', '__gt__', '__hash__', '__iadd__', '__imul__', '__init__', '__init_subclass__', '__iter__', '__le__', '__len__', '__lt__', '__mul__', '__ne__', '__new__', '__reduce__', '__reduce_ex__', '__repr__', '__reversed__', '__rmul__', '__setattr__', '__setitem__', '__sizeof__', '__str__', '__subclasshook__', 'append', 'clear', 'copy', 'count', 'extend', 'index', 'insert', 'pop', 'remove', 'reverse', 'sort']\n"
     ]
    }
   ],
   "source": [
    "print(dir(avg_closure1.__closure__[0].cell_contents))"
   ]
  },
  {
   "cell_type": "code",
   "execution_count": 113,
   "id": "46aefbaa",
   "metadata": {},
   "outputs": [],
   "source": [
    "# 잘못된 클로저 사용 예\n",
    "def closure_avg2():\n",
    "    # Free variable\n",
    "    cnt = 0\n",
    "    total = 0\n",
    "    # 클로저 영역\n",
    "    def averager(v):\n",
    "        cnt += 1\n",
    "        total += v\n",
    "        print('def2 >> {} / {}'.format(total, cnt))\n",
    "        return total / cnt\n",
    "    return averager"
   ]
  },
  {
   "cell_type": "code",
   "execution_count": 114,
   "id": "71f64eb3",
   "metadata": {},
   "outputs": [
    {
     "ename": "UnboundLocalError",
     "evalue": "local variable 'cnt' referenced before assignment",
     "output_type": "error",
     "traceback": [
      "\u001b[0;31m---------------------------------------------------------------------------\u001b[0m",
      "\u001b[0;31mUnboundLocalError\u001b[0m                         Traceback (most recent call last)",
      "\u001b[0;32m<ipython-input-114-2355abe50dde>\u001b[0m in \u001b[0;36m<module>\u001b[0;34m\u001b[0m\n\u001b[1;32m      1\u001b[0m \u001b[0mavg_closure2\u001b[0m \u001b[0;34m=\u001b[0m \u001b[0mclosure_avg2\u001b[0m\u001b[0;34m(\u001b[0m\u001b[0;34m)\u001b[0m\u001b[0;34m\u001b[0m\u001b[0;34m\u001b[0m\u001b[0m\n\u001b[0;32m----> 2\u001b[0;31m \u001b[0mprint\u001b[0m\u001b[0;34m(\u001b[0m\u001b[0mavg_closure2\u001b[0m\u001b[0;34m(\u001b[0m\u001b[0;36m15\u001b[0m\u001b[0;34m)\u001b[0m\u001b[0;34m)\u001b[0m \u001b[0;31m# 에러 발생. 로컬 변수를 먼저 참조하려고 함\u001b[0m\u001b[0;34m\u001b[0m\u001b[0;34m\u001b[0m\u001b[0m\n\u001b[0m",
      "\u001b[0;32m<ipython-input-113-1ce8eacf4f2f>\u001b[0m in \u001b[0;36maverager\u001b[0;34m(v)\u001b[0m\n\u001b[1;32m      6\u001b[0m     \u001b[0;31m# 클로저 영역\u001b[0m\u001b[0;34m\u001b[0m\u001b[0;34m\u001b[0m\u001b[0;34m\u001b[0m\u001b[0m\n\u001b[1;32m      7\u001b[0m     \u001b[0;32mdef\u001b[0m \u001b[0maverager\u001b[0m\u001b[0;34m(\u001b[0m\u001b[0mv\u001b[0m\u001b[0;34m)\u001b[0m\u001b[0;34m:\u001b[0m\u001b[0;34m\u001b[0m\u001b[0;34m\u001b[0m\u001b[0m\n\u001b[0;32m----> 8\u001b[0;31m         \u001b[0mcnt\u001b[0m \u001b[0;34m+=\u001b[0m \u001b[0;36m1\u001b[0m\u001b[0;34m\u001b[0m\u001b[0;34m\u001b[0m\u001b[0m\n\u001b[0m\u001b[1;32m      9\u001b[0m         \u001b[0mtotal\u001b[0m \u001b[0;34m+=\u001b[0m \u001b[0mv\u001b[0m\u001b[0;34m\u001b[0m\u001b[0;34m\u001b[0m\u001b[0m\n\u001b[1;32m     10\u001b[0m         \u001b[0mprint\u001b[0m\u001b[0;34m(\u001b[0m\u001b[0;34m'def2 >> {} / {}'\u001b[0m\u001b[0;34m.\u001b[0m\u001b[0mformat\u001b[0m\u001b[0;34m(\u001b[0m\u001b[0mtotal\u001b[0m\u001b[0;34m,\u001b[0m \u001b[0mcnt\u001b[0m\u001b[0;34m)\u001b[0m\u001b[0;34m)\u001b[0m\u001b[0;34m\u001b[0m\u001b[0;34m\u001b[0m\u001b[0m\n",
      "\u001b[0;31mUnboundLocalError\u001b[0m: local variable 'cnt' referenced before assignment"
     ]
    }
   ],
   "source": [
    "avg_closure2 = closure_avg2()\n",
    "print(avg_closure2(15)) # 에러 발생. 로컬 변수를 먼저 참조하려고 함"
   ]
  },
  {
   "cell_type": "code",
   "execution_count": 115,
   "id": "10e126ed",
   "metadata": {},
   "outputs": [],
   "source": [
    "# 고친 ver.\n",
    "def closure_avg2():\n",
    "    # Free variable\n",
    "    cnt = 0\n",
    "    total = 0\n",
    "    # 클로저 영역\n",
    "    def averager(v):\n",
    "        nonlocal cnt, total # 클로저라는 것을 알려줌\n",
    "        cnt += 1\n",
    "        total += v\n",
    "        print('def2 >> {} / {}'.format(total, cnt))\n",
    "        return total / cnt\n",
    "    return averager"
   ]
  },
  {
   "cell_type": "code",
   "execution_count": 116,
   "id": "e0895c3b",
   "metadata": {},
   "outputs": [
    {
     "name": "stdout",
     "output_type": "stream",
     "text": [
      "def2 >> 15 / 1\n",
      "15.0\n"
     ]
    }
   ],
   "source": [
    "avg_closure2 = closure_avg2()\n",
    "print(avg_closure2(15)) "
   ]
  },
  {
   "cell_type": "markdown",
   "id": "391c3e04",
   "metadata": {},
   "source": [
    "## Decorator\n",
    "데코레이터는 함수를 수정하지 않은 상태에서 추가 기능을 구현할 때 사용한다.   \n",
    "  \n",
    "**장점**\n",
    "1. 중복 제거, 코드 간결\n",
    "2. 클로저 보다 문법 간결\n",
    "3. 조합해서 사용하기 용이\n",
    "  \n",
    "**단점**  \n",
    "1. 디버깅 어려움\n",
    "2. 에러의 모호함\n",
    "3. 에러 발생 지점 추적 어려움\n",
    "  \n",
    "참고하면 좋은 링크: https://dojang.io/mod/page/view.php?id=2427"
   ]
  },
  {
   "cell_type": "code",
   "execution_count": 128,
   "id": "842b41cb",
   "metadata": {},
   "outputs": [],
   "source": [
    "import time\n",
    "\n",
    "def perf_clock(func):\n",
    "    def perf_clocked(*args):\n",
    "        # 시작 시간\n",
    "        st = time.perf_counter()\n",
    "        result = func(*args)\n",
    "        # 종료 시간\n",
    "        et = time.perf_counter() - st\n",
    "        # 함수명\n",
    "        name = func.__name__\n",
    "        # 매개변수\n",
    "        arg_str = ','.join(repr(arg) for arg in args)\n",
    "        # 출력\n",
    "        print('Result: [%0.5fs] %s(%s) -> %r' % (et, name, arg_str, result))\n",
    "        return result\n",
    "    return perf_clocked"
   ]
  },
  {
   "cell_type": "code",
   "execution_count": 129,
   "id": "07c612ad",
   "metadata": {},
   "outputs": [],
   "source": [
    "def time_func(second):\n",
    "    time.sleep(second)\n",
    "\n",
    "def sum_func(*numbers):\n",
    "    return sum(numbers)\n",
    "\n",
    "def fact_func(n):\n",
    "    return 1 if n < 2 else n * fact_func(n-1)"
   ]
  },
  {
   "cell_type": "code",
   "execution_count": 130,
   "id": "d524358d",
   "metadata": {},
   "outputs": [
    {
     "name": "stdout",
     "output_type": "stream",
     "text": [
      "<function perf_clock.<locals>.perf_clocked at 0x7f958ffb8160> ('func',)\n",
      "<function perf_clock.<locals>.perf_clocked at 0x7f958ffb8820> ('func',)\n",
      "<function perf_clock.<locals>.perf_clocked at 0x7f95902cfdc0> ('func',)\n"
     ]
    }
   ],
   "source": [
    "# 데코레이터 미사용\n",
    "non_deco1 = perf_clock(time_func)\n",
    "non_deco2 = perf_clock(sum_func)\n",
    "non_deco3 = perf_clock(fact_func)\n",
    "\n",
    "print(non_deco1, non_deco1.__code__.co_freevars)\n",
    "print(non_deco2, non_deco2.__code__.co_freevars)\n",
    "print(non_deco3, non_deco3.__code__.co_freevars)"
   ]
  },
  {
   "cell_type": "code",
   "execution_count": 131,
   "id": "36d8ccad",
   "metadata": {},
   "outputs": [
    {
     "name": "stdout",
     "output_type": "stream",
     "text": [
      "**************************************** Called Non Deco -> time_func\n",
      "Result: [2.00121s] time_func(2) -> None\n"
     ]
    }
   ],
   "source": [
    "print('*' * 40, 'Called Non Deco -> time_func')\n",
    "non_deco1(2)"
   ]
  },
  {
   "cell_type": "code",
   "execution_count": 133,
   "id": "1b1af0d7",
   "metadata": {},
   "outputs": [
    {
     "name": "stdout",
     "output_type": "stream",
     "text": [
      "**************************************** Called Non Deco -> sum_func\n",
      "Result: [0.00000s] sum_func(100) -> 100\n"
     ]
    },
    {
     "data": {
      "text/plain": [
       "100"
      ]
     },
     "execution_count": 133,
     "metadata": {},
     "output_type": "execute_result"
    }
   ],
   "source": [
    "print('*' * 40, 'Called Non Deco -> sum_func')\n",
    "non_deco2(100)"
   ]
  },
  {
   "cell_type": "code",
   "execution_count": 134,
   "id": "f5adf473",
   "metadata": {},
   "outputs": [
    {
     "name": "stdout",
     "output_type": "stream",
     "text": [
      "**************************************** Called Non Deco -> sum_func\n",
      "Result: [0.00000s] sum_func(100,200,300) -> 600\n"
     ]
    },
    {
     "data": {
      "text/plain": [
       "600"
      ]
     },
     "execution_count": 134,
     "metadata": {},
     "output_type": "execute_result"
    }
   ],
   "source": [
    "print('*' * 40, 'Called Non Deco -> sum_func')\n",
    "non_deco2(100, 200, 300)"
   ]
  },
  {
   "cell_type": "code",
   "execution_count": 135,
   "id": "dcaf6bf7",
   "metadata": {},
   "outputs": [
    {
     "name": "stdout",
     "output_type": "stream",
     "text": [
      "**************************************** Called Non Deco -> fact_func\n",
      "Result: [0.00001s] fact_func(10) -> 3628800\n"
     ]
    },
    {
     "data": {
      "text/plain": [
       "3628800"
      ]
     },
     "execution_count": 135,
     "metadata": {},
     "output_type": "execute_result"
    }
   ],
   "source": [
    "print('*' * 40, 'Called Non Deco -> fact_func')\n",
    "non_deco3(10)"
   ]
  },
  {
   "cell_type": "code",
   "execution_count": 137,
   "id": "af6f732a",
   "metadata": {},
   "outputs": [],
   "source": [
    "# 데코레이터 사용\n",
    "@perf_clock\n",
    "def time_func(second):\n",
    "    time.sleep(second)\n",
    "\n",
    "@perf_clock\n",
    "def sum_func(*numbers):\n",
    "    return sum(numbers)\n",
    "\n",
    "@perf_clock\n",
    "def fact_func(n):\n",
    "    return 1 if n < 2 else n * fact_func(n-1)"
   ]
  },
  {
   "cell_type": "code",
   "execution_count": 138,
   "id": "2341f315",
   "metadata": {},
   "outputs": [
    {
     "name": "stdout",
     "output_type": "stream",
     "text": [
      "**************************************** Called Deco -> time_func\n",
      "Result: [2.00413s] time_func(2) -> None\n"
     ]
    }
   ],
   "source": [
    "print('*' * 40, 'Called Deco -> time_func')\n",
    "time_func(2)"
   ]
  },
  {
   "cell_type": "code",
   "execution_count": 139,
   "id": "8274de14",
   "metadata": {},
   "outputs": [
    {
     "name": "stdout",
     "output_type": "stream",
     "text": [
      "**************************************** Called Deco -> sum_func\n",
      "Result: [0.00000s] sum_func(10,20,30,40,50) -> 150\n"
     ]
    },
    {
     "data": {
      "text/plain": [
       "150"
      ]
     },
     "execution_count": 139,
     "metadata": {},
     "output_type": "execute_result"
    }
   ],
   "source": [
    "print('*' * 40, 'Called Deco -> sum_func')\n",
    "sum_func(10, 20, 30, 40, 50)"
   ]
  },
  {
   "cell_type": "code",
   "execution_count": 140,
   "id": "9900f698",
   "metadata": {},
   "outputs": [
    {
     "name": "stdout",
     "output_type": "stream",
     "text": [
      "**************************************** Called Deco -> fact_func\n",
      "Result: [0.00000s] fact_func(1) -> 1\n",
      "Result: [0.00004s] fact_func(2) -> 2\n",
      "Result: [0.00021s] fact_func(3) -> 6\n",
      "Result: [0.00024s] fact_func(4) -> 24\n",
      "Result: [0.00028s] fact_func(5) -> 120\n",
      "Result: [0.00030s] fact_func(6) -> 720\n",
      "Result: [0.00032s] fact_func(7) -> 5040\n",
      "Result: [0.00034s] fact_func(8) -> 40320\n",
      "Result: [0.00036s] fact_func(9) -> 362880\n",
      "Result: [0.00038s] fact_func(10) -> 3628800\n",
      "Result: [0.00040s] fact_func(11) -> 39916800\n",
      "Result: [0.00042s] fact_func(12) -> 479001600\n",
      "Result: [0.00045s] fact_func(13) -> 6227020800\n",
      "Result: [0.00049s] fact_func(14) -> 87178291200\n",
      "Result: [0.00052s] fact_func(15) -> 1307674368000\n",
      "Result: [0.00055s] fact_func(16) -> 20922789888000\n",
      "Result: [0.00057s] fact_func(17) -> 355687428096000\n",
      "Result: [0.00059s] fact_func(18) -> 6402373705728000\n",
      "Result: [0.00061s] fact_func(19) -> 121645100408832000\n",
      "Result: [0.00063s] fact_func(20) -> 2432902008176640000\n",
      "Result: [0.00066s] fact_func(21) -> 51090942171709440000\n",
      "Result: [0.00068s] fact_func(22) -> 1124000727777607680000\n",
      "Result: [0.00071s] fact_func(23) -> 25852016738884976640000\n",
      "Result: [0.00073s] fact_func(24) -> 620448401733239439360000\n",
      "Result: [0.00076s] fact_func(25) -> 15511210043330985984000000\n",
      "Result: [0.00078s] fact_func(26) -> 403291461126605635584000000\n",
      "Result: [0.00080s] fact_func(27) -> 10888869450418352160768000000\n",
      "Result: [0.00087s] fact_func(28) -> 304888344611713860501504000000\n",
      "Result: [0.00091s] fact_func(29) -> 8841761993739701954543616000000\n",
      "Result: [0.00093s] fact_func(30) -> 265252859812191058636308480000000\n",
      "Result: [0.00095s] fact_func(31) -> 8222838654177922817725562880000000\n",
      "Result: [0.00097s] fact_func(32) -> 263130836933693530167218012160000000\n",
      "Result: [0.00627s] fact_func(33) -> 8683317618811886495518194401280000000\n",
      "Result: [0.00634s] fact_func(34) -> 295232799039604140847618609643520000000\n",
      "Result: [0.00637s] fact_func(35) -> 10333147966386144929666651337523200000000\n",
      "Result: [0.00638s] fact_func(36) -> 371993326789901217467999448150835200000000\n",
      "Result: [0.00649s] fact_func(37) -> 13763753091226345046315979581580902400000000\n",
      "Result: [0.00906s] fact_func(38) -> 523022617466601111760007224100074291200000000\n",
      "Result: [0.00913s] fact_func(39) -> 20397882081197443358640281739902897356800000000\n",
      "Result: [0.00916s] fact_func(40) -> 815915283247897734345611269596115894272000000000\n",
      "Result: [0.00919s] fact_func(41) -> 33452526613163807108170062053440751665152000000000\n",
      "Result: [0.00920s] fact_func(42) -> 1405006117752879898543142606244511569936384000000000\n",
      "Result: [0.00921s] fact_func(43) -> 60415263063373835637355132068513997507264512000000000\n",
      "Result: [0.00922s] fact_func(44) -> 2658271574788448768043625811014615890319638528000000000\n",
      "Result: [0.00924s] fact_func(45) -> 119622220865480194561963161495657715064383733760000000000\n",
      "Result: [0.00925s] fact_func(46) -> 5502622159812088949850305428800254892961651752960000000000\n",
      "Result: [0.00926s] fact_func(47) -> 258623241511168180642964355153611979969197632389120000000000\n",
      "Result: [0.00928s] fact_func(48) -> 12413915592536072670862289047373375038521486354677760000000000\n",
      "Result: [0.00929s] fact_func(49) -> 608281864034267560872252163321295376887552831379210240000000000\n",
      "Result: [0.00929s] fact_func(50) -> 30414093201713378043612608166064768844377641568960512000000000000\n",
      "Result: [0.00932s] fact_func(51) -> 1551118753287382280224243016469303211063259720016986112000000000000\n",
      "Result: [0.01019s] fact_func(52) -> 80658175170943878571660636856403766975289505440883277824000000000000\n",
      "Result: [0.01024s] fact_func(53) -> 4274883284060025564298013753389399649690343788366813724672000000000000\n",
      "Result: [0.01026s] fact_func(54) -> 230843697339241380472092742683027581083278564571807941132288000000000000\n",
      "Result: [0.01028s] fact_func(55) -> 12696403353658275925965100847566516959580321051449436762275840000000000000\n",
      "Result: [0.01029s] fact_func(56) -> 710998587804863451854045647463724949736497978881168458687447040000000000000\n",
      "Result: [0.01030s] fact_func(57) -> 40526919504877216755680601905432322134980384796226602145184481280000000000000\n",
      "Result: [0.01031s] fact_func(58) -> 2350561331282878571829474910515074683828862318181142924420699914240000000000000\n",
      "Result: [0.01032s] fact_func(59) -> 138683118545689835737939019720389406345902876772687432540821294940160000000000000\n",
      "Result: [0.01033s] fact_func(60) -> 8320987112741390144276341183223364380754172606361245952449277696409600000000000000\n",
      "Result: [0.01035s] fact_func(61) -> 507580213877224798800856812176625227226004528988036003099405939480985600000000000000\n",
      "Result: [0.01036s] fact_func(62) -> 31469973260387937525653122354950764088012280797258232192163168247821107200000000000000\n",
      "Result: [0.01037s] fact_func(63) -> 1982608315404440064116146708361898137544773690227268628106279599612729753600000000000000\n",
      "Result: [0.01038s] fact_func(64) -> 126886932185884164103433389335161480802865516174545192198801894375214704230400000000000000\n",
      "Result: [0.01040s] fact_func(65) -> 8247650592082470666723170306785496252186258551345437492922123134388955774976000000000000000\n",
      "Result: [0.01040s] fact_func(66) -> 544344939077443064003729240247842752644293064388798874532860126869671081148416000000000000000\n",
      "Result: [0.01041s] fact_func(67) -> 36471110918188685288249859096605464427167635314049524593701628500267962436943872000000000000000\n",
      "Result: [0.01043s] fact_func(68) -> 2480035542436830599600990418569171581047399201355367672371710738018221445712183296000000000000000\n",
      "Result: [0.01044s] fact_func(69) -> 171122452428141311372468338881272839092270544893520369393648040923257279754140647424000000000000000\n",
      "Result: [0.01045s] fact_func(70) -> 11978571669969891796072783721689098736458938142546425857555362864628009582789845319680000000000000000\n",
      "Result: [0.01049s] fact_func(71) -> 850478588567862317521167644239926010288584608120796235886430763388588680378079017697280000000000000000\n",
      "Result: [0.01050s] fact_func(72) -> 61234458376886086861524070385274672740778091784697328983823014963978384987221689274204160000000000000000\n",
      "Result: [0.01051s] fact_func(73) -> 4470115461512684340891257138125051110076800700282905015819080092370422104067183317016903680000000000000000\n",
      "Result: [0.01052s] fact_func(74) -> 330788544151938641225953028221253782145683251820934971170611926835411235700971565459250872320000000000000000\n",
      "Result: [0.01053s] fact_func(75) -> 24809140811395398091946477116594033660926243886570122837795894512655842677572867409443815424000000000000000000\n",
      "Result: [0.01054s] fact_func(76) -> 1885494701666050254987932260861146558230394535379329335672487982961844043495537923117729972224000000000000000000\n",
      "Result: [0.01056s] fact_func(77) -> 145183092028285869634070784086308284983740379224208358846781574688061991349156420080065207861248000000000000000000\n",
      "Result: [0.01059s] fact_func(78) -> 11324281178206297831457521158732046228731749579488251990048962825668835325234200766245086213177344000000000000000000\n",
      "Result: [0.01060s] fact_func(79) -> 894618213078297528685144171539831652069808216779571907213868063227837990693501860533361810841010176000000000000000000\n",
      "Result: [0.01061s] fact_func(80) -> 71569457046263802294811533723186532165584657342365752577109445058227039255480148842668944867280814080000000000000000000\n",
      "Result: [0.01062s] fact_func(81) -> 5797126020747367985879734231578109105412357244731625958745865049716390179693892056256184534249745940480000000000000000000\n",
      "Result: [0.01063s] fact_func(82) -> 475364333701284174842138206989404946643813294067993328617160934076743994734899148613007131808479167119360000000000000000000\n",
      "Result: [0.01064s] fact_func(83) -> 39455239697206586511897471180120610571436503407643446275224357528369751562996629334879591940103770870906880000000000000000000\n",
      "Result: [0.01065s] fact_func(84) -> 3314240134565353266999387579130131288000666286242049487118846032383059131291716864129885722968716753156177920000000000000000000\n",
      "Result: [0.01066s] fact_func(85) -> 281710411438055027694947944226061159480056634330574206405101912752560026159795933451040286452340924018275123200000000000000000000\n",
      "Result: [0.01067s] fact_func(86) -> 24227095383672732381765523203441259715284870552429381750838764496720162249742450276789464634901319465571660595200000000000000000000\n",
      "Result: [0.01068s] fact_func(87) -> 2107757298379527717213600518699389595229783738061356212322972511214654115727593174080683423236414793504734471782400000000000000000000\n",
      "Result: [0.01069s] fact_func(88) -> 185482642257398439114796845645546284380220968949399346684421580986889562184028199319100141244804501828416633516851200000000000000000000\n",
      "Result: [0.01069s] fact_func(89) -> 16507955160908461081216919262453619309839666236496541854913520707833171034378509739399912570787600662729080382999756800000000000000000000\n",
      "Result: [0.01070s] fact_func(90) -> 1485715964481761497309522733620825737885569961284688766942216863704985393094065876545992131370884059645617234469978112000000000000000000000\n",
      "Result: [0.01072s] fact_func(91) -> 135200152767840296255166568759495142147586866476906677791741734597153670771559994765685283954750449427751168336768008192000000000000000000000\n",
      "Result: [0.01073s] fact_func(92) -> 12438414054641307255475324325873553077577991715875414356840239582938137710983519518443046123837041347353107486982656753664000000000000000000000\n",
      "Result: [0.01074s] fact_func(93) -> 1156772507081641574759205162306240436214753229576413535186142281213246807121467315215203289516844845303838996289387078090752000000000000000000000\n",
      "Result: [0.01116s] fact_func(94) -> 108736615665674308027365285256786601004186803580182872307497374434045199869417927630229109214583415458560865651202385340530688000000000000000000000\n",
      "Result: [0.01119s] fact_func(95) -> 10329978488239059262599702099394727095397746340117372869212250571234293987594703124871765375385424468563282236864226607350415360000000000000000000000\n",
      "Result: [0.01120s] fact_func(96) -> 991677934870949689209571401541893801158183648651267795444376054838492222809091499987689476037000748982075094738965754305639874560000000000000000000000\n",
      "Result: [0.01122s] fact_func(97) -> 96192759682482119853328425949563698712343813919172976158104477319333745612481875498805879175589072651261284189679678167647067832320000000000000000000000\n",
      "Result: [0.01126s] fact_func(98) -> 9426890448883247745626185743057242473809693764078951663494238777294707070023223798882976159207729119823605850588608460429412647567360000000000000000000000\n",
      "Result: [0.01128s] fact_func(99) -> 933262154439441526816992388562667004907159682643816214685929638952175999932299156089414639761565182862536979208272237582511852109168640000000000000000000000\n",
      "Result: [0.01131s] fact_func(100) -> 93326215443944152681699238856266700490715968264381621468592963895217599993229915608941463976156518286253697920827223758251185210916864000000000000000000000000\n"
     ]
    },
    {
     "data": {
      "text/plain": [
       "93326215443944152681699238856266700490715968264381621468592963895217599993229915608941463976156518286253697920827223758251185210916864000000000000000000000000"
      ]
     },
     "execution_count": 140,
     "metadata": {},
     "output_type": "execute_result"
    }
   ],
   "source": [
    "print('*' * 40, 'Called Deco -> fact_func')\n",
    "fact_func(100)"
   ]
  }
 ],
 "metadata": {
  "kernelspec": {
   "display_name": "Python 3",
   "language": "python",
   "name": "python3"
  },
  "language_info": {
   "codemirror_mode": {
    "name": "ipython",
    "version": 3
   },
   "file_extension": ".py",
   "mimetype": "text/x-python",
   "name": "python",
   "nbconvert_exporter": "python",
   "pygments_lexer": "ipython3",
   "version": "3.8.8"
  }
 },
 "nbformat": 4,
 "nbformat_minor": 5
}
