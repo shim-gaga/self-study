{
 "cells": [
  {
   "cell_type": "markdown",
   "id": "bee6b7c1",
   "metadata": {},
   "source": [
    "# 📍 Sequence\n",
    "list comprehension\n",
    "Container vs flat\n",
    "generator\n",
    "list vs array\n",
    "mutable vs immutable\n",
    "sort vs sorted"
   ]
  },
  {
   "cell_type": "markdown",
   "id": "7e4129b7",
   "metadata": {},
   "source": [
    "## 시퀀스형 \n",
    "* 컨테이너(container): 서로 다른 자료형 저장 [list, tuple, collections.deque]\n",
    "* flat: 한 개의 자료형만 저장 [str, bytes, bytearray, array.array, memoryview]\n",
    "* 가변: list, bytearray, array.array, memoryview, deque\n",
    "* 불변: tuple, str, bytes"
   ]
  },
  {
   "cell_type": "markdown",
   "id": "d60afca2",
   "metadata": {},
   "source": [
    "# 1. Advanced List & Tuple"
   ]
  },
  {
   "cell_type": "markdown",
   "id": "7dae13bc",
   "metadata": {},
   "source": [
    "### 지능형 리스트 (Comprehending Lists)\n",
    "데이터의 양이 현저히 많아질 경우 list comprehension의 속도가 더 우수하다."
   ]
  },
  {
   "cell_type": "code",
   "execution_count": 1,
   "id": "6c967b6d",
   "metadata": {},
   "outputs": [
    {
     "name": "stdout",
     "output_type": "stream",
     "text": [
      "[33, 64, 35, 37, 36, 94, 38, 42, 40, 41]\n"
     ]
    }
   ],
   "source": [
    "# non comprehending lists\n",
    "chars = '!@#%$^&*()'\n",
    "code1 = []\n",
    "\n",
    "for s in chars:\n",
    "    code1.append(ord(s))\n",
    "    \n",
    "print(code1)"
   ]
  },
  {
   "cell_type": "code",
   "execution_count": 4,
   "id": "270a59ef",
   "metadata": {},
   "outputs": [
    {
     "name": "stdout",
     "output_type": "stream",
     "text": [
      "[33, 64, 35, 37, 36, 94, 38, 42, 40, 41]\n"
     ]
    }
   ],
   "source": [
    "# comprehending lists\n",
    "code2 = [ord(s) for s in chars]\n",
    "\n",
    "print(code2)"
   ]
  },
  {
   "cell_type": "code",
   "execution_count": 5,
   "id": "f89e8a1d",
   "metadata": {},
   "outputs": [
    {
     "name": "stdout",
     "output_type": "stream",
     "text": [
      "[64, 94, 42, 41]\n"
     ]
    }
   ],
   "source": [
    "# comprehending lists\n",
    "code3 = [ord(s) for s in chars if ord(s) > 40]\n",
    "\n",
    "print(code3)"
   ]
  },
  {
   "cell_type": "markdown",
   "id": "86513528",
   "metadata": {},
   "source": [
    "### List Comprehension + Map, Filter"
   ]
  },
  {
   "cell_type": "code",
   "execution_count": 8,
   "id": "01ad862d",
   "metadata": {},
   "outputs": [
    {
     "name": "stdout",
     "output_type": "stream",
     "text": [
      "[64, 94, 42, 41]\n"
     ]
    }
   ],
   "source": [
    "code4 = list(filter(lambda x: x > 40, map(ord, chars)))\n",
    "\n",
    "print(code4)"
   ]
  },
  {
   "cell_type": "code",
   "execution_count": 12,
   "id": "21aa69d0",
   "metadata": {},
   "outputs": [
    {
     "name": "stdout",
     "output_type": "stream",
     "text": [
      "['!', '@', '#', '%', '$', '^', '&', '*', '(', ')']\n",
      "['!', '@', '#', '%', '$', '^', '&', '*', '(', ')']\n",
      "['@', '^', '*', ')']\n",
      "['@', '^', '*', ')']\n"
     ]
    }
   ],
   "source": [
    "print([chr(s) for s in code1])\n",
    "print([chr(s) for s in code2])\n",
    "print([chr(s) for s in code3])\n",
    "print([chr(s) for s in code4])"
   ]
  },
  {
   "cell_type": "markdown",
   "id": "a8e07455",
   "metadata": {},
   "source": [
    "## Generator\n",
    "**Generator: 한 번에 한 개의 항목을 생성 (메모리 유지 x)**   \n",
    "튜플 괄호 안에 반복 구문을 쓰면 제너레이터가 생성된다. 리스트를 만들면 값들을 메모리에 바로 올리기 때문에 출력하면 값들을 바로 확인할 수 있으며, 그에 따라 메모리 사용량이 많아진다. 반면에, 제너레이터를 저장한 변수 안에는 값을 생성하지 않고 줄만 세워놓고 값은 입장하지 않는다. 즉, 값을 메모리를 올리지 않는다.  그래서 제너레이터의 값이 나오게 하려면 next() 함수를 사용한다. 이때, next() 함수를 한 번 호출 할 때마다 한 개의 값만 생성된다."
   ]
  },
  {
   "cell_type": "code",
   "execution_count": 13,
   "id": "bd300d28",
   "metadata": {},
   "outputs": [
    {
     "name": "stdout",
     "output_type": "stream",
     "text": [
      "<generator object <genexpr> at 0x7f88585315f0>\n"
     ]
    }
   ],
   "source": [
    "import array\n",
    "tuple_g = (ord(s) for s in chars)\n",
    "print(tuple_g)"
   ]
  },
  {
   "cell_type": "code",
   "execution_count": 14,
   "id": "1e1463b3",
   "metadata": {},
   "outputs": [
    {
     "name": "stdout",
     "output_type": "stream",
     "text": [
      "33\n",
      "64\n",
      "35\n"
     ]
    }
   ],
   "source": [
    "print(next(tuple_g))\n",
    "print(next(tuple_g))\n",
    "print(next(tuple_g))"
   ]
  },
  {
   "attachments": {},
   "cell_type": "markdown",
   "id": "8529f800",
   "metadata": {},
   "source": [
    "## Array\n",
    "하나의 자료형만 저장할 때는 array를 쓰는 것이 좋다. array를 생성할 때는 자료형을 같이 지정해주어야 하는데, 형 코드는 아래의 링크에서 확인할 수 있다.<br><br>\n",
    "array 사용 예시:<br>\n",
    "* array('l')<br>\n",
    "* array('u', 'hello \\u2641')<br>\n",
    "* array('l', [1, 2, 3, 4, 5])<br>\n",
    "* array('d', [1.0, 2.0, 3.14])<br>\n",
    "<br>\n",
    "https://docs.python.org/ko/3/library/array.html"
   ]
  },
  {
   "cell_type": "code",
   "execution_count": 17,
   "id": "2e9abad1",
   "metadata": {},
   "outputs": [
    {
     "name": "stdout",
     "output_type": "stream",
     "text": [
      "array('I', [33, 64, 35, 37, 36, 94, 38, 42, 40, 41])\n",
      "[33, 64, 35, 37, 36, 94, 38, 42, 40, 41]\n"
     ]
    }
   ],
   "source": [
    "# array\n",
    "array_g = array.array('I', (ord(s) for s in chars))\n",
    "print(array_g)\n",
    "print(array_g.tolist())"
   ]
  },
  {
   "cell_type": "code",
   "execution_count": 18,
   "id": "0e8b24b9",
   "metadata": {},
   "outputs": [
    {
     "name": "stdout",
     "output_type": "stream",
     "text": [
      "<generator object <genexpr> at 0x7f885853e0b0>\n"
     ]
    }
   ],
   "source": [
    "# generator 예제\n",
    "print(('%s' % c + str(n) for c in ['A', 'B', 'C', 'D'] for n in range(1, 11)))"
   ]
  },
  {
   "cell_type": "code",
   "execution_count": 19,
   "id": "1fc0a153",
   "metadata": {
    "scrolled": true
   },
   "outputs": [
    {
     "name": "stdout",
     "output_type": "stream",
     "text": [
      "A1\n",
      "A2\n",
      "A3\n",
      "A4\n",
      "A5\n",
      "A6\n",
      "A7\n",
      "A8\n",
      "A9\n",
      "A10\n",
      "B1\n",
      "B2\n",
      "B3\n",
      "B4\n",
      "B5\n",
      "B6\n",
      "B7\n",
      "B8\n",
      "B9\n",
      "B10\n",
      "C1\n",
      "C2\n",
      "C3\n",
      "C4\n",
      "C5\n",
      "C6\n",
      "C7\n",
      "C8\n",
      "C9\n",
      "C10\n",
      "D1\n",
      "D2\n",
      "D3\n",
      "D4\n",
      "D5\n",
      "D6\n",
      "D7\n",
      "D8\n",
      "D9\n",
      "D10\n"
     ]
    }
   ],
   "source": [
    "for s in ('%s' % c + str(n) for c in ['A', 'B', 'C', 'D'] for n in range(1, 11)):\n",
    "    print(s)"
   ]
  },
  {
   "cell_type": "markdown",
   "id": "a09277a3",
   "metadata": {},
   "source": [
    "### 리스트 사용시 주의할 점"
   ]
  },
  {
   "cell_type": "code",
   "execution_count": 21,
   "id": "1caebcf9",
   "metadata": {},
   "outputs": [
    {
     "name": "stdout",
     "output_type": "stream",
     "text": [
      "[['~', '~', '~'], ['~', '~', '~'], ['~', '~', '~']]\n",
      "[['~', '~', '~'], ['~', '~', '~'], ['~', '~', '~']]\n"
     ]
    }
   ],
   "source": [
    "# 리스트 주의 할 점\n",
    "marks1 = [['~'] * 3 for n in range(3)]\n",
    "marks2 = [['~'] * 3] * 3\n",
    "\n",
    "# marks1과 marks2는 똑같아 보인다.\n",
    "print(marks1)\n",
    "print(marks2)"
   ]
  },
  {
   "cell_type": "code",
   "execution_count": 22,
   "id": "85fa085d",
   "metadata": {},
   "outputs": [
    {
     "name": "stdout",
     "output_type": "stream",
     "text": [
      "[['~', 'x', '~'], ['~', '~', '~'], ['~', '~', '~']]\n",
      "[['~', 'x', '~'], ['~', 'x', '~'], ['~', 'x', '~']]\n"
     ]
    }
   ],
   "source": [
    "# 그러나 동일한 위치의 값을 바꾸면\n",
    "marks1[0][1] = 'x'\n",
    "marks2[0][1] = 'x'\n",
    "\n",
    "# marks2는 marks2[n][1]이 전부 'x'로 바뀌었다.\n",
    "print(marks1)\n",
    "print(marks2)"
   ]
  },
  {
   "cell_type": "code",
   "execution_count": 23,
   "id": "66f22e17",
   "metadata": {},
   "outputs": [
    {
     "name": "stdout",
     "output_type": "stream",
     "text": [
      "[140223573166016, 140223573165504, 140223573165312]\n",
      "[140223573097216, 140223573097216, 140223573097216]\n"
     ]
    }
   ],
   "source": [
    "# 증명\n",
    "print([id(i) for i in marks1])\n",
    "print([id(i) for i in marks2])"
   ]
  },
  {
   "attachments": {},
   "cell_type": "markdown",
   "id": "d2dbcfca",
   "metadata": {},
   "source": [
    "## Tuple Advanced\n",
    "tuple은 immutable이기 때문에 값 변경이 이루어지면 id 값이 변경된다.\n",
    "### Packing & Unpacking\n",
    "https://wikidocs.net/22801\n",
    "### 함수 파라미터\n",
    "* 순서: 일반 변수, \\*, \\**\n",
    "* \\*: 여러 개가 argument로 들어올 때, 함수 내부에서는 이것들을 튜플로 처리\n",
    "* \\**: 키워드='값'이 argument로 들어올 때, 각각 키워드와 값을 딕셔너리로 처리"
   ]
  },
  {
   "cell_type": "code",
   "execution_count": 27,
   "id": "5f817597",
   "metadata": {},
   "outputs": [
    {
     "name": "stdout",
     "output_type": "stream",
     "text": [
      "(11, 1)\n",
      "(11, 1)\n",
      "11 1\n"
     ]
    }
   ],
   "source": [
    "print(divmod(100, 9))\n",
    "print(divmod(*(100, 9))) # *: unpacking 알아서 풀어서 계산\n",
    "print(*(divmod(100, 9))) "
   ]
  },
  {
   "cell_type": "code",
   "execution_count": 28,
   "id": "3391a114",
   "metadata": {},
   "outputs": [
    {
     "name": "stdout",
     "output_type": "stream",
     "text": [
      "0 1 [2, 3, 4, 5, 6, 7, 8, 9]\n"
     ]
    }
   ],
   "source": [
    "x, y, *rest = range(10)\n",
    "print(x, y, rest)"
   ]
  },
  {
   "cell_type": "code",
   "execution_count": 30,
   "id": "dc5a5685",
   "metadata": {},
   "outputs": [
    {
     "name": "stdout",
     "output_type": "stream",
     "text": [
      "0 1 []\n"
     ]
    }
   ],
   "source": [
    "x, y, *rest = range(2)\n",
    "print(x, y, rest)"
   ]
  },
  {
   "cell_type": "code",
   "execution_count": 31,
   "id": "46b319c4",
   "metadata": {},
   "outputs": [
    {
     "name": "stdout",
     "output_type": "stream",
     "text": [
      "1 2 [3, 4, 5]\n"
     ]
    }
   ],
   "source": [
    "x, y, *rest = 1, 2, 3, 4, 5\n",
    "print(x, y, rest)"
   ]
  },
  {
   "cell_type": "markdown",
   "id": "f28243ff",
   "metadata": {},
   "source": [
    "## Mutable(가변) vs Immutable(불변)"
   ]
  },
  {
   "cell_type": "code",
   "execution_count": 35,
   "id": "29145445",
   "metadata": {},
   "outputs": [
    {
     "name": "stdout",
     "output_type": "stream",
     "text": [
      "(10, 15, 20) [10, 15, 20] 140223573381952 140223574247360\n"
     ]
    }
   ],
   "source": [
    "l = (10, 15, 20)\n",
    "m = [10, 15, 20]\n",
    "\n",
    "print(l, m, id(l), id(m))"
   ]
  },
  {
   "cell_type": "code",
   "execution_count": 36,
   "id": "670e12a6",
   "metadata": {},
   "outputs": [
    {
     "name": "stdout",
     "output_type": "stream",
     "text": [
      "(10, 15, 20, 10, 15, 20) [10, 15, 20, 10, 15, 20] 140223573284992 140223573097344\n"
     ]
    }
   ],
   "source": [
    "# 새롭게 할당. 즉, id 값이 달라짐\n",
    "# 튜플은 원소의 값을 바꾸는 것은 안되지만 길이 확장은 가능\n",
    "l = l * 2\n",
    "m = m * 2\n",
    "\n",
    "print(l, m, id(l), id(m))"
   ]
  },
  {
   "cell_type": "code",
   "execution_count": 37,
   "id": "633c0548",
   "metadata": {},
   "outputs": [
    {
     "name": "stdout",
     "output_type": "stream",
     "text": [
      "(10, 15, 20, 10, 15, 20, 10, 15, 20, 10, 15, 20) [10, 15, 20, 10, 15, 20, 10, 15, 20, 10, 15, 20] 140223573298912 140223573097344\n"
     ]
    }
   ],
   "source": [
    "# 리스트: 얕은 복사. 객체 자체를 활용. 즉, id 값이 변하지 않음\n",
    "# 튜플: 값이 바뀌었기 때문에 새롭게 할당\n",
    "l *= 2\n",
    "m *= 2\n",
    "\n",
    "print(l, m, id(l), id(m))"
   ]
  },
  {
   "cell_type": "markdown",
   "id": "d3cf521b",
   "metadata": {},
   "source": [
    "## sort vs sorted\n",
    "reverse, key=len, key=str.lower, key=func  \n",
    "* sorted: 정렬 후 **새로운** 객체 반환한다. 이때, 원본 리스트는 정렬하지 않는다.\n",
    "* sort: 원본 리스트를 정렬한다,"
   ]
  },
  {
   "cell_type": "code",
   "execution_count": 44,
   "id": "8d043f46",
   "metadata": {},
   "outputs": [
    {
     "name": "stdout",
     "output_type": "stream",
     "text": [
      "오름차순 정렬\n",
      " ['apple', 'coconut', 'lemon', 'mango', 'orange', 'papaya', 'straberry']\n",
      "\n",
      "내림차순 정렬, reverse=True\n",
      " ['straberry', 'papaya', 'orange', 'mango', 'lemon', 'coconut', 'apple']\n",
      "\n",
      "길이 순으로 정렬, key=len\n",
      " ['apple', 'mango', 'lemon', 'orange', 'papaya', 'coconut', 'straberry']\n",
      "\n",
      "길이 순으로 내림차순 정렬, key=len, reverse=True\n",
      " ['straberry', 'coconut', 'orange', 'papaya', 'apple', 'mango', 'lemon']\n",
      "\n",
      "끝 글자를 기준으로 정렬, key=lambda x: x[-1]\n",
      " ['papaya', 'orange', 'apple', 'lemon', 'mango', 'coconut', 'straberry']\n",
      "\n",
      "끝 글자를 기준으로 내림차순 정렬, key=lambda x: x[-1], reverse=True\n",
      " ['straberry', 'coconut', 'mango', 'lemon', 'orange', 'apple', 'papaya']\n",
      "\n"
     ]
    }
   ],
   "source": [
    "f_list = ['orange', 'apple', 'mango', 'papaya', 'lemon', 'straberry', 'coconut']\n",
    "\n",
    "# sorted: 정렬 후 '새로운' 객체 반환\n",
    "print('오름차순 정렬\\n', sorted(f_list))\n",
    "print()\n",
    "\n",
    "print('내림차순 정렬, reverse=True\\n', sorted(f_list, reverse=True))\n",
    "print()\n",
    "\n",
    "print('길이 순으로 정렬, key=len\\n', sorted(f_list, key=len)) # 길이 순으로 정렬\n",
    "print()\n",
    "\n",
    "print('길이 순으로 내림차순 정렬, key=len, reverse=True\\n', sorted(f_list, key=len, reverse=True))\n",
    "print()\n",
    "\n",
    "print('끝 글자를 기준으로 정렬, key=lambda x: x[-1]\\n', sorted(f_list, key=lambda x: x[-1]))\n",
    "print()\n",
    "\n",
    "print('끝 글자를 기준으로 내림차순 정렬, key=lambda x: x[-1], reverse=True\\n', sorted(f_list, key=lambda x: x[-1], reverse=True))\n",
    "print()"
   ]
  },
  {
   "cell_type": "code",
   "execution_count": 45,
   "id": "c7f59c08",
   "metadata": {},
   "outputs": [
    {
     "data": {
      "text/plain": [
       "['orange', 'apple', 'mango', 'papaya', 'lemon', 'straberry', 'coconut']"
      ]
     },
     "execution_count": 45,
     "metadata": {},
     "output_type": "execute_result"
    }
   ],
   "source": [
    "# 원본 리스트는 바뀌지 않음\n",
    "f_list"
   ]
  },
  {
   "cell_type": "code",
   "execution_count": 47,
   "id": "b89cf348",
   "metadata": {},
   "outputs": [
    {
     "name": "stdout",
     "output_type": "stream",
     "text": [
      "None ['apple', 'coconut', 'lemon', 'mango', 'orange', 'papaya', 'straberry']\n"
     ]
    }
   ],
   "source": [
    "# sort: 정렬 후 객체 직접 변경\n",
    "# 반환 값 확인 None\n",
    "a = f_list.sort()\n",
    "print(a, f_list)"
   ]
  },
  {
   "cell_type": "code",
   "execution_count": 51,
   "id": "d5938771",
   "metadata": {},
   "outputs": [
    {
     "name": "stdout",
     "output_type": "stream",
     "text": [
      "None ['apple', 'coconut', 'lemon', 'mango', 'orange', 'papaya', 'straberry']\n",
      "None ['straberry', 'papaya', 'orange', 'mango', 'lemon', 'coconut', 'apple']\n",
      "None ['papaya', 'orange', 'apple', 'lemon', 'mango', 'coconut', 'straberry']\n",
      "None ['straberry', 'coconut', 'mango', 'lemon', 'orange', 'apple', 'papaya']\n"
     ]
    }
   ],
   "source": [
    "print(f_list.sort(), f_list)\n",
    "print(f_list.sort(reverse=True), f_list)\n",
    "print(f_list.sort(key=lambda x: x[-1]), f_list)\n",
    "print(f_list.sort(key=lambda x: x[-1], reverse=True), f_list)"
   ]
  },
  {
   "cell_type": "markdown",
   "id": "2364ca29",
   "metadata": {},
   "source": [
    "# 2. Advanced Dict & Set\n",
    "### 해시테이블(hashtable)\n",
    "키(Key)에 데이터(Value)를 저장하는 데이터 구조이다.적은 리소스로 많은 데이터를 효율적으로 관리할 수 있다.  \n",
    "https://velog.io/@2seunghye/%ED%8C%8C%EC%9D%B4%EC%8D%AC%EA%B3%BC-%EC%9E%90%EB%A3%8C%EA%B5%AC%EC%A1%B0%ED%95%B4%EC%89%AC-%ED%85%8C%EC%9D%B4%EB%B8%94  \n",
    "\n",
    "### Dictionary\n",
    "key 중복 허용 x\n",
    "\n",
    "### Set\n",
    "중복 허용 x\n",
    "순서가 없다(Unordered)  \n",
    "https://wikidocs.net/1015"
   ]
  },
  {
   "cell_type": "code",
   "execution_count": 52,
   "id": "c74b7eec",
   "metadata": {},
   "outputs": [
    {
     "name": "stdout",
     "output_type": "stream",
     "text": [
      "{'__name__': 'builtins', '__doc__': \"Built-in functions, exceptions, and other objects.\\n\\nNoteworthy: None is the `nil' object; Ellipsis represents `...' in slices.\", '__package__': '', '__loader__': <class '_frozen_importlib.BuiltinImporter'>, '__spec__': ModuleSpec(name='builtins', loader=<class '_frozen_importlib.BuiltinImporter'>), '__build_class__': <built-in function __build_class__>, '__import__': <built-in function __import__>, 'abs': <built-in function abs>, 'all': <built-in function all>, 'any': <built-in function any>, 'ascii': <built-in function ascii>, 'bin': <built-in function bin>, 'breakpoint': <built-in function breakpoint>, 'callable': <built-in function callable>, 'chr': <built-in function chr>, 'compile': <built-in function compile>, 'delattr': <built-in function delattr>, 'dir': <built-in function dir>, 'divmod': <built-in function divmod>, 'eval': <built-in function eval>, 'exec': <built-in function exec>, 'format': <built-in function format>, 'getattr': <built-in function getattr>, 'globals': <built-in function globals>, 'hasattr': <built-in function hasattr>, 'hash': <built-in function hash>, 'hex': <built-in function hex>, 'id': <built-in function id>, 'input': <bound method Kernel.raw_input of <ipykernel.ipkernel.IPythonKernel object at 0x7f885829b4c0>>, 'isinstance': <built-in function isinstance>, 'issubclass': <built-in function issubclass>, 'iter': <built-in function iter>, 'len': <built-in function len>, 'locals': <built-in function locals>, 'max': <built-in function max>, 'min': <built-in function min>, 'next': <built-in function next>, 'oct': <built-in function oct>, 'ord': <built-in function ord>, 'pow': <built-in function pow>, 'print': <built-in function print>, 'repr': <built-in function repr>, 'round': <built-in function round>, 'setattr': <built-in function setattr>, 'sorted': <built-in function sorted>, 'sum': <built-in function sum>, 'vars': <built-in function vars>, 'None': None, 'Ellipsis': Ellipsis, 'NotImplemented': NotImplemented, 'False': False, 'True': True, 'bool': <class 'bool'>, 'memoryview': <class 'memoryview'>, 'bytearray': <class 'bytearray'>, 'bytes': <class 'bytes'>, 'classmethod': <class 'classmethod'>, 'complex': <class 'complex'>, 'dict': <class 'dict'>, 'enumerate': <class 'enumerate'>, 'filter': <class 'filter'>, 'float': <class 'float'>, 'frozenset': <class 'frozenset'>, 'property': <class 'property'>, 'int': <class 'int'>, 'list': <class 'list'>, 'map': <class 'map'>, 'object': <class 'object'>, 'range': <class 'range'>, 'reversed': <class 'reversed'>, 'set': <class 'set'>, 'slice': <class 'slice'>, 'staticmethod': <class 'staticmethod'>, 'str': <class 'str'>, 'super': <class 'super'>, 'tuple': <class 'tuple'>, 'type': <class 'type'>, 'zip': <class 'zip'>, '__debug__': True, 'BaseException': <class 'BaseException'>, 'Exception': <class 'Exception'>, 'TypeError': <class 'TypeError'>, 'StopAsyncIteration': <class 'StopAsyncIteration'>, 'StopIteration': <class 'StopIteration'>, 'GeneratorExit': <class 'GeneratorExit'>, 'SystemExit': <class 'SystemExit'>, 'KeyboardInterrupt': <class 'KeyboardInterrupt'>, 'ImportError': <class 'ImportError'>, 'ModuleNotFoundError': <class 'ModuleNotFoundError'>, 'OSError': <class 'OSError'>, 'EnvironmentError': <class 'OSError'>, 'IOError': <class 'OSError'>, 'EOFError': <class 'EOFError'>, 'RuntimeError': <class 'RuntimeError'>, 'RecursionError': <class 'RecursionError'>, 'NotImplementedError': <class 'NotImplementedError'>, 'NameError': <class 'NameError'>, 'UnboundLocalError': <class 'UnboundLocalError'>, 'AttributeError': <class 'AttributeError'>, 'SyntaxError': <class 'SyntaxError'>, 'IndentationError': <class 'IndentationError'>, 'TabError': <class 'TabError'>, 'LookupError': <class 'LookupError'>, 'IndexError': <class 'IndexError'>, 'KeyError': <class 'KeyError'>, 'ValueError': <class 'ValueError'>, 'UnicodeError': <class 'UnicodeError'>, 'UnicodeEncodeError': <class 'UnicodeEncodeError'>, 'UnicodeDecodeError': <class 'UnicodeDecodeError'>, 'UnicodeTranslateError': <class 'UnicodeTranslateError'>, 'AssertionError': <class 'AssertionError'>, 'ArithmeticError': <class 'ArithmeticError'>, 'FloatingPointError': <class 'FloatingPointError'>, 'OverflowError': <class 'OverflowError'>, 'ZeroDivisionError': <class 'ZeroDivisionError'>, 'SystemError': <class 'SystemError'>, 'ReferenceError': <class 'ReferenceError'>, 'MemoryError': <class 'MemoryError'>, 'BufferError': <class 'BufferError'>, 'Warning': <class 'Warning'>, 'UserWarning': <class 'UserWarning'>, 'DeprecationWarning': <class 'DeprecationWarning'>, 'PendingDeprecationWarning': <class 'PendingDeprecationWarning'>, 'SyntaxWarning': <class 'SyntaxWarning'>, 'RuntimeWarning': <class 'RuntimeWarning'>, 'FutureWarning': <class 'FutureWarning'>, 'ImportWarning': <class 'ImportWarning'>, 'UnicodeWarning': <class 'UnicodeWarning'>, 'BytesWarning': <class 'BytesWarning'>, 'ResourceWarning': <class 'ResourceWarning'>, 'ConnectionError': <class 'ConnectionError'>, 'BlockingIOError': <class 'BlockingIOError'>, 'BrokenPipeError': <class 'BrokenPipeError'>, 'ChildProcessError': <class 'ChildProcessError'>, 'ConnectionAbortedError': <class 'ConnectionAbortedError'>, 'ConnectionRefusedError': <class 'ConnectionRefusedError'>, 'ConnectionResetError': <class 'ConnectionResetError'>, 'FileExistsError': <class 'FileExistsError'>, 'FileNotFoundError': <class 'FileNotFoundError'>, 'IsADirectoryError': <class 'IsADirectoryError'>, 'NotADirectoryError': <class 'NotADirectoryError'>, 'InterruptedError': <class 'InterruptedError'>, 'PermissionError': <class 'PermissionError'>, 'ProcessLookupError': <class 'ProcessLookupError'>, 'TimeoutError': <class 'TimeoutError'>, 'open': <built-in function open>, 'copyright': Copyright (c) 2001-2021 Python Software Foundation.\n",
      "All Rights Reserved.\n",
      "\n",
      "Copyright (c) 2000 BeOpen.com.\n",
      "All Rights Reserved.\n",
      "\n",
      "Copyright (c) 1995-2001 Corporation for National Research Initiatives.\n",
      "All Rights Reserved.\n",
      "\n",
      "Copyright (c) 1991-1995 Stichting Mathematisch Centrum, Amsterdam.\n",
      "All Rights Reserved., 'credits':     Thanks to CWI, CNRI, BeOpen.com, Zope Corporation and a cast of thousands\n",
      "    for supporting Python development.  See www.python.org for more information., 'license': Type license() to see the full license text, 'help': Type help() for interactive help, or help(object) for help about object., '__IPYTHON__': True, 'display': <function display at 0x7f885708c9d0>, 'get_ipython': <bound method InteractiveShell.get_ipython of <ipykernel.zmqshell.ZMQInteractiveShell object at 0x7f88582798e0>>}\n"
     ]
    }
   ],
   "source": [
    "# Dict 구조\n",
    "print(__builtins__.__dict__)"
   ]
  },
  {
   "cell_type": "code",
   "execution_count": 54,
   "id": "f49a3237",
   "metadata": {},
   "outputs": [
    {
     "name": "stdout",
     "output_type": "stream",
     "text": [
      "465510690262297113\n"
     ]
    },
    {
     "ename": "TypeError",
     "evalue": "unhashable type: 'list'",
     "output_type": "error",
     "traceback": [
      "\u001b[0;31m---------------------------------------------------------------------------\u001b[0m",
      "\u001b[0;31mTypeError\u001b[0m                                 Traceback (most recent call last)",
      "\u001b[0;32m<ipython-input-54-ebfc27c6b2a1>\u001b[0m in \u001b[0;36m<module>\u001b[0;34m\u001b[0m\n\u001b[1;32m      4\u001b[0m \u001b[0;34m\u001b[0m\u001b[0m\n\u001b[1;32m      5\u001b[0m \u001b[0mprint\u001b[0m\u001b[0;34m(\u001b[0m\u001b[0mhash\u001b[0m\u001b[0;34m(\u001b[0m\u001b[0mt1\u001b[0m\u001b[0;34m)\u001b[0m\u001b[0;34m)\u001b[0m\u001b[0;34m\u001b[0m\u001b[0;34m\u001b[0m\u001b[0m\n\u001b[0;32m----> 6\u001b[0;31m \u001b[0mprint\u001b[0m\u001b[0;34m(\u001b[0m\u001b[0mhash\u001b[0m\u001b[0;34m(\u001b[0m\u001b[0mt2\u001b[0m\u001b[0;34m)\u001b[0m\u001b[0;34m)\u001b[0m\u001b[0;34m\u001b[0m\u001b[0;34m\u001b[0m\u001b[0m\n\u001b[0m",
      "\u001b[0;31mTypeError\u001b[0m: unhashable type: 'list'"
     ]
    }
   ],
   "source": [
    "# hash 값 확인 (중복이 되는지 안되는지 확인)\n",
    "t1 = (10, 20, (30, 40, 50))\n",
    "t2 = (10, 20, [30, 40, 50]) # 중복 체크 의미 없음. 리스트는 값 변경이 가능하기 때문\n",
    "\n",
    "print(hash(t1))\n",
    "print(hash(t2)) # 에러 발생"
   ]
  },
  {
   "cell_type": "markdown",
   "id": "46339253",
   "metadata": {},
   "source": [
    "## 지능형 딕셔너리 (Comprehending Dict)"
   ]
  },
  {
   "cell_type": "code",
   "execution_count": 55,
   "id": "dcfa6398",
   "metadata": {},
   "outputs": [
    {
     "name": "stdout",
     "output_type": "stream",
     "text": [
      "[('Afghanistan', 'AF'), ('Åland Islands', 'AX'), ('Albania', 'AL'), ('Algeria', 'DZ'), ('American Samoa', 'AS'), ('Andorra', 'AD'), ('Angola', 'AO'), ('Anguilla', 'AI'), ('Antarctica', 'AQ'), ('Antigua and Barbuda', 'AG'), ('Argentina', 'AR'), ('Armenia', 'AM'), ('Aruba', 'AW'), ('Australia', 'AU'), ('Austria', 'AT'), ('Azerbaijan', 'AZ'), ('Bahamas', 'BS'), ('Bahrain', 'BH'), ('Bangladesh', 'BD'), ('Barbados', 'BB'), ('Belarus', 'BY'), ('Belgium', 'BE'), ('Belize', 'BZ'), ('Benin', 'BJ'), ('Bermuda', 'BM'), ('Bhutan', 'BT'), ('Bolivia, Plurinational State of', 'BO'), ('Bonaire, Sint Eustatius and Saba', 'BQ'), ('Bosnia and Herzegovina', 'BA'), ('Botswana', 'BW'), ('Bouvet Island', 'BV'), ('Brazil', 'BR'), ('British Indian Ocean Territory', 'IO'), ('Brunei Darussalam', 'BN'), ('Bulgaria', 'BG'), ('Burkina Faso', 'BF'), ('Burundi', 'BI'), ('Cambodia', 'KH'), ('Cameroon', 'CM'), ('Canada', 'CA'), ('Cape Verde', 'CV'), ('Cayman Islands', 'KY'), ('Central African Republic', 'CF'), ('Chad', 'TD'), ('Chile', 'CL'), ('China', 'CN'), ('Christmas Island', 'CX'), ('Cocos (Keeling) Islands', 'CC'), ('Colombia', 'CO'), ('Comoros', 'KM'), ('Congo', 'CG'), ('Congo, the Democratic Republic of the', 'CD'), ('Cook Islands', 'CK'), ('Costa Rica', 'CR'), (\"Côte d'Ivoire\", 'CI'), ('Croatia', 'HR'), ('Cuba', 'CU'), ('Curaçao', 'CW'), ('Cyprus', 'CY'), ('Czech Republic', 'CZ'), ('Denmark', 'DK'), ('Djibouti', 'DJ'), ('Dominica', 'DM'), ('Dominican Republic', 'DO'), ('Ecuador', 'EC'), ('Egypt', 'EG'), ('El Salvador', 'SV'), ('Equatorial Guinea', 'GQ'), ('Eritrea', 'ER'), ('Estonia', 'EE'), ('Ethiopia', 'ET'), ('Falkland Islands (Malvinas)', 'FK'), ('Faroe Islands', 'FO'), ('Fiji', 'FJ'), ('Finland', 'FI'), ('France', 'FR'), ('French Guiana', 'GF'), ('French Polynesia', 'PF'), ('French Southern Territories', 'TF'), ('Gabon', 'GA'), ('Gambia', 'GM'), ('Georgia', 'GE'), ('Germany', 'DE'), ('Ghana', 'GH'), ('Gibraltar', 'GI'), ('Greece', 'GR'), ('Greenland', 'GL'), ('Grenada', 'GD'), ('Guadeloupe', 'GP'), ('Guam', 'GU'), ('Guatemala', 'GT'), ('Guernsey', 'GG'), ('Guinea', 'GN'), ('Guinea-Bissau', 'GW'), ('Guyana', 'GY'), ('Haiti', 'HT'), ('Heard Island and McDonald Islands', 'HM'), ('Holy See (Vatican City State)', 'VA'), ('Honduras', 'HN'), ('Hong Kong', 'HK'), ('Hungary', 'HU'), ('Iceland', 'IS'), ('India', 'IN'), ('Indonesia', 'ID'), ('Iran, Islamic Republic of', 'IR'), ('Iraq', 'IQ'), ('Ireland', 'IE'), ('Isle of Man', 'IM'), ('Israel', 'IL'), ('Italy', 'IT'), ('Jamaica', 'JM'), ('Japan', 'JP'), ('Jersey', 'JE'), ('Jordan', 'JO'), ('Kazakhstan', 'KZ'), ('Kenya', 'KE'), ('Kiribati', 'KI'), (\"Korea, Democratic People's Republic of\", 'KP'), ('Korea, Republic of', 'KR'), ('Kuwait', 'KW'), ('Kyrgyzstan', 'KG'), (\"Lao People's Democratic Republic\", 'LA'), ('Latvia', 'LV'), ('Lebanon', 'LB'), ('Lesotho', 'LS'), ('Liberia', 'LR'), ('Libya', 'LY'), ('Liechtenstein', 'LI'), ('Lithuania', 'LT'), ('Luxembourg', 'LU'), ('Macao', 'MO'), ('Macedonia, the Former Yugoslav Republic of', 'MK'), ('Madagascar', 'MG'), ('Malawi', 'MW'), ('Malaysia', 'MY'), ('Maldives', 'MV'), ('Mali', 'ML'), ('Malta', 'MT'), ('Marshall Islands', 'MH'), ('Martinique', 'MQ'), ('Mauritania', 'MR'), ('Mauritius', 'MU'), ('Mayotte', 'YT'), ('Mexico', 'MX'), ('Micronesia, Federated States of', 'FM'), ('Moldova, Republic of', 'MD'), ('Monaco', 'MC'), ('Mongolia', 'MN'), ('Montenegro', 'ME'), ('Montserrat', 'MS'), ('Morocco', 'MA'), ('Mozambique', 'MZ'), ('Myanmar', 'MM'), ('Namibia', 'NA'), ('Nauru', 'NR'), ('Nepal', 'NP'), ('Netherlands', 'NL'), ('New Caledonia', 'NC'), ('New Zealand', 'NZ'), ('Nicaragua', 'NI'), ('Niger', 'NE'), ('Nigeria', 'NG'), ('Niue', 'NU'), ('Norfolk Island', 'NF'), ('Northern Mariana Islands', 'MP'), ('Norway', 'NO'), ('Oman', 'OM'), ('Pakistan', 'PK'), ('Palau', 'PW'), ('Palestine, State of', 'PS'), ('Panama', 'PA'), ('Papua New Guinea', 'PG'), ('Paraguay', 'PY'), ('Peru', 'PE'), ('Philippines', 'PH'), ('Pitcairn', 'PN'), ('Poland', 'PL'), ('Portugal', 'PT'), ('Puerto Rico', 'PR'), ('Qatar', 'QA'), ('Réunion', 'RE'), ('Romania', 'RO'), ('Russian Federation', 'RU'), ('Rwanda', 'RW'), ('Saint Barthélemy', 'BL'), ('Saint Helena, Ascension and Tristan da Cunha', 'SH'), ('Saint Kitts and Nevis', 'KN'), ('Saint Lucia', 'LC'), ('Saint Martin (French part)', 'MF'), ('Saint Pierre and Miquelon', 'PM'), ('Saint Vincent and the Grenadines', 'VC'), ('Samoa', 'WS'), ('San Marino', 'SM'), ('Sao Tome and Principe', 'ST'), ('Saudi Arabia', 'SA'), ('Senegal', 'SN'), ('Serbia', 'RS'), ('Seychelles', 'SC'), ('Sierra Leone', 'SL'), ('Singapore', 'SG'), ('Sint Maarten (Dutch part)', 'SX'), ('Slovakia', 'SK'), ('Slovenia', 'SI'), ('Solomon Islands', 'SB'), ('Somalia', 'SO'), ('South Africa', 'ZA'), ('South Georgia and the South Sandwich Islands', 'GS'), ('South Sudan', 'SS'), ('Spain', 'ES'), ('Sri Lanka', 'LK'), ('Sudan', 'SD'), ('Suriname', 'SR'), ('Svalbard and Jan Mayen', 'SJ'), ('Swaziland', 'SZ'), ('Sweden', 'SE'), ('Switzerland', 'CH'), ('Syrian Arab Republic', 'SY'), ('Taiwan, Province of China', 'TW'), ('Tajikistan', 'TJ'), ('Tanzania, United Republic of', 'TZ'), ('Thailand', 'TH'), ('Timor-Leste', 'TL'), ('Togo', 'TG'), ('Tokelau', 'TK'), ('Tonga', 'TO'), ('Trinidad and Tobago', 'TT'), ('Tunisia', 'TN'), ('Turkey', 'TR'), ('Turkmenistan', 'TM'), ('Turks and Caicos Islands', 'TC'), ('Tuvalu', 'TV'), ('Uganda', 'UG'), ('Ukraine', 'UA'), ('United Arab Emirates', 'AE'), ('United Kingdom', 'GB'), ('United States', 'US'), ('United States Minor Outlying Islands', 'UM'), ('Uruguay', 'UY'), ('Uzbekistan', 'UZ'), ('Vanuatu', 'VU'), ('Venezuela, Bolivarian Republic of', 'VE'), ('Viet Nam', 'VN'), ('Virgin Islands, British', 'VG'), ('Virgin Islands, U.S.', 'VI'), ('Wallis and Futuna', 'WF'), ('Western Sahara', 'EH'), ('Yemen', 'YE'), ('Zambia', 'ZM'), ('Zimbabwe', 'ZW')]\n"
     ]
    }
   ],
   "source": [
    "# 외부 csv to list of tuple\n",
    "import csv\n",
    "\n",
    "with open('./resources/test1.csv', 'r', encoding='UTF-8') as f:\n",
    "    temp = csv.reader(f)\n",
    "    # Header Skip\n",
    "    next(temp)\n",
    "    # 변환\n",
    "    NA_CODES = [tuple(x) for x in temp]\n",
    "\n",
    "print(NA_CODES)"
   ]
  },
  {
   "cell_type": "code",
   "execution_count": 57,
   "id": "457be0ee",
   "metadata": {},
   "outputs": [],
   "source": [
    "n_code1 = {country:code for country, code in NA_CODES}\n",
    "n_code2 = {country.upper():code for country, code in NA_CODES}"
   ]
  },
  {
   "cell_type": "code",
   "execution_count": 58,
   "id": "ebdf59ac",
   "metadata": {},
   "outputs": [
    {
     "data": {
      "text/plain": [
       "{'Afghanistan': 'AF',\n",
       " 'Åland Islands': 'AX',\n",
       " 'Albania': 'AL',\n",
       " 'Algeria': 'DZ',\n",
       " 'American Samoa': 'AS',\n",
       " 'Andorra': 'AD',\n",
       " 'Angola': 'AO',\n",
       " 'Anguilla': 'AI',\n",
       " 'Antarctica': 'AQ',\n",
       " 'Antigua and Barbuda': 'AG',\n",
       " 'Argentina': 'AR',\n",
       " 'Armenia': 'AM',\n",
       " 'Aruba': 'AW',\n",
       " 'Australia': 'AU',\n",
       " 'Austria': 'AT',\n",
       " 'Azerbaijan': 'AZ',\n",
       " 'Bahamas': 'BS',\n",
       " 'Bahrain': 'BH',\n",
       " 'Bangladesh': 'BD',\n",
       " 'Barbados': 'BB',\n",
       " 'Belarus': 'BY',\n",
       " 'Belgium': 'BE',\n",
       " 'Belize': 'BZ',\n",
       " 'Benin': 'BJ',\n",
       " 'Bermuda': 'BM',\n",
       " 'Bhutan': 'BT',\n",
       " 'Bolivia, Plurinational State of': 'BO',\n",
       " 'Bonaire, Sint Eustatius and Saba': 'BQ',\n",
       " 'Bosnia and Herzegovina': 'BA',\n",
       " 'Botswana': 'BW',\n",
       " 'Bouvet Island': 'BV',\n",
       " 'Brazil': 'BR',\n",
       " 'British Indian Ocean Territory': 'IO',\n",
       " 'Brunei Darussalam': 'BN',\n",
       " 'Bulgaria': 'BG',\n",
       " 'Burkina Faso': 'BF',\n",
       " 'Burundi': 'BI',\n",
       " 'Cambodia': 'KH',\n",
       " 'Cameroon': 'CM',\n",
       " 'Canada': 'CA',\n",
       " 'Cape Verde': 'CV',\n",
       " 'Cayman Islands': 'KY',\n",
       " 'Central African Republic': 'CF',\n",
       " 'Chad': 'TD',\n",
       " 'Chile': 'CL',\n",
       " 'China': 'CN',\n",
       " 'Christmas Island': 'CX',\n",
       " 'Cocos (Keeling) Islands': 'CC',\n",
       " 'Colombia': 'CO',\n",
       " 'Comoros': 'KM',\n",
       " 'Congo': 'CG',\n",
       " 'Congo, the Democratic Republic of the': 'CD',\n",
       " 'Cook Islands': 'CK',\n",
       " 'Costa Rica': 'CR',\n",
       " \"Côte d'Ivoire\": 'CI',\n",
       " 'Croatia': 'HR',\n",
       " 'Cuba': 'CU',\n",
       " 'Curaçao': 'CW',\n",
       " 'Cyprus': 'CY',\n",
       " 'Czech Republic': 'CZ',\n",
       " 'Denmark': 'DK',\n",
       " 'Djibouti': 'DJ',\n",
       " 'Dominica': 'DM',\n",
       " 'Dominican Republic': 'DO',\n",
       " 'Ecuador': 'EC',\n",
       " 'Egypt': 'EG',\n",
       " 'El Salvador': 'SV',\n",
       " 'Equatorial Guinea': 'GQ',\n",
       " 'Eritrea': 'ER',\n",
       " 'Estonia': 'EE',\n",
       " 'Ethiopia': 'ET',\n",
       " 'Falkland Islands (Malvinas)': 'FK',\n",
       " 'Faroe Islands': 'FO',\n",
       " 'Fiji': 'FJ',\n",
       " 'Finland': 'FI',\n",
       " 'France': 'FR',\n",
       " 'French Guiana': 'GF',\n",
       " 'French Polynesia': 'PF',\n",
       " 'French Southern Territories': 'TF',\n",
       " 'Gabon': 'GA',\n",
       " 'Gambia': 'GM',\n",
       " 'Georgia': 'GE',\n",
       " 'Germany': 'DE',\n",
       " 'Ghana': 'GH',\n",
       " 'Gibraltar': 'GI',\n",
       " 'Greece': 'GR',\n",
       " 'Greenland': 'GL',\n",
       " 'Grenada': 'GD',\n",
       " 'Guadeloupe': 'GP',\n",
       " 'Guam': 'GU',\n",
       " 'Guatemala': 'GT',\n",
       " 'Guernsey': 'GG',\n",
       " 'Guinea': 'GN',\n",
       " 'Guinea-Bissau': 'GW',\n",
       " 'Guyana': 'GY',\n",
       " 'Haiti': 'HT',\n",
       " 'Heard Island and McDonald Islands': 'HM',\n",
       " 'Holy See (Vatican City State)': 'VA',\n",
       " 'Honduras': 'HN',\n",
       " 'Hong Kong': 'HK',\n",
       " 'Hungary': 'HU',\n",
       " 'Iceland': 'IS',\n",
       " 'India': 'IN',\n",
       " 'Indonesia': 'ID',\n",
       " 'Iran, Islamic Republic of': 'IR',\n",
       " 'Iraq': 'IQ',\n",
       " 'Ireland': 'IE',\n",
       " 'Isle of Man': 'IM',\n",
       " 'Israel': 'IL',\n",
       " 'Italy': 'IT',\n",
       " 'Jamaica': 'JM',\n",
       " 'Japan': 'JP',\n",
       " 'Jersey': 'JE',\n",
       " 'Jordan': 'JO',\n",
       " 'Kazakhstan': 'KZ',\n",
       " 'Kenya': 'KE',\n",
       " 'Kiribati': 'KI',\n",
       " \"Korea, Democratic People's Republic of\": 'KP',\n",
       " 'Korea, Republic of': 'KR',\n",
       " 'Kuwait': 'KW',\n",
       " 'Kyrgyzstan': 'KG',\n",
       " \"Lao People's Democratic Republic\": 'LA',\n",
       " 'Latvia': 'LV',\n",
       " 'Lebanon': 'LB',\n",
       " 'Lesotho': 'LS',\n",
       " 'Liberia': 'LR',\n",
       " 'Libya': 'LY',\n",
       " 'Liechtenstein': 'LI',\n",
       " 'Lithuania': 'LT',\n",
       " 'Luxembourg': 'LU',\n",
       " 'Macao': 'MO',\n",
       " 'Macedonia, the Former Yugoslav Republic of': 'MK',\n",
       " 'Madagascar': 'MG',\n",
       " 'Malawi': 'MW',\n",
       " 'Malaysia': 'MY',\n",
       " 'Maldives': 'MV',\n",
       " 'Mali': 'ML',\n",
       " 'Malta': 'MT',\n",
       " 'Marshall Islands': 'MH',\n",
       " 'Martinique': 'MQ',\n",
       " 'Mauritania': 'MR',\n",
       " 'Mauritius': 'MU',\n",
       " 'Mayotte': 'YT',\n",
       " 'Mexico': 'MX',\n",
       " 'Micronesia, Federated States of': 'FM',\n",
       " 'Moldova, Republic of': 'MD',\n",
       " 'Monaco': 'MC',\n",
       " 'Mongolia': 'MN',\n",
       " 'Montenegro': 'ME',\n",
       " 'Montserrat': 'MS',\n",
       " 'Morocco': 'MA',\n",
       " 'Mozambique': 'MZ',\n",
       " 'Myanmar': 'MM',\n",
       " 'Namibia': 'NA',\n",
       " 'Nauru': 'NR',\n",
       " 'Nepal': 'NP',\n",
       " 'Netherlands': 'NL',\n",
       " 'New Caledonia': 'NC',\n",
       " 'New Zealand': 'NZ',\n",
       " 'Nicaragua': 'NI',\n",
       " 'Niger': 'NE',\n",
       " 'Nigeria': 'NG',\n",
       " 'Niue': 'NU',\n",
       " 'Norfolk Island': 'NF',\n",
       " 'Northern Mariana Islands': 'MP',\n",
       " 'Norway': 'NO',\n",
       " 'Oman': 'OM',\n",
       " 'Pakistan': 'PK',\n",
       " 'Palau': 'PW',\n",
       " 'Palestine, State of': 'PS',\n",
       " 'Panama': 'PA',\n",
       " 'Papua New Guinea': 'PG',\n",
       " 'Paraguay': 'PY',\n",
       " 'Peru': 'PE',\n",
       " 'Philippines': 'PH',\n",
       " 'Pitcairn': 'PN',\n",
       " 'Poland': 'PL',\n",
       " 'Portugal': 'PT',\n",
       " 'Puerto Rico': 'PR',\n",
       " 'Qatar': 'QA',\n",
       " 'Réunion': 'RE',\n",
       " 'Romania': 'RO',\n",
       " 'Russian Federation': 'RU',\n",
       " 'Rwanda': 'RW',\n",
       " 'Saint Barthélemy': 'BL',\n",
       " 'Saint Helena, Ascension and Tristan da Cunha': 'SH',\n",
       " 'Saint Kitts and Nevis': 'KN',\n",
       " 'Saint Lucia': 'LC',\n",
       " 'Saint Martin (French part)': 'MF',\n",
       " 'Saint Pierre and Miquelon': 'PM',\n",
       " 'Saint Vincent and the Grenadines': 'VC',\n",
       " 'Samoa': 'WS',\n",
       " 'San Marino': 'SM',\n",
       " 'Sao Tome and Principe': 'ST',\n",
       " 'Saudi Arabia': 'SA',\n",
       " 'Senegal': 'SN',\n",
       " 'Serbia': 'RS',\n",
       " 'Seychelles': 'SC',\n",
       " 'Sierra Leone': 'SL',\n",
       " 'Singapore': 'SG',\n",
       " 'Sint Maarten (Dutch part)': 'SX',\n",
       " 'Slovakia': 'SK',\n",
       " 'Slovenia': 'SI',\n",
       " 'Solomon Islands': 'SB',\n",
       " 'Somalia': 'SO',\n",
       " 'South Africa': 'ZA',\n",
       " 'South Georgia and the South Sandwich Islands': 'GS',\n",
       " 'South Sudan': 'SS',\n",
       " 'Spain': 'ES',\n",
       " 'Sri Lanka': 'LK',\n",
       " 'Sudan': 'SD',\n",
       " 'Suriname': 'SR',\n",
       " 'Svalbard and Jan Mayen': 'SJ',\n",
       " 'Swaziland': 'SZ',\n",
       " 'Sweden': 'SE',\n",
       " 'Switzerland': 'CH',\n",
       " 'Syrian Arab Republic': 'SY',\n",
       " 'Taiwan, Province of China': 'TW',\n",
       " 'Tajikistan': 'TJ',\n",
       " 'Tanzania, United Republic of': 'TZ',\n",
       " 'Thailand': 'TH',\n",
       " 'Timor-Leste': 'TL',\n",
       " 'Togo': 'TG',\n",
       " 'Tokelau': 'TK',\n",
       " 'Tonga': 'TO',\n",
       " 'Trinidad and Tobago': 'TT',\n",
       " 'Tunisia': 'TN',\n",
       " 'Turkey': 'TR',\n",
       " 'Turkmenistan': 'TM',\n",
       " 'Turks and Caicos Islands': 'TC',\n",
       " 'Tuvalu': 'TV',\n",
       " 'Uganda': 'UG',\n",
       " 'Ukraine': 'UA',\n",
       " 'United Arab Emirates': 'AE',\n",
       " 'United Kingdom': 'GB',\n",
       " 'United States': 'US',\n",
       " 'United States Minor Outlying Islands': 'UM',\n",
       " 'Uruguay': 'UY',\n",
       " 'Uzbekistan': 'UZ',\n",
       " 'Vanuatu': 'VU',\n",
       " 'Venezuela, Bolivarian Republic of': 'VE',\n",
       " 'Viet Nam': 'VN',\n",
       " 'Virgin Islands, British': 'VG',\n",
       " 'Virgin Islands, U.S.': 'VI',\n",
       " 'Wallis and Futuna': 'WF',\n",
       " 'Western Sahara': 'EH',\n",
       " 'Yemen': 'YE',\n",
       " 'Zambia': 'ZM',\n",
       " 'Zimbabwe': 'ZW'}"
      ]
     },
     "execution_count": 58,
     "metadata": {},
     "output_type": "execute_result"
    }
   ],
   "source": [
    "n_code1"
   ]
  },
  {
   "cell_type": "code",
   "execution_count": 59,
   "id": "870043ad",
   "metadata": {},
   "outputs": [
    {
     "data": {
      "text/plain": [
       "{'AFGHANISTAN': 'AF',\n",
       " 'ÅLAND ISLANDS': 'AX',\n",
       " 'ALBANIA': 'AL',\n",
       " 'ALGERIA': 'DZ',\n",
       " 'AMERICAN SAMOA': 'AS',\n",
       " 'ANDORRA': 'AD',\n",
       " 'ANGOLA': 'AO',\n",
       " 'ANGUILLA': 'AI',\n",
       " 'ANTARCTICA': 'AQ',\n",
       " 'ANTIGUA AND BARBUDA': 'AG',\n",
       " 'ARGENTINA': 'AR',\n",
       " 'ARMENIA': 'AM',\n",
       " 'ARUBA': 'AW',\n",
       " 'AUSTRALIA': 'AU',\n",
       " 'AUSTRIA': 'AT',\n",
       " 'AZERBAIJAN': 'AZ',\n",
       " 'BAHAMAS': 'BS',\n",
       " 'BAHRAIN': 'BH',\n",
       " 'BANGLADESH': 'BD',\n",
       " 'BARBADOS': 'BB',\n",
       " 'BELARUS': 'BY',\n",
       " 'BELGIUM': 'BE',\n",
       " 'BELIZE': 'BZ',\n",
       " 'BENIN': 'BJ',\n",
       " 'BERMUDA': 'BM',\n",
       " 'BHUTAN': 'BT',\n",
       " 'BOLIVIA, PLURINATIONAL STATE OF': 'BO',\n",
       " 'BONAIRE, SINT EUSTATIUS AND SABA': 'BQ',\n",
       " 'BOSNIA AND HERZEGOVINA': 'BA',\n",
       " 'BOTSWANA': 'BW',\n",
       " 'BOUVET ISLAND': 'BV',\n",
       " 'BRAZIL': 'BR',\n",
       " 'BRITISH INDIAN OCEAN TERRITORY': 'IO',\n",
       " 'BRUNEI DARUSSALAM': 'BN',\n",
       " 'BULGARIA': 'BG',\n",
       " 'BURKINA FASO': 'BF',\n",
       " 'BURUNDI': 'BI',\n",
       " 'CAMBODIA': 'KH',\n",
       " 'CAMEROON': 'CM',\n",
       " 'CANADA': 'CA',\n",
       " 'CAPE VERDE': 'CV',\n",
       " 'CAYMAN ISLANDS': 'KY',\n",
       " 'CENTRAL AFRICAN REPUBLIC': 'CF',\n",
       " 'CHAD': 'TD',\n",
       " 'CHILE': 'CL',\n",
       " 'CHINA': 'CN',\n",
       " 'CHRISTMAS ISLAND': 'CX',\n",
       " 'COCOS (KEELING) ISLANDS': 'CC',\n",
       " 'COLOMBIA': 'CO',\n",
       " 'COMOROS': 'KM',\n",
       " 'CONGO': 'CG',\n",
       " 'CONGO, THE DEMOCRATIC REPUBLIC OF THE': 'CD',\n",
       " 'COOK ISLANDS': 'CK',\n",
       " 'COSTA RICA': 'CR',\n",
       " \"CÔTE D'IVOIRE\": 'CI',\n",
       " 'CROATIA': 'HR',\n",
       " 'CUBA': 'CU',\n",
       " 'CURAÇAO': 'CW',\n",
       " 'CYPRUS': 'CY',\n",
       " 'CZECH REPUBLIC': 'CZ',\n",
       " 'DENMARK': 'DK',\n",
       " 'DJIBOUTI': 'DJ',\n",
       " 'DOMINICA': 'DM',\n",
       " 'DOMINICAN REPUBLIC': 'DO',\n",
       " 'ECUADOR': 'EC',\n",
       " 'EGYPT': 'EG',\n",
       " 'EL SALVADOR': 'SV',\n",
       " 'EQUATORIAL GUINEA': 'GQ',\n",
       " 'ERITREA': 'ER',\n",
       " 'ESTONIA': 'EE',\n",
       " 'ETHIOPIA': 'ET',\n",
       " 'FALKLAND ISLANDS (MALVINAS)': 'FK',\n",
       " 'FAROE ISLANDS': 'FO',\n",
       " 'FIJI': 'FJ',\n",
       " 'FINLAND': 'FI',\n",
       " 'FRANCE': 'FR',\n",
       " 'FRENCH GUIANA': 'GF',\n",
       " 'FRENCH POLYNESIA': 'PF',\n",
       " 'FRENCH SOUTHERN TERRITORIES': 'TF',\n",
       " 'GABON': 'GA',\n",
       " 'GAMBIA': 'GM',\n",
       " 'GEORGIA': 'GE',\n",
       " 'GERMANY': 'DE',\n",
       " 'GHANA': 'GH',\n",
       " 'GIBRALTAR': 'GI',\n",
       " 'GREECE': 'GR',\n",
       " 'GREENLAND': 'GL',\n",
       " 'GRENADA': 'GD',\n",
       " 'GUADELOUPE': 'GP',\n",
       " 'GUAM': 'GU',\n",
       " 'GUATEMALA': 'GT',\n",
       " 'GUERNSEY': 'GG',\n",
       " 'GUINEA': 'GN',\n",
       " 'GUINEA-BISSAU': 'GW',\n",
       " 'GUYANA': 'GY',\n",
       " 'HAITI': 'HT',\n",
       " 'HEARD ISLAND AND MCDONALD ISLANDS': 'HM',\n",
       " 'HOLY SEE (VATICAN CITY STATE)': 'VA',\n",
       " 'HONDURAS': 'HN',\n",
       " 'HONG KONG': 'HK',\n",
       " 'HUNGARY': 'HU',\n",
       " 'ICELAND': 'IS',\n",
       " 'INDIA': 'IN',\n",
       " 'INDONESIA': 'ID',\n",
       " 'IRAN, ISLAMIC REPUBLIC OF': 'IR',\n",
       " 'IRAQ': 'IQ',\n",
       " 'IRELAND': 'IE',\n",
       " 'ISLE OF MAN': 'IM',\n",
       " 'ISRAEL': 'IL',\n",
       " 'ITALY': 'IT',\n",
       " 'JAMAICA': 'JM',\n",
       " 'JAPAN': 'JP',\n",
       " 'JERSEY': 'JE',\n",
       " 'JORDAN': 'JO',\n",
       " 'KAZAKHSTAN': 'KZ',\n",
       " 'KENYA': 'KE',\n",
       " 'KIRIBATI': 'KI',\n",
       " \"KOREA, DEMOCRATIC PEOPLE'S REPUBLIC OF\": 'KP',\n",
       " 'KOREA, REPUBLIC OF': 'KR',\n",
       " 'KUWAIT': 'KW',\n",
       " 'KYRGYZSTAN': 'KG',\n",
       " \"LAO PEOPLE'S DEMOCRATIC REPUBLIC\": 'LA',\n",
       " 'LATVIA': 'LV',\n",
       " 'LEBANON': 'LB',\n",
       " 'LESOTHO': 'LS',\n",
       " 'LIBERIA': 'LR',\n",
       " 'LIBYA': 'LY',\n",
       " 'LIECHTENSTEIN': 'LI',\n",
       " 'LITHUANIA': 'LT',\n",
       " 'LUXEMBOURG': 'LU',\n",
       " 'MACAO': 'MO',\n",
       " 'MACEDONIA, THE FORMER YUGOSLAV REPUBLIC OF': 'MK',\n",
       " 'MADAGASCAR': 'MG',\n",
       " 'MALAWI': 'MW',\n",
       " 'MALAYSIA': 'MY',\n",
       " 'MALDIVES': 'MV',\n",
       " 'MALI': 'ML',\n",
       " 'MALTA': 'MT',\n",
       " 'MARSHALL ISLANDS': 'MH',\n",
       " 'MARTINIQUE': 'MQ',\n",
       " 'MAURITANIA': 'MR',\n",
       " 'MAURITIUS': 'MU',\n",
       " 'MAYOTTE': 'YT',\n",
       " 'MEXICO': 'MX',\n",
       " 'MICRONESIA, FEDERATED STATES OF': 'FM',\n",
       " 'MOLDOVA, REPUBLIC OF': 'MD',\n",
       " 'MONACO': 'MC',\n",
       " 'MONGOLIA': 'MN',\n",
       " 'MONTENEGRO': 'ME',\n",
       " 'MONTSERRAT': 'MS',\n",
       " 'MOROCCO': 'MA',\n",
       " 'MOZAMBIQUE': 'MZ',\n",
       " 'MYANMAR': 'MM',\n",
       " 'NAMIBIA': 'NA',\n",
       " 'NAURU': 'NR',\n",
       " 'NEPAL': 'NP',\n",
       " 'NETHERLANDS': 'NL',\n",
       " 'NEW CALEDONIA': 'NC',\n",
       " 'NEW ZEALAND': 'NZ',\n",
       " 'NICARAGUA': 'NI',\n",
       " 'NIGER': 'NE',\n",
       " 'NIGERIA': 'NG',\n",
       " 'NIUE': 'NU',\n",
       " 'NORFOLK ISLAND': 'NF',\n",
       " 'NORTHERN MARIANA ISLANDS': 'MP',\n",
       " 'NORWAY': 'NO',\n",
       " 'OMAN': 'OM',\n",
       " 'PAKISTAN': 'PK',\n",
       " 'PALAU': 'PW',\n",
       " 'PALESTINE, STATE OF': 'PS',\n",
       " 'PANAMA': 'PA',\n",
       " 'PAPUA NEW GUINEA': 'PG',\n",
       " 'PARAGUAY': 'PY',\n",
       " 'PERU': 'PE',\n",
       " 'PHILIPPINES': 'PH',\n",
       " 'PITCAIRN': 'PN',\n",
       " 'POLAND': 'PL',\n",
       " 'PORTUGAL': 'PT',\n",
       " 'PUERTO RICO': 'PR',\n",
       " 'QATAR': 'QA',\n",
       " 'RÉUNION': 'RE',\n",
       " 'ROMANIA': 'RO',\n",
       " 'RUSSIAN FEDERATION': 'RU',\n",
       " 'RWANDA': 'RW',\n",
       " 'SAINT BARTHÉLEMY': 'BL',\n",
       " 'SAINT HELENA, ASCENSION AND TRISTAN DA CUNHA': 'SH',\n",
       " 'SAINT KITTS AND NEVIS': 'KN',\n",
       " 'SAINT LUCIA': 'LC',\n",
       " 'SAINT MARTIN (FRENCH PART)': 'MF',\n",
       " 'SAINT PIERRE AND MIQUELON': 'PM',\n",
       " 'SAINT VINCENT AND THE GRENADINES': 'VC',\n",
       " 'SAMOA': 'WS',\n",
       " 'SAN MARINO': 'SM',\n",
       " 'SAO TOME AND PRINCIPE': 'ST',\n",
       " 'SAUDI ARABIA': 'SA',\n",
       " 'SENEGAL': 'SN',\n",
       " 'SERBIA': 'RS',\n",
       " 'SEYCHELLES': 'SC',\n",
       " 'SIERRA LEONE': 'SL',\n",
       " 'SINGAPORE': 'SG',\n",
       " 'SINT MAARTEN (DUTCH PART)': 'SX',\n",
       " 'SLOVAKIA': 'SK',\n",
       " 'SLOVENIA': 'SI',\n",
       " 'SOLOMON ISLANDS': 'SB',\n",
       " 'SOMALIA': 'SO',\n",
       " 'SOUTH AFRICA': 'ZA',\n",
       " 'SOUTH GEORGIA AND THE SOUTH SANDWICH ISLANDS': 'GS',\n",
       " 'SOUTH SUDAN': 'SS',\n",
       " 'SPAIN': 'ES',\n",
       " 'SRI LANKA': 'LK',\n",
       " 'SUDAN': 'SD',\n",
       " 'SURINAME': 'SR',\n",
       " 'SVALBARD AND JAN MAYEN': 'SJ',\n",
       " 'SWAZILAND': 'SZ',\n",
       " 'SWEDEN': 'SE',\n",
       " 'SWITZERLAND': 'CH',\n",
       " 'SYRIAN ARAB REPUBLIC': 'SY',\n",
       " 'TAIWAN, PROVINCE OF CHINA': 'TW',\n",
       " 'TAJIKISTAN': 'TJ',\n",
       " 'TANZANIA, UNITED REPUBLIC OF': 'TZ',\n",
       " 'THAILAND': 'TH',\n",
       " 'TIMOR-LESTE': 'TL',\n",
       " 'TOGO': 'TG',\n",
       " 'TOKELAU': 'TK',\n",
       " 'TONGA': 'TO',\n",
       " 'TRINIDAD AND TOBAGO': 'TT',\n",
       " 'TUNISIA': 'TN',\n",
       " 'TURKEY': 'TR',\n",
       " 'TURKMENISTAN': 'TM',\n",
       " 'TURKS AND CAICOS ISLANDS': 'TC',\n",
       " 'TUVALU': 'TV',\n",
       " 'UGANDA': 'UG',\n",
       " 'UKRAINE': 'UA',\n",
       " 'UNITED ARAB EMIRATES': 'AE',\n",
       " 'UNITED KINGDOM': 'GB',\n",
       " 'UNITED STATES': 'US',\n",
       " 'UNITED STATES MINOR OUTLYING ISLANDS': 'UM',\n",
       " 'URUGUAY': 'UY',\n",
       " 'UZBEKISTAN': 'UZ',\n",
       " 'VANUATU': 'VU',\n",
       " 'VENEZUELA, BOLIVARIAN REPUBLIC OF': 'VE',\n",
       " 'VIET NAM': 'VN',\n",
       " 'VIRGIN ISLANDS, BRITISH': 'VG',\n",
       " 'VIRGIN ISLANDS, U.S.': 'VI',\n",
       " 'WALLIS AND FUTUNA': 'WF',\n",
       " 'WESTERN SAHARA': 'EH',\n",
       " 'YEMEN': 'YE',\n",
       " 'ZAMBIA': 'ZM',\n",
       " 'ZIMBABWE': 'ZW'}"
      ]
     },
     "execution_count": 59,
     "metadata": {},
     "output_type": "execute_result"
    }
   ],
   "source": [
    "n_code2"
   ]
  },
  {
   "cell_type": "markdown",
   "id": "7e29be5a",
   "metadata": {},
   "source": [
    "## Dict Setdefault\n",
    "setdefault()는 Dictionary의 메소드 중 하나이다. 키와 값을 인자로 받으며, 키 값이 있다면 키 값을 반환하고 없다면 두 번째 인자를 반환한다.  \n",
    "ex. dict.setdefault(source, 0)  \n",
    "  \n",
    "https://gomguard.tistory.com/126"
   ]
  },
  {
   "cell_type": "code",
   "execution_count": 64,
   "id": "f067f8ce",
   "metadata": {},
   "outputs": [],
   "source": [
    "# Dict Setdefault 예제\n",
    "# source를 dict으로 바꿀 때 동일한 key가 여러 개인데 어떻게 해야 하는가?\n",
    "source = (('k1', 'val1'),\n",
    "          ('k1', 'val2'),\n",
    "          ('k2', 'val3'),\n",
    "          ('k2', 'val4'),\n",
    "          ('k2', 'val5'))\n",
    "\n",
    "new_dict1 = {}\n",
    "new_dict2 = {}"
   ]
  },
  {
   "cell_type": "code",
   "execution_count": 65,
   "id": "9ba1cbd0",
   "metadata": {},
   "outputs": [
    {
     "name": "stdout",
     "output_type": "stream",
     "text": [
      "{'k1': ['val1', 'val2'], 'k2': ['val3', 'val4', 'val5']}\n"
     ]
    }
   ],
   "source": [
    "# No use setdefault\n",
    "for k, v in source:\n",
    "    if k in new_dict1:\n",
    "        new_dict1[k].append(v)\n",
    "    else:\n",
    "        new_dict1[k] = [v]\n",
    "\n",
    "print(new_dict1)"
   ]
  },
  {
   "cell_type": "code",
   "execution_count": 66,
   "id": "90392c6c",
   "metadata": {},
   "outputs": [
    {
     "name": "stdout",
     "output_type": "stream",
     "text": [
      "{'k1': ['val1', 'val2'], 'k2': ['val3', 'val4', 'val5']}\n"
     ]
    }
   ],
   "source": [
    "# Use setdefault: 성능이 더 좋음\n",
    "for k, v in source:\n",
    "    new_dict2.setdefault(k, []).append(v)\n",
    "\n",
    "print(new_dict2)"
   ]
  },
  {
   "cell_type": "markdown",
   "id": "55b730a0",
   "metadata": {},
   "source": [
    "### Dictionary의 내부 구조"
   ]
  },
  {
   "cell_type": "code",
   "execution_count": 67,
   "id": "30b36e22",
   "metadata": {},
   "outputs": [],
   "source": [
    "# 사용자 정의 dict 상속(UserDict 가능)\n",
    "# 사용자 정의 클래스를 만들어서 dict 사용\n",
    "# 딕셔너리의 내부 구조: dictionary를 선언하면 이렇게 작동한다\n",
    "\n",
    "class UserDict(dict):\n",
    "    def __missing__(self, key):\n",
    "        print('Called: __missing__')\n",
    "        if isinstance(key, str):\n",
    "            raise KeyError(key)\n",
    "        return self[str(key)]\n",
    "    \n",
    "    def get(self, key, default=None):\n",
    "        print(\"Called: __getitem__\")\n",
    "        try:\n",
    "            return self[key]\n",
    "        except KeyError:\n",
    "            return default\n",
    "    \n",
    "    def __contains__(self, key):\n",
    "        print(\"Called: __contains__\")\n",
    "        return key in self.keys() or str(key) in self.keys()"
   ]
  },
  {
   "cell_type": "code",
   "execution_count": 68,
   "id": "ffa4a0ac",
   "metadata": {},
   "outputs": [
    {
     "name": "stdout",
     "output_type": "stream",
     "text": [
      "{'one': 1, 'two': 2}\n",
      "{'one': 1, 'two': 2}\n",
      "{'one': 1, 'two': 2}\n"
     ]
    }
   ],
   "source": [
    "user_dict1 = UserDict(one=1, two=2)\n",
    "user_dict2 = UserDict({'one':1, 'two':2})\n",
    "user_dict3 = UserDict([('one', 1), ('two', 2)])\n",
    "\n",
    "# 출력\n",
    "print(user_dict1)\n",
    "print(user_dict2)\n",
    "print(user_dict3)"
   ]
  },
  {
   "cell_type": "code",
   "execution_count": 69,
   "id": "0ecc35c2",
   "metadata": {},
   "outputs": [
    {
     "name": "stdout",
     "output_type": "stream",
     "text": [
      "Called: __getitem__\n",
      "2\n"
     ]
    }
   ],
   "source": [
    "print(user_dict2.get('two'))"
   ]
  },
  {
   "cell_type": "code",
   "execution_count": 70,
   "id": "32759ff8",
   "metadata": {},
   "outputs": [
    {
     "name": "stdout",
     "output_type": "stream",
     "text": [
      "Called: __getitem__\n",
      "Called: __missing__\n",
      "None\n"
     ]
    }
   ],
   "source": [
    "print(user_dict2.get('aaa'))"
   ]
  },
  {
   "cell_type": "code",
   "execution_count": 71,
   "id": "c82e8725",
   "metadata": {},
   "outputs": [
    {
     "name": "stdout",
     "output_type": "stream",
     "text": [
      "Called: __contains__\n",
      "True\n"
     ]
    }
   ],
   "source": [
    "print('one' in user_dict1)"
   ]
  },
  {
   "cell_type": "code",
   "execution_count": 72,
   "id": "9ed99f89",
   "metadata": {},
   "outputs": [
    {
     "name": "stdout",
     "output_type": "stream",
     "text": [
      "Called: __missing__\n"
     ]
    },
    {
     "ename": "KeyError",
     "evalue": "'three'",
     "output_type": "error",
     "traceback": [
      "\u001b[0;31m---------------------------------------------------------------------------\u001b[0m",
      "\u001b[0;31mKeyError\u001b[0m                                  Traceback (most recent call last)",
      "\u001b[0;32m<ipython-input-72-73027676ad90>\u001b[0m in \u001b[0;36m<module>\u001b[0;34m\u001b[0m\n\u001b[0;32m----> 1\u001b[0;31m \u001b[0mprint\u001b[0m\u001b[0;34m(\u001b[0m\u001b[0muser_dict3\u001b[0m\u001b[0;34m[\u001b[0m\u001b[0;34m'three'\u001b[0m\u001b[0;34m]\u001b[0m\u001b[0;34m)\u001b[0m\u001b[0;34m\u001b[0m\u001b[0;34m\u001b[0m\u001b[0m\n\u001b[0m",
      "\u001b[0;32m<ipython-input-67-a85a2b2c0b93>\u001b[0m in \u001b[0;36m__missing__\u001b[0;34m(self, key)\u001b[0m\n\u001b[1;32m      5\u001b[0m         \u001b[0mprint\u001b[0m\u001b[0;34m(\u001b[0m\u001b[0;34m'Called: __missing__'\u001b[0m\u001b[0;34m)\u001b[0m\u001b[0;34m\u001b[0m\u001b[0;34m\u001b[0m\u001b[0m\n\u001b[1;32m      6\u001b[0m         \u001b[0;32mif\u001b[0m \u001b[0misinstance\u001b[0m\u001b[0;34m(\u001b[0m\u001b[0mkey\u001b[0m\u001b[0;34m,\u001b[0m \u001b[0mstr\u001b[0m\u001b[0;34m)\u001b[0m\u001b[0;34m:\u001b[0m\u001b[0;34m\u001b[0m\u001b[0;34m\u001b[0m\u001b[0m\n\u001b[0;32m----> 7\u001b[0;31m             \u001b[0;32mraise\u001b[0m \u001b[0mKeyError\u001b[0m\u001b[0;34m(\u001b[0m\u001b[0mkey\u001b[0m\u001b[0;34m)\u001b[0m\u001b[0;34m\u001b[0m\u001b[0;34m\u001b[0m\u001b[0m\n\u001b[0m\u001b[1;32m      8\u001b[0m         \u001b[0;32mreturn\u001b[0m \u001b[0mself\u001b[0m\u001b[0;34m[\u001b[0m\u001b[0mstr\u001b[0m\u001b[0;34m(\u001b[0m\u001b[0mkey\u001b[0m\u001b[0;34m)\u001b[0m\u001b[0;34m]\u001b[0m\u001b[0;34m\u001b[0m\u001b[0;34m\u001b[0m\u001b[0m\n\u001b[1;32m      9\u001b[0m \u001b[0;34m\u001b[0m\u001b[0m\n",
      "\u001b[0;31mKeyError\u001b[0m: 'three'"
     ]
    }
   ],
   "source": [
    "print(user_dict3['three'])"
   ]
  },
  {
   "cell_type": "code",
   "execution_count": 73,
   "id": "d09a2409",
   "metadata": {},
   "outputs": [
    {
     "name": "stdout",
     "output_type": "stream",
     "text": [
      "Called: __getitem__\n",
      "Called: __missing__\n",
      "None\n"
     ]
    }
   ],
   "source": [
    "print(user_dict3.get('three'))"
   ]
  },
  {
   "cell_type": "code",
   "execution_count": 74,
   "id": "1f78358a",
   "metadata": {},
   "outputs": [
    {
     "name": "stdout",
     "output_type": "stream",
     "text": [
      "Called: __contains__\n",
      "False\n"
     ]
    }
   ],
   "source": [
    "print('three' in user_dict3)"
   ]
  },
  {
   "cell_type": "markdown",
   "id": "2d17033b",
   "metadata": {},
   "source": [
    "### Immutable Dict\n",
    "Read only Dictionary"
   ]
  },
  {
   "cell_type": "code",
   "execution_count": 76,
   "id": "6c253aa8",
   "metadata": {},
   "outputs": [
    {
     "name": "stdout",
     "output_type": "stream",
     "text": [
      "{'key1': 'TEST1'} 140223574187904\n",
      "{'key1': 'TEST1'} 140223571269472\n",
      "False True\n"
     ]
    }
   ],
   "source": [
    "from types import MappingProxyType\n",
    "\n",
    "d = {'key1':'TEST1'}\n",
    "\n",
    "# ReadOnly\n",
    "d_frozen = MappingProxyType(d)\n",
    "print(d, id(d))\n",
    "print(d_frozen, id(d_frozen))\n",
    "print(d is d_frozen, d==d_frozen)"
   ]
  },
  {
   "cell_type": "code",
   "execution_count": 77,
   "id": "a0fc7f40",
   "metadata": {},
   "outputs": [
    {
     "ename": "TypeError",
     "evalue": "'mappingproxy' object does not support item assignment",
     "output_type": "error",
     "traceback": [
      "\u001b[0;31m---------------------------------------------------------------------------\u001b[0m",
      "\u001b[0;31mTypeError\u001b[0m                                 Traceback (most recent call last)",
      "\u001b[0;32m<ipython-input-77-484ed62b2f02>\u001b[0m in \u001b[0;36m<module>\u001b[0;34m\u001b[0m\n\u001b[0;32m----> 1\u001b[0;31m \u001b[0md_frozen\u001b[0m\u001b[0;34m[\u001b[0m\u001b[0;34m'key1'\u001b[0m\u001b[0;34m]\u001b[0m \u001b[0;34m=\u001b[0m \u001b[0;34m'TEST2'\u001b[0m\u001b[0;34m\u001b[0m\u001b[0;34m\u001b[0m\u001b[0m\n\u001b[0m",
      "\u001b[0;31mTypeError\u001b[0m: 'mappingproxy' object does not support item assignment"
     ]
    }
   ],
   "source": [
    "# 추가, 수정 불가\n",
    "d_frozen['key1'] = 'TEST2'"
   ]
  },
  {
   "cell_type": "markdown",
   "id": "be250050",
   "metadata": {},
   "source": [
    "### Set 구조 (FrozenSet)\n",
    "set은 해쉬가 더 중요하기 때문에 순서가 중요하지 않다.  \n",
    "중복된 값이 많은 경우 중복된 값을 구별해야 하기 때문에 성능이 매우 떨어진다. 그래서 정제가 된 데이터에 사용하는 것이 좋다."
   ]
  },
  {
   "cell_type": "code",
   "execution_count": 78,
   "id": "5c1f10db",
   "metadata": {},
   "outputs": [],
   "source": [
    "s1 = {'Apple','Orange', 'Apple', 'Orange', 'Kiwi'}\n",
    "s2 = set(['Apple','Orange', 'Apple', 'Orange', 'Kiwi'])\n",
    "s3 = {3}\n",
    "s4 = set() # s4 = {} 는 빈 딕셔너리\n",
    "s5 = frozenset({'Apple','Orange', 'Apple', 'Orange', 'Kiwi'})"
   ]
  },
  {
   "cell_type": "code",
   "execution_count": 79,
   "id": "65e0a5f9",
   "metadata": {},
   "outputs": [
    {
     "name": "stdout",
     "output_type": "stream",
     "text": [
      "{'Kiwi', 'Apple', 'Orange', 'Melon'} <class 'set'>\n"
     ]
    }
   ],
   "source": [
    "# 추가\n",
    "s1.add('Melon')\n",
    "print(s1, type(s1))"
   ]
  },
  {
   "cell_type": "code",
   "execution_count": 80,
   "id": "ec7e93f6",
   "metadata": {},
   "outputs": [
    {
     "ename": "AttributeError",
     "evalue": "'frozenset' object has no attribute 'add'",
     "output_type": "error",
     "traceback": [
      "\u001b[0;31m---------------------------------------------------------------------------\u001b[0m",
      "\u001b[0;31mAttributeError\u001b[0m                            Traceback (most recent call last)",
      "\u001b[0;32m<ipython-input-80-d2309824bd4e>\u001b[0m in \u001b[0;36m<module>\u001b[0;34m\u001b[0m\n\u001b[1;32m      1\u001b[0m \u001b[0;31m# 추가 불가\u001b[0m\u001b[0;34m\u001b[0m\u001b[0;34m\u001b[0m\u001b[0;34m\u001b[0m\u001b[0m\n\u001b[0;32m----> 2\u001b[0;31m \u001b[0ms5\u001b[0m\u001b[0;34m.\u001b[0m\u001b[0madd\u001b[0m\u001b[0;34m(\u001b[0m\u001b[0;34m'Melon'\u001b[0m\u001b[0;34m)\u001b[0m\u001b[0;34m\u001b[0m\u001b[0;34m\u001b[0m\u001b[0m\n\u001b[0m",
      "\u001b[0;31mAttributeError\u001b[0m: 'frozenset' object has no attribute 'add'"
     ]
    }
   ],
   "source": [
    "# 추가 불가\n",
    "s5.add('Melon')"
   ]
  },
  {
   "cell_type": "code",
   "execution_count": 81,
   "id": "442526e8",
   "metadata": {},
   "outputs": [
    {
     "name": "stdout",
     "output_type": "stream",
     "text": [
      "{'Kiwi', 'Apple', 'Orange', 'Melon'} <class 'set'>\n",
      "{'Kiwi', 'Apple', 'Orange'} <class 'set'>\n",
      "{3} <class 'set'>\n",
      "set() <class 'set'>\n",
      "frozenset({'Kiwi', 'Apple', 'Orange'}) <class 'frozenset'>\n"
     ]
    }
   ],
   "source": [
    "print(s1, type(s1))\n",
    "print(s2, type(s2))\n",
    "print(s3, type(s3))\n",
    "print(s4, type(s4))\n",
    "print(s5, type(s5))"
   ]
  },
  {
   "cell_type": "code",
   "execution_count": 82,
   "id": "c5880cc9",
   "metadata": {},
   "outputs": [],
   "source": [
    "# 선언 최적화    \n",
    "a = {5}      # 이게 속도가 더 빠름\n",
    "b = set([10])"
   ]
  },
  {
   "cell_type": "code",
   "execution_count": 83,
   "id": "0e755d1b",
   "metadata": {},
   "outputs": [
    {
     "name": "stdout",
     "output_type": "stream",
     "text": [
      "  1           0 LOAD_CONST               0 (10)\n",
      "              2 BUILD_SET                1\n",
      "              4 RETURN_VALUE\n",
      "None\n",
      "  1           0 LOAD_NAME                0 (set)\n",
      "              2 LOAD_CONST               0 (10)\n",
      "              4 BUILD_LIST               1\n",
      "              6 CALL_FUNCTION            1\n",
      "              8 RETURN_VALUE\n",
      "None\n"
     ]
    }
   ],
   "source": [
    "# 증명\n",
    "from dis import dis # 파이썬 인터프리터가 어떻게 실행되는지 보여줌\n",
    "print(dis('{10}'))\n",
    "print(dis('set([10])'))"
   ]
  },
  {
   "cell_type": "markdown",
   "id": "ae254c2c",
   "metadata": {},
   "source": [
    "### 지능형 집합 (Comprehending Set)"
   ]
  },
  {
   "cell_type": "code",
   "execution_count": 85,
   "id": "7a0c768e",
   "metadata": {},
   "outputs": [
    {
     "name": "stdout",
     "output_type": "stream",
     "text": [
      "{'\\x8e', '<', '\\x9d', \"'\", 'ç', 'µ', 'à', 'h', 'ú', '²', '/', 'N', 'Ö', 'â', '¬', '5', '\\x90', 'Ù', ';', '3', 'À', 'Ú', '`', 'ì', '\\x10', 'l', '\\x16', 'm', '@', '\\x7f', 'k', '\\x93', '\\x82', 'g', '\\x99', 'ô', 'ð', 'Õ', '\\x9a', '\\n', '%', 'X', '.', '>', '\\x19', 'j', '\\x05', 'Q', 'Ð', 'ñ', 'Â', '\\x1b', 'A', 'P', '\\x98', '°', 'Ë', '¨', '«', 'Ê', 'e', 'U', 'ù', '=', '\\x91', '\\x97', '\\x84', '_', '\\\\', '\\xa0', '7', 'ã', '\\x9b', 'é', 'ë', 'þ', 'I', 'F', 'Ó', 'M', '\\x1c', '\\x07', 'w', '\\x94', '½', 'Ý', 'H', 'ò', 'ö', 'p', 'Ä', '{', '-', '\\x02', 'v', '8', '©', 'ß', 'O', 'á', '»', '(', '\\x8c', '\\x83', '\\t', '\\x0e', 'Û', 'É', '÷', '¤', 'o', 'B', 'Ô', '0', 't', '\\x89', '\\x14', 'f', 'G', 'u', '\\x01', '\\x13', 'd', '¸', '\\x95', 'n', 'L', '\\xad', 'Å', 'C', '±', 'Ã', 'Z', '®', 'î', '·', '\\x1f', 'Y', 'W', '\\x0c', '?', '[', 'c', '\\x85', '\\x80', 'b', '\\x03', '\\x04', 'J', '¹', '\\x06', '\\x12', 'Ç', ')', 'ª', '¡', '|', '\\x17', '¦', '¿', 'a', '\\x81', 'Ï', 'í', 'R', '#', ':', 'ó', 'õ', 'å', 'û', '\\x18', '!', 'Á', '1', '9', '¯', 'º', 'È', 'Ü', 'æ', ' ', '\\x9f', '\\x00', 'Þ', '\\x9e', '´', '\\x11', 'i', '\\x86', 'y', '\\x08', '\\x87', '\\x88', '§', '\"', '\\x1d', '¼', '\\x0b', '\\x8b', 'T', 'Æ', 'q', '×', ',', '$', '4', 'x', '¥', '\\x1e', '^', '\\x1a', 'S', 'D', 'V', '¢', '£', '2', 'r', 'E', 'z', '\\x9c', 'K', 'Ò', 'Í', 'ä', ']', '³', 'ý', '\\x96', 'ü', 'ê', '\\x15', '¾', '~', 'Ø', '\\r', '+', '}', '\\x8a', 'è', '\\x8f', 'ÿ', '\\x8d', 'ø', 'Ì', 'Î', 's', 'Ñ', '*', '\\x92', 'ï', '\\x0f', '¶', '6', '&'}\n",
      "\n",
      "{'', 'LATIN CAPITAL LETTER THORN', 'REVERSE SOLIDUS', 'LATIN CAPITAL LETTER A WITH ACUTE', 'RIGHT CURLY BRACKET', 'LATIN SMALL LETTER A WITH ACUTE', 'LATIN SMALL LETTER U', 'DEGREE SIGN', 'SUPERSCRIPT TWO', 'LATIN CAPITAL LETTER E WITH GRAVE', 'DIGIT ONE', 'LATIN SMALL LETTER F', 'CEDILLA', 'TILDE', 'LATIN SMALL LETTER J', 'LATIN CAPITAL LETTER U WITH ACUTE', 'MIDDLE DOT', 'LATIN CAPITAL LETTER D', 'LATIN SMALL LETTER I WITH ACUTE', 'LATIN SMALL LETTER ETH', 'SECTION SIGN', 'LATIN SMALL LETTER O WITH TILDE', 'LATIN SMALL LETTER O WITH GRAVE', 'LATIN CAPITAL LETTER C', 'LATIN CAPITAL LETTER AE', 'LATIN CAPITAL LETTER T', 'LATIN CAPITAL LETTER U WITH DIAERESIS', 'LATIN CAPITAL LETTER C WITH CEDILLA', 'LATIN SMALL LETTER I WITH DIAERESIS', 'POUND SIGN', 'LATIN CAPITAL LETTER E WITH DIAERESIS', 'PLUS-MINUS SIGN', 'EQUALS SIGN', 'LATIN SMALL LETTER I WITH GRAVE', 'NO-BREAK SPACE', 'RIGHT PARENTHESIS', 'DIGIT ZERO', 'RIGHT-POINTING DOUBLE ANGLE QUOTATION MARK', 'LATIN CAPITAL LETTER O', 'LATIN SMALL LETTER K', 'LATIN CAPITAL LETTER Q', 'LATIN CAPITAL LETTER U WITH GRAVE', 'FULL STOP', 'LATIN CAPITAL LETTER A WITH RING ABOVE', 'LATIN SMALL LETTER THORN', 'LATIN CAPITAL LETTER G', 'LATIN CAPITAL LETTER I', 'LATIN SMALL LETTER SHARP S', 'LATIN SMALL LETTER C', 'LATIN SMALL LETTER I', 'LATIN CAPITAL LETTER Y WITH ACUTE', 'LATIN SMALL LETTER O WITH CIRCUMFLEX', 'LATIN CAPITAL LETTER M', 'LATIN SMALL LETTER A', 'LEFT SQUARE BRACKET', 'LATIN SMALL LETTER S', 'LATIN SMALL LETTER I WITH CIRCUMFLEX', 'LATIN SMALL LETTER Q', 'ASTERISK', 'LATIN CAPITAL LETTER I WITH GRAVE', 'LESS-THAN SIGN', 'LATIN CAPITAL LETTER E WITH ACUTE', 'COPYRIGHT SIGN', 'LATIN SMALL LETTER C WITH CEDILLA', 'LATIN SMALL LETTER P', 'LATIN SMALL LETTER L', 'LATIN CAPITAL LETTER U', 'APOSTROPHE', 'MICRO SIGN', 'FEMININE ORDINAL INDICATOR', 'LEFT CURLY BRACKET', 'ACUTE ACCENT', 'VULGAR FRACTION THREE QUARTERS', 'LATIN SMALL LETTER N WITH TILDE', 'LATIN SMALL LETTER R', 'DIGIT SEVEN', 'LATIN SMALL LETTER E', 'LATIN CAPITAL LETTER O WITH CIRCUMFLEX', 'COMMERCIAL AT', 'PERCENT SIGN', 'LATIN SMALL LETTER H', 'LATIN CAPITAL LETTER P', 'LATIN SMALL LETTER E WITH CIRCUMFLEX', 'NUMBER SIGN', 'LATIN SMALL LETTER M', 'LATIN CAPITAL LETTER A WITH GRAVE', 'SOLIDUS', 'LATIN CAPITAL LETTER A WITH TILDE', 'HYPHEN-MINUS', 'MACRON', 'LATIN SMALL LETTER E WITH DIAERESIS', 'LATIN SMALL LETTER U WITH CIRCUMFLEX', 'DOLLAR SIGN', 'SEMICOLON', 'EXCLAMATION MARK', 'LATIN SMALL LETTER W', 'SOFT HYPHEN', 'PILCROW SIGN', 'AMPERSAND', 'LATIN SMALL LETTER V', 'LATIN CAPITAL LETTER V', 'LATIN CAPITAL LETTER I WITH ACUTE', 'MASCULINE ORDINAL INDICATOR', 'MULTIPLICATION SIGN', 'LATIN SMALL LETTER U WITH ACUTE', 'CIRCUMFLEX ACCENT', 'LATIN CAPITAL LETTER I WITH DIAERESIS', 'LATIN SMALL LETTER A WITH TILDE', 'SUPERSCRIPT ONE', 'LATIN SMALL LETTER AE', 'LATIN CAPITAL LETTER Y', 'DIAERESIS', 'SUPERSCRIPT THREE', 'DIGIT NINE', 'LATIN SMALL LETTER G', 'LATIN SMALL LETTER D', 'CENT SIGN', 'LATIN CAPITAL LETTER Z', 'GRAVE ACCENT', 'LATIN CAPITAL LETTER O WITH ACUTE', 'GREATER-THAN SIGN', 'LATIN SMALL LETTER O', 'LATIN CAPITAL LETTER O WITH STROKE', 'LATIN SMALL LETTER X', 'LATIN SMALL LETTER A WITH RING ABOVE', 'DIGIT THREE', 'LATIN SMALL LETTER A WITH DIAERESIS', 'LATIN SMALL LETTER U WITH DIAERESIS', 'LATIN CAPITAL LETTER I WITH CIRCUMFLEX', 'LATIN CAPITAL LETTER ETH', 'CURRENCY SIGN', 'RIGHT SQUARE BRACKET', 'LATIN SMALL LETTER E WITH GRAVE', 'LATIN SMALL LETTER E WITH ACUTE', 'LATIN CAPITAL LETTER S', 'LATIN CAPITAL LETTER R', 'LATIN SMALL LETTER Y WITH ACUTE', 'LATIN SMALL LETTER Z', 'YEN SIGN', 'LATIN CAPITAL LETTER E WITH CIRCUMFLEX', 'LATIN CAPITAL LETTER O WITH TILDE', 'LATIN SMALL LETTER O WITH DIAERESIS', 'LATIN CAPITAL LETTER E', 'LATIN CAPITAL LETTER O WITH DIAERESIS', 'PLUS SIGN', 'LATIN SMALL LETTER Y WITH DIAERESIS', 'LATIN SMALL LETTER A WITH GRAVE', 'LATIN CAPITAL LETTER W', 'DIGIT FIVE', 'LATIN CAPITAL LETTER B', 'QUESTION MARK', 'LATIN CAPITAL LETTER J', 'NOT SIGN', 'LATIN CAPITAL LETTER H', 'VULGAR FRACTION ONE HALF', 'QUOTATION MARK', 'LATIN SMALL LETTER O WITH STROKE', 'LATIN SMALL LETTER N', 'DIGIT FOUR', 'LEFT-POINTING DOUBLE ANGLE QUOTATION MARK', 'VULGAR FRACTION ONE QUARTER', 'LATIN CAPITAL LETTER N', 'LATIN SMALL LETTER T', 'DIGIT EIGHT', 'LATIN CAPITAL LETTER K', 'INVERTED EXCLAMATION MARK', 'LEFT PARENTHESIS', 'LATIN CAPITAL LETTER A WITH DIAERESIS', 'LATIN CAPITAL LETTER X', 'LATIN CAPITAL LETTER U WITH CIRCUMFLEX', 'LATIN SMALL LETTER Y', 'LATIN CAPITAL LETTER N WITH TILDE', 'COLON', 'LATIN CAPITAL LETTER A', 'LATIN SMALL LETTER U WITH GRAVE', 'LATIN CAPITAL LETTER A WITH CIRCUMFLEX', 'DIGIT TWO', 'LATIN CAPITAL LETTER L', 'DIGIT SIX', 'LATIN SMALL LETTER B', 'SPACE', 'VERTICAL LINE', 'BROKEN BAR', 'DIVISION SIGN', 'LATIN SMALL LETTER A WITH CIRCUMFLEX', 'LOW LINE', 'REGISTERED SIGN', 'INVERTED QUESTION MARK', 'LATIN CAPITAL LETTER O WITH GRAVE', 'LATIN SMALL LETTER O WITH ACUTE', 'LATIN CAPITAL LETTER F', 'COMMA'}\n"
     ]
    }
   ],
   "source": [
    "from unicodedata import name\n",
    "\n",
    "print({chr(i) for i in range(0, 256)})\n",
    "print()\n",
    "\n",
    "# name(): 실제 이름을 출력함\n",
    "print({name(chr(i), '') for i in range(0, 256)})"
   ]
  }
 ],
 "metadata": {
  "kernelspec": {
   "display_name": "Python 3",
   "language": "python",
   "name": "python3"
  },
  "language_info": {
   "codemirror_mode": {
    "name": "ipython",
    "version": 3
   },
   "file_extension": ".py",
   "mimetype": "text/x-python",
   "name": "python",
   "nbconvert_exporter": "python",
   "pygments_lexer": "ipython3",
   "version": "3.8.8"
  }
 },
 "nbformat": 4,
 "nbformat_minor": 5
}
