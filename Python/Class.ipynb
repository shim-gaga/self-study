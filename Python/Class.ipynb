{
 "cells": [
  {
   "cell_type": "markdown",
   "id": "90fa88b2",
   "metadata": {},
   "source": [
    "# 📍 Class"
   ]
  },
  {
   "cell_type": "markdown",
   "id": "8bef156e",
   "metadata": {},
   "source": [
    "클래스를 사용하는 이유는 객체지향 프로그래밍 때문\n",
    "\n",
    "데이터를 효율적으로 관리하고 같은 코드의 반복을 없애며 상속을 이용하여 재활용하기 위함"
   ]
  },
  {
   "cell_type": "markdown",
   "id": "e52a3608",
   "metadata": {},
   "source": [
    "## 1. Self,  클래스, 인스턴스 변수"
   ]
  },
  {
   "cell_type": "markdown",
   "id": "a1885c6f",
   "metadata": {},
   "source": [
    "클래스는 첫 글자는 대문자로 선언한다.\n",
    "\n",
    "클래스는 속성과 메소드로 구성되어 있다.\n",
    "\n",
    "\n",
    "### 네임스페이스\n",
    "클래스를 인스턴스화해서 메모리에 올려서 사용한다.\n",
    "\n",
    "네임스페이스는 객체를 인스턴스화 할 때 저장된 공간이며 인스턴스마다 독립적이다.\n",
    "\n",
    "\n",
    "### 클래스 변수와 인스턴스 변수의 차이\n",
    "클래스 변수는 직접 사용 가능하고 객체보다 먼저 생성된다.\n",
    "\n",
    "그러나 인스턴스 변수는 객체마다 별도로 존재. 인스턴스 생성 후 사용\n",
    "\n",
    "\n",
    "* class.__init__(self): 클래스 초기화\n",
    "* id(class): 메모리의 주소 값 출력\n",
    "* class.__dict__: 네임스페이스를 출력"
   ]
  },
  {
   "cell_type": "code",
   "execution_count": 1,
   "id": "d775fcf4",
   "metadata": {},
   "outputs": [
    {
     "name": "stdout",
     "output_type": "stream",
     "text": [
      "140206083294016\n",
      "140206083294112\n",
      "Name: Kim\n",
      "Name: Park\n",
      "user1:  {'name': 'Kim'}\n",
      "user2:  {'name': 'Park'}\n"
     ]
    }
   ],
   "source": [
    "class UserInfo:\n",
    "    def __init__(self, name):\n",
    "        self.name = name\n",
    "    \n",
    "    def print_info(self):\n",
    "        print(\"Name: \" + self.name)\n",
    "    \n",
    "    def __del__(self):\n",
    "        print(\"Instance removed!\")\n",
    "\n",
    "user1 = UserInfo(\"Kim\")\n",
    "user2 = UserInfo(\"Park\")\n",
    "\n",
    "print(id(user1))\n",
    "print(id(user2))\n",
    "\n",
    "user1.print_info()\n",
    "user2.print_info()\n",
    "\n",
    "\n",
    "# namespace\n",
    "print(\"user1: \", user1.__dict__)\n",
    "print(\"user2: \", user2.__dict__)"
   ]
  },
  {
   "cell_type": "markdown",
   "id": "86af0c56",
   "metadata": {},
   "source": [
    "### Self의 이해\n",
    "**클래스 함수**  \n",
    "클래스의 메소드 내의 함수에 self 인자가 없으면 클래스 메소드이므로 인스턴스를 만들어야 인스턴스에서 해당 함수 호출이 가능하다.\n",
    "클래스 메소드는 클래스에서 직접 사용할 수 있는 여러 인스턴스에서 공통적으로 사용된다.\n",
    "이때 클래스에서 클래스 함수를 호출해야 사용 가능하다.\n",
    "\n",
    "**인스턴스 함수**  \n",
    "self가 있으면 인스턴스 함수이다.\n",
    "인스턴스 함수를 클래스를 통해서 호출하려면 인스턴스를 파라미터로 넘겨주어야 한다."
   ]
  },
  {
   "cell_type": "code",
   "execution_count": 2,
   "id": "d6f79922",
   "metadata": {},
   "outputs": [
    {
     "name": "stdout",
     "output_type": "stream",
     "text": [
      "dir: ['__class__', '__delattr__', '__dict__', '__dir__', '__doc__', '__eq__', '__format__', '__ge__', '__getattribute__', '__gt__', '__hash__', '__init__', '__init_subclass__', '__le__', '__lt__', '__module__', '__ne__', '__new__', '__reduce__', '__reduce_ex__', '__repr__', '__setattr__', '__sizeof__', '__str__', '__subclasshook__', '__weakref__', 'function1', 'function2']\n",
      "id: 140206083293488\n",
      "140206083293488\n",
      "function2 called!\n",
      "<function SelfTest.function1 at 0x7f8445c7ed30>\n"
     ]
    }
   ],
   "source": [
    "# self의 이해\n",
    "class SelfTest:\n",
    "    def function1():\n",
    "        print(\"function1 called!\")\n",
    "    \n",
    "    def function2(self):\n",
    "        print(id(self))\n",
    "        print(\"function2 called!\")\n",
    "\n",
    "f = SelfTest()\n",
    "print(\"dir:\", dir(f))\n",
    "print(\"id:\", id(f))\n",
    "\n",
    "# function1()의 인자에 self가 없기 때문에 이는 클래스 메소드이며 인스턴스에서 호출 불가\n",
    "# f.function1() # 예외 발생\n",
    " \n",
    "f.function2() # 인스턴스 메소드\n",
    "print(SelfTest.function1) # 클래스 메소드는 클래스에서만 호출 가능\n",
    "\n",
    "# function2()는 인스턴스 함수이기 때문에 클래스에서 호출 불가\n",
    "# print(SelfTest.function2()) # 예외 발생"
   ]
  },
  {
   "cell_type": "markdown",
   "id": "66090825",
   "metadata": {},
   "source": [
    "### 클래스 변수, 인스턴스 변수\n",
    "* __init__: 클래스의 인스턴스가 생성될 떄 자동으로 호출되는 함수\n",
    "* __del__ : 클래스의 인스턴스가 제거될 때 자동으로 호출되는 함수\n",
    "\n",
    "클래스의 인스턴스들끼리 공유해야 하는 값을 클래스 변수로 바인딩한다.  \n",
    "클래스 변수는 클래스를 통해서 호출될 수도 있고 인스턴스를 통해서 호출될 수도 있다.  \n",
    "인스턴스를 통해서 클래스 변수가 호출될 때, 해당 인스턴스의 namespace에서 해당 변수를 찾지 못했기 때문에 클래스의 namespace에서 찾아서 가져오는 것이다."
   ]
  },
  {
   "cell_type": "code",
   "execution_count": 31,
   "id": "1658408d",
   "metadata": {},
   "outputs": [],
   "source": [
    "# 클래스 변수 , 인스턴스 변수\n",
    "class Warehouse:\n",
    "    stock_num = 0 # 클래스 변수\n",
    "\n",
    "    def __init__(self, name):\n",
    "        self.name = name # 인스턴스 변수\n",
    "        Warehouse.stock_num += 1\n",
    "\n",
    "    def __del__(self):\n",
    "        Warehouse.stock_num -= 1"
   ]
  },
  {
   "cell_type": "code",
   "execution_count": 32,
   "id": "e8cd6a58",
   "metadata": {},
   "outputs": [
    {
     "name": "stdout",
     "output_type": "stream",
     "text": [
      "user1 name: Kim\n",
      "user2 name: Park\n",
      "user1 dict: {'name': 'Kim'}\n",
      "user2 dict: {'name': 'Park'}\n",
      "Warehouse dict: {'__module__': '__main__', 'stock_num': 0, '__init__': <function Warehouse.__init__ at 0x7f84470baee0>, '__del__': <function Warehouse.__del__ at 0x7f84470baca0>, '__dict__': <attribute '__dict__' of 'Warehouse' objects>, '__weakref__': <attribute '__weakref__' of 'Warehouse' objects>, '__doc__': None}\n"
     ]
    }
   ],
   "source": [
    "user1 = Warehouse('Kim')\n",
    "user2 = Warehouse('Park')\n",
    "\n",
    "print('user1 name:', user1.name)\n",
    "print('user2 name:', user2.name)\n",
    "print('user1 dict:', user1.__dict__)\n",
    "print('user2 dict:', user2.__dict__)\n",
    "print('Warehouse dict:', Warehouse.__dict__) # 클래스 네임스페이스, 클래스 변수(공유)"
   ]
  },
  {
   "cell_type": "code",
   "execution_count": 4,
   "id": "e7ca26bc",
   "metadata": {},
   "outputs": [
    {
     "name": "stdout",
     "output_type": "stream",
     "text": [
      "2\n",
      "2\n"
     ]
    }
   ],
   "source": [
    "print(user1.stock_num)\n",
    "print(user2.stock_num)"
   ]
  },
  {
   "cell_type": "code",
   "execution_count": 5,
   "id": "bbdb27c5",
   "metadata": {},
   "outputs": [
    {
     "name": "stdout",
     "output_type": "stream",
     "text": [
      "50\n",
      "50\n"
     ]
    }
   ],
   "source": [
    "Warehouse.stock_num = 50 # 클래스 변수에 직접 접근하여 값 변경 가능\n",
    "print(user1.stock_num)\n",
    "print(user2.stock_num)"
   ]
  },
  {
   "cell_type": "code",
   "execution_count": 6,
   "id": "a2a912df",
   "metadata": {},
   "outputs": [
    {
     "data": {
      "text/plain": [
       "50"
      ]
     },
     "execution_count": 6,
     "metadata": {},
     "output_type": "execute_result"
    }
   ],
   "source": [
    "Warehouse.stock_num"
   ]
  },
  {
   "cell_type": "markdown",
   "id": "42431e4e",
   "metadata": {},
   "source": [
    "# 2. 상속, 다중 상속"
   ]
  },
  {
   "cell_type": "markdown",
   "id": "0e700335",
   "metadata": {},
   "source": [
    "### 상속\n",
    "슈퍼클래스(부모) 및 서브클래스(자식) -> 모든 속성, 메소드 사용 가능  \n",
    "상속을 통해서 코드를 재사용하고 중복되는 코드 최소화한다.  \n",
    "또한, 코드의 유지보수가 쉬워지며 복잡한 코드를 단순화 할 수 있다.  \n"
   ]
  },
  {
   "cell_type": "code",
   "execution_count": 13,
   "id": "4df0d6e1",
   "metadata": {},
   "outputs": [],
   "source": [
    "class Car:\n",
    "    \"\"\"Parent Class\"\"\"\n",
    "    def __init__(self, tp, color):\n",
    "        self.type = tp\n",
    "        self.color = color\n",
    "    \n",
    "    def show(self):\n",
    "        print(\"Car Class 'Show' Method!\")\n",
    "        return 'Car Class \"Show Method!\"'\n",
    "    \n",
    "class BmwCar(Car):\n",
    "    \"\"\"Sub Class\"\"\"\n",
    "    def __init__(self, car_name, tp, color):\n",
    "        super().__init__(tp, color)\n",
    "        self.car_name = car_name\n",
    "    \n",
    "    def show_model(self) -> None:\n",
    "        return \"Your Car Name : %s\" % self.car_name\n",
    "\n",
    "class BenzCar(Car):\n",
    "    \"\"\"Sub Class\"\"\"\n",
    "    def __init__(self, car_name, tp, color):\n",
    "        super().__init__(tp, color)\n",
    "        self.car_name = car_name\n",
    "    \n",
    "    def show(self): # super class overriding\n",
    "        super().show()\n",
    "        return \"Car Info : %s %s %s\" % (self.car_name, self.color, self.type)\n",
    "    \n",
    "    def show_model(self) -> None:\n",
    "        return \"Your Car Name : %s\" % self.car_name\n"
   ]
  },
  {
   "cell_type": "code",
   "execution_count": 14,
   "id": "b49ae332",
   "metadata": {},
   "outputs": [
    {
     "name": "stdout",
     "output_type": "stream",
     "text": [
      "red\n",
      "sedan\n",
      "520d\n",
      "Car Class 'Show' Method!\n",
      "Car Class \"Show Method!\"\n",
      "Your Car Name : 520d\n"
     ]
    }
   ],
   "source": [
    "model1 = BmwCar(\"520d\", \"sedan\", \"red\")\n",
    "\n",
    "print(model1.color)        # Super\n",
    "print(model1.type)         # Super\n",
    "print(model1.car_name)     # Sub\n",
    "print(model1.show())       # Super\n",
    "print(model1.show_model()) # Sub"
   ]
  },
  {
   "cell_type": "markdown",
   "id": "864d70e7",
   "metadata": {},
   "source": [
    "### Method Overriding\n",
    "\n",
    "overriding이란 super class 에 있는 메소드 등을 그대로 사용하는 것이 아니라 sub class에서 목적에 맞게 super class에 있는 메소드를 재구현하는 것이다.  \n",
    "부모 클래스에 있는 메소드의 명과 같이 자식 클래스에서 구현한다면, 상속 받았어도 자식 클래스에서 구현한 메소드가 호출된다."
   ]
  },
  {
   "cell_type": "code",
   "execution_count": 15,
   "id": "c00c7331",
   "metadata": {},
   "outputs": [
    {
     "name": "stdout",
     "output_type": "stream",
     "text": [
      "Car Class 'Show' Method!\n",
      "Car Info : 220d black suv\n"
     ]
    }
   ],
   "source": [
    "# Method Overriding\n",
    "model2 = BenzCar(\"220d\", 'suv', \"black\")\n",
    "print(model2.show())"
   ]
  },
  {
   "cell_type": "markdown",
   "id": "4a93601d",
   "metadata": {},
   "source": [
    "### Inheritance Info: mro()\n",
    "**MRO(Method Resolution Order)**  \n",
    "메소드 결정 순서  \n",
    "MRO는 자식과 부모 클래스를 전부 포함하여 메소드의 실행 순서를 지정한다.  \n",
    "따라서 sub class에서 동일한 이름의 super class 메소드를 오버라이딩하더라도 mro의 지정된 순서대로 실행한다.  \n",
    "  \n",
    "* class.mro(): 상속 관계를 보여준다\n",
    " 모든 클래스는 object 클래스를 상속 받는다.\n",
    "  \n",
    "mro() 호출 시 맨 마지막에는 항상 'object'가 나타나는데 이는 항상 object 클래스가 모든 클래스의 부모이기 때문이다.\n",
    "\n",
    "https://tibetsandfox.tistory.com/26"
   ]
  },
  {
   "cell_type": "code",
   "execution_count": 17,
   "id": "1e35db55",
   "metadata": {},
   "outputs": [
    {
     "name": "stdout",
     "output_type": "stream",
     "text": [
      "Inheritance Info: [<class '__main__.BmwCar'>, <class '__main__.Car'>, <class 'object'>]\n",
      "Inheritance Info: [<class '__main__.BenzCar'>, <class '__main__.Car'>, <class 'object'>]\n"
     ]
    }
   ],
   "source": [
    "# Inheritance Info\n",
    "print(\"Inheritance Info:\", BmwCar.mro())\n",
    "print(\"Inheritance Info:\", BenzCar.mro())"
   ]
  },
  {
   "cell_type": "code",
   "execution_count": 18,
   "id": "2521289d",
   "metadata": {},
   "outputs": [
    {
     "name": "stdout",
     "output_type": "stream",
     "text": [
      "[<class '__main__.M'>, <class '__main__.B'>, <class '__main__.A'>, <class '__main__.X'>, <class '__main__.Y'>, <class '__main__.Z'>, <class 'object'>]\n",
      "[<class '__main__.A'>, <class '__main__.X'>, <class '__main__.Y'>, <class 'object'>]\n"
     ]
    }
   ],
   "source": [
    "# 다중 상속\n",
    "class X():\n",
    "    pass\n",
    "\n",
    "\n",
    "class Y():\n",
    "    pass\n",
    "\n",
    "\n",
    "class Z():\n",
    "    pass\n",
    "\n",
    "\n",
    "class A(X, Y):\n",
    "    pass\n",
    "\n",
    "\n",
    "class B(Y, Z):\n",
    "    pass\n",
    "\n",
    "\n",
    "class M(B, A, Z):\n",
    "    pass\n",
    "\n",
    "\n",
    "print(M.mro())\n",
    "print(A.mro())"
   ]
  }
 ],
 "metadata": {
  "kernelspec": {
   "display_name": "Python 3",
   "language": "python",
   "name": "python3"
  },
  "language_info": {
   "codemirror_mode": {
    "name": "ipython",
    "version": 3
   },
   "file_extension": ".py",
   "mimetype": "text/x-python",
   "name": "python",
   "nbconvert_exporter": "python",
   "pygments_lexer": "ipython3",
   "version": "3.8.8"
  }
 },
 "nbformat": 4,
 "nbformat_minor": 5
}
