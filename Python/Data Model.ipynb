{
 "cells": [
  {
   "cell_type": "markdown",
   "id": "7ff1ee97",
   "metadata": {},
   "source": [
    "# 📍 Data Model\n",
    "\n",
    "### 파이썬의 중요한 핵심 프레임워크: 시퀀스(sequence), 함수(function), 클래스(class)\n",
    "\n",
    "## 데이터 모델\n",
    "파이썬의 최고 장점 중 하나는 일관성이다. 데이터 모델은 일종의 프레임워크이다. 프레임워크를 이용해서 코딩할 때는 프레임워크에 호출되는 메서드를 구현하는 데 많은 시간을 소비한다. 그래서 파이썬 인터프리터는 특별 메서드를 호출해서 기본적인 객체 연산을 수행한다.\n",
    "  \n",
    "출처: https://velog.io/@sparkbosing/%EC%A0%84%EB%AC%B8%EA%B0%80%EB%A5%BC-%EC%9C%84%ED%95%9C-%ED%8C%8C%EC%9D%B4%EC%8D%AC-1%EC%9E%A5"
   ]
  },
  {
   "cell_type": "markdown",
   "id": "a58d4e49",
   "metadata": {},
   "source": [
    "참고 링크: https://docs.python.org/3/reference/datamodel.html"
   ]
  },
  {
   "cell_type": "markdown",
   "id": "0527632f",
   "metadata": {},
   "source": [
    "* 객체 -> 파이썬의 데이터를 추상화  \n",
    "* 모든 객체 -> id, type -> value  \n",
    "모든 객체는 id, 매직 메소드, 속성, type, value를 가지고 있다."
   ]
  },
  {
   "cell_type": "code",
   "execution_count": 1,
   "id": "f4dcaac7",
   "metadata": {},
   "outputs": [],
   "source": [
    "a = 7 # a는 id, 매직 메소드, 속성, type, value를 가지고 있다."
   ]
  },
  {
   "cell_type": "markdown",
   "id": "d468294b",
   "metadata": {},
   "source": [
    "# 1. Namedtuple\n",
    "네임드 튜플은 인덱스와 네임드 속성을가지고 값에 접근하는 immutable 컨테이너 유형이다.   collections.namedtuple factory 함수에서 나와 만들어졌기 때문에 collections 모듈을 import 해야 한다.\n",
    "  \n",
    "네임드 튜플에서 아래의 3가지를 기억해야 한다.\n",
    "* easy-to-create\n",
    "* immutable\n",
    "* lightweight object type\n",
    "  \n",
    "결국 위 세가지 특징이 매우 Pythonic하고 clean한 코드를 만드는 원리이다.\n",
    "  \n",
    "출처: https://velog.io/@hyeseong-dev/%ED%8C%8C%EC%9D%B4%EC%8D%AC-%EB%84%A4%EC%9E%84%EB%93%9C%ED%8A%9C%ED%94%8C-tutorial"
   ]
  },
  {
   "cell_type": "code",
   "execution_count": 4,
   "id": "f8a9db79",
   "metadata": {},
   "outputs": [
    {
     "name": "stdout",
     "output_type": "stream",
     "text": [
      "3.8078865529319543\n"
     ]
    }
   ],
   "source": [
    "# 일반적인 튜플 사용\n",
    "# 두 점 사이의 거리: [0] - x, [1] - y. 이렇게 레이블을 달아줘야 한다.\n",
    "pt1 = (1.0, 5.0)\n",
    "pt2 = (2.5, 1.5)\n",
    "\n",
    "from math import sqrt\n",
    "\n",
    "line_leng1 = sqrt((pt2[0] - pt1[0]) ** 2 + (pt2[1] - pt1[1]) ** 2)\n",
    "print(line_leng1)"
   ]
  },
  {
   "cell_type": "code",
   "execution_count": 6,
   "id": "f0256009",
   "metadata": {},
   "outputs": [
    {
     "name": "stdout",
     "output_type": "stream",
     "text": [
      "3.8078865529319543\n"
     ]
    }
   ],
   "source": [
    "# 네임드 튜플 사용: 튜플의 성질도 가지고 있고 마치 클래스를 가지고 있는 것 같음\n",
    "from collections import namedtuple\n",
    "\n",
    "# 네임드 튜플 선언\n",
    "Point = namedtuple('Point', 'x y')\n",
    "pt1 = Point(1.0, 5.0)\n",
    "pt2 = Point(2.5, 1.5)\n",
    "\n",
    "line_leng2  = sqrt((pt2.x - pt1.x) ** 2 + (pt2.y - pt1.y) ** 2)\n",
    "print(line_leng2)"
   ]
  },
  {
   "cell_type": "code",
   "execution_count": 7,
   "id": "182143bb",
   "metadata": {},
   "outputs": [
    {
     "name": "stdout",
     "output_type": "stream",
     "text": [
      "True\n"
     ]
    }
   ],
   "source": [
    "print(line_leng1 == line_leng2)"
   ]
  },
  {
   "cell_type": "markdown",
   "id": "74b3b5f4",
   "metadata": {},
   "source": [
    "### 네임드 튜플 선언 방법"
   ]
  },
  {
   "cell_type": "code",
   "execution_count": 8,
   "id": "b544197b",
   "metadata": {},
   "outputs": [],
   "source": [
    "# 네임드 튜플 선언 방법 4가지\n",
    "Point1 = namedtuple(\"Point\", ['x', 'y']) # 리스트\n",
    "Point2 = namedtuple(\"Point\", 'x, y')     # 콤마\n",
    "Point3 = namedtuple(\"Point\", \"x y\")      # 공백\n",
    "Point4 = namedtuple(\"Point\", 'x y x class', rename=True) # 중복된 레이블과 예약어 사용"
   ]
  },
  {
   "cell_type": "code",
   "execution_count": 9,
   "id": "b75caf45",
   "metadata": {},
   "outputs": [
    {
     "name": "stdout",
     "output_type": "stream",
     "text": [
      "<class '__main__.Point'> <class '__main__.Point'> <class '__main__.Point'> <class '__main__.Point'>\n"
     ]
    }
   ],
   "source": [
    "print(Point1, Point2, Point3, Point4)"
   ]
  },
  {
   "cell_type": "code",
   "execution_count": 10,
   "id": "5d11812f",
   "metadata": {},
   "outputs": [
    {
     "name": "stdout",
     "output_type": "stream",
     "text": [
      "Point(x=10, y=35) Point(x=20, y=40) Point(x=45, y=20) Point(x=10, y=20, _2=30, _3=40)\n"
     ]
    }
   ],
   "source": [
    "# 객체 생성\n",
    "p1 = Point1(x=10, y=35)\n",
    "p2 = Point2(20, 40)\n",
    "p3 = Point3(45, y=20)\n",
    "p4 = Point4(10, 20, 30, 40)\n",
    "\n",
    "print(p1, p2, p3, p4) # p4의 경우 중복되거나 사용할 수 없는 레이블을 rename"
   ]
  },
  {
   "cell_type": "code",
   "execution_count": 12,
   "id": "a1f22e8c",
   "metadata": {},
   "outputs": [
    {
     "name": "stdout",
     "output_type": "stream",
     "text": [
      "Point(x=75, y=55)\n"
     ]
    }
   ],
   "source": [
    "# Dict to Unpacking\n",
    "# 딕셔너리를 unpacking 할 경우에는 ** 두 개 붙여야 한다\n",
    "temp_dict = {'x':75, 'y':55}\n",
    "p5 = Point3(**temp_dict)\n",
    "\n",
    "print(p5)"
   ]
  },
  {
   "cell_type": "code",
   "execution_count": 13,
   "id": "c26672ba",
   "metadata": {},
   "outputs": [
    {
     "name": "stdout",
     "output_type": "stream",
     "text": [
      "50\n",
      "50\n"
     ]
    }
   ],
   "source": [
    "# 사용\n",
    "print(p1[0] + p2[1]) # 인덱스 사용 가능. Index Error 주의\n",
    "print(p1.x + p2.y)   # 클래스 변수 접근 방식"
   ]
  },
  {
   "cell_type": "code",
   "execution_count": 14,
   "id": "fcb22a98",
   "metadata": {},
   "outputs": [
    {
     "name": "stdout",
     "output_type": "stream",
     "text": [
      "65\n"
     ]
    }
   ],
   "source": [
    "# Unpacking\n",
    "x, y = p3\n",
    "print(x + y)"
   ]
  },
  {
   "cell_type": "code",
   "execution_count": 15,
   "id": "feb88080",
   "metadata": {},
   "outputs": [
    {
     "name": "stdout",
     "output_type": "stream",
     "text": [
      "Point(x=10, y=20, _2=30, _3=40)\n"
     ]
    }
   ],
   "source": [
    "# Rename 테스트\n",
    "print(p4)"
   ]
  },
  {
   "cell_type": "markdown",
   "id": "ebf49f6f",
   "metadata": {},
   "source": [
    "## Namedtuple Method\n",
    "* _make()\n",
    "* _fields()\n",
    "* _asdict()\n",
    "* _replace()"
   ]
  },
  {
   "cell_type": "code",
   "execution_count": 21,
   "id": "aae82fad",
   "metadata": {},
   "outputs": [
    {
     "name": "stdout",
     "output_type": "stream",
     "text": [
      "_make: Point(x=52, y=38)\n",
      "_fields: ('x', 'y') ('x', 'y') ('x', 'y')\n",
      "_asdict: {'x': 10, 'y': 35} {'x': 52, 'y': 38}\n",
      "_replace: Point(x=20, y=100)\n",
      "본래의 p2에는 할당해주지 않았기 때문에 값이 바뀌지 않음, Point(x=20, y=40)\n"
     ]
    }
   ],
   "source": [
    "# 네임드 튜플 메소드\n",
    "temp = [52, 38] # container, sequence형, iterator 가능\n",
    "\n",
    "# _make(): 새로운 객체 생성\n",
    "p4 = Point1._make(temp)\n",
    "print(\"_make:\", p4)\n",
    "\n",
    "# _fields: 필드 네임 확인\n",
    "print(\"_fields:\", p1._fields, p2._fields, p3._fields)\n",
    "\n",
    "# _asdict(): OrdredDict 반환\n",
    "print(\"_asdict:\", p1._asdict(), p4._asdict())\n",
    "\n",
    "# _replace(): 수정된 '새로운' 객체 반환\n",
    "print(\"_replace:\", p2._replace(y=100))\n",
    "print(\"본래의 p2에는 할당해주지 않았기 때문에 값이 바뀌지 않음,\", p2)"
   ]
  },
  {
   "cell_type": "code",
   "execution_count": 23,
   "id": "35c117c2",
   "metadata": {},
   "outputs": [],
   "source": [
    "# 실 사용 실습\n",
    "# 학생 전체 그룹 생성\n",
    "# 반 20명, 4개의 반 -> (A, B, C, D) 번호\n",
    "\n",
    "# 네임드 튜플 선언. 변수와 네임드 튜플 명을 같게 하는 것이 관례\n",
    "Classes = namedtuple('Classes', ['rank', 'number'])\n",
    "\n",
    "# 그룹 리스트 선언\n",
    "numbers = [str(n) for n in range(1, 21)]\n",
    "ranks = 'A B C D'.split()"
   ]
  },
  {
   "cell_type": "code",
   "execution_count": 24,
   "id": "3668eaeb",
   "metadata": {
    "scrolled": true
   },
   "outputs": [
    {
     "name": "stdout",
     "output_type": "stream",
     "text": [
      "[Classes(rank='A', number='1'), Classes(rank='A', number='2'), Classes(rank='A', number='3'), Classes(rank='A', number='4'), Classes(rank='A', number='5'), Classes(rank='A', number='6'), Classes(rank='A', number='7'), Classes(rank='A', number='8'), Classes(rank='A', number='9'), Classes(rank='A', number='10'), Classes(rank='A', number='11'), Classes(rank='A', number='12'), Classes(rank='A', number='13'), Classes(rank='A', number='14'), Classes(rank='A', number='15'), Classes(rank='A', number='16'), Classes(rank='A', number='17'), Classes(rank='A', number='18'), Classes(rank='A', number='19'), Classes(rank='A', number='20'), Classes(rank='B', number='1'), Classes(rank='B', number='2'), Classes(rank='B', number='3'), Classes(rank='B', number='4'), Classes(rank='B', number='5'), Classes(rank='B', number='6'), Classes(rank='B', number='7'), Classes(rank='B', number='8'), Classes(rank='B', number='9'), Classes(rank='B', number='10'), Classes(rank='B', number='11'), Classes(rank='B', number='12'), Classes(rank='B', number='13'), Classes(rank='B', number='14'), Classes(rank='B', number='15'), Classes(rank='B', number='16'), Classes(rank='B', number='17'), Classes(rank='B', number='18'), Classes(rank='B', number='19'), Classes(rank='B', number='20'), Classes(rank='C', number='1'), Classes(rank='C', number='2'), Classes(rank='C', number='3'), Classes(rank='C', number='4'), Classes(rank='C', number='5'), Classes(rank='C', number='6'), Classes(rank='C', number='7'), Classes(rank='C', number='8'), Classes(rank='C', number='9'), Classes(rank='C', number='10'), Classes(rank='C', number='11'), Classes(rank='C', number='12'), Classes(rank='C', number='13'), Classes(rank='C', number='14'), Classes(rank='C', number='15'), Classes(rank='C', number='16'), Classes(rank='C', number='17'), Classes(rank='C', number='18'), Classes(rank='C', number='19'), Classes(rank='C', number='20'), Classes(rank='D', number='1'), Classes(rank='D', number='2'), Classes(rank='D', number='3'), Classes(rank='D', number='4'), Classes(rank='D', number='5'), Classes(rank='D', number='6'), Classes(rank='D', number='7'), Classes(rank='D', number='8'), Classes(rank='D', number='9'), Classes(rank='D', number='10'), Classes(rank='D', number='11'), Classes(rank='D', number='12'), Classes(rank='D', number='13'), Classes(rank='D', number='14'), Classes(rank='D', number='15'), Classes(rank='D', number='16'), Classes(rank='D', number='17'), Classes(rank='D', number='18'), Classes(rank='D', number='19'), Classes(rank='D', number='20')]\n"
     ]
    }
   ],
   "source": [
    "# List Comprehension\n",
    "students = [Classes(rank, number) for rank in ranks for number in numbers]\n",
    "print(students)"
   ]
  },
  {
   "cell_type": "code",
   "execution_count": 25,
   "id": "b0554430",
   "metadata": {
    "scrolled": true
   },
   "outputs": [
    {
     "name": "stdout",
     "output_type": "stream",
     "text": [
      "[Classes(rank='A', number='1'), Classes(rank='A', number='2'), Classes(rank='A', number='3'), Classes(rank='A', number='4'), Classes(rank='A', number='5'), Classes(rank='A', number='6'), Classes(rank='A', number='7'), Classes(rank='A', number='8'), Classes(rank='A', number='9'), Classes(rank='A', number='10'), Classes(rank='A', number='11'), Classes(rank='A', number='12'), Classes(rank='A', number='13'), Classes(rank='A', number='14'), Classes(rank='A', number='15'), Classes(rank='A', number='16'), Classes(rank='A', number='17'), Classes(rank='A', number='18'), Classes(rank='A', number='19'), Classes(rank='A', number='20'), Classes(rank='B', number='1'), Classes(rank='B', number='2'), Classes(rank='B', number='3'), Classes(rank='B', number='4'), Classes(rank='B', number='5'), Classes(rank='B', number='6'), Classes(rank='B', number='7'), Classes(rank='B', number='8'), Classes(rank='B', number='9'), Classes(rank='B', number='10'), Classes(rank='B', number='11'), Classes(rank='B', number='12'), Classes(rank='B', number='13'), Classes(rank='B', number='14'), Classes(rank='B', number='15'), Classes(rank='B', number='16'), Classes(rank='B', number='17'), Classes(rank='B', number='18'), Classes(rank='B', number='19'), Classes(rank='B', number='20'), Classes(rank='C', number='1'), Classes(rank='C', number='2'), Classes(rank='C', number='3'), Classes(rank='C', number='4'), Classes(rank='C', number='5'), Classes(rank='C', number='6'), Classes(rank='C', number='7'), Classes(rank='C', number='8'), Classes(rank='C', number='9'), Classes(rank='C', number='10'), Classes(rank='C', number='11'), Classes(rank='C', number='12'), Classes(rank='C', number='13'), Classes(rank='C', number='14'), Classes(rank='C', number='15'), Classes(rank='C', number='16'), Classes(rank='C', number='17'), Classes(rank='C', number='18'), Classes(rank='C', number='19'), Classes(rank='C', number='20'), Classes(rank='D', number='1'), Classes(rank='D', number='2'), Classes(rank='D', number='3'), Classes(rank='D', number='4'), Classes(rank='D', number='5'), Classes(rank='D', number='6'), Classes(rank='D', number='7'), Classes(rank='D', number='8'), Classes(rank='D', number='9'), Classes(rank='D', number='10'), Classes(rank='D', number='11'), Classes(rank='D', number='12'), Classes(rank='D', number='13'), Classes(rank='D', number='14'), Classes(rank='D', number='15'), Classes(rank='D', number='16'), Classes(rank='D', number='17'), Classes(rank='D', number='18'), Classes(rank='D', number='19'), Classes(rank='D', number='20')]\n"
     ]
    }
   ],
   "source": [
    "# 가독성이 안좋은 케이스\n",
    "students2 = [Classes(rank, number) for rank in 'A B C D'.split()\n",
    "            for number in [str(n) for n in range(1, 21)]]\n",
    "print(students2)"
   ]
  },
  {
   "cell_type": "code",
   "execution_count": 27,
   "id": "71d47662",
   "metadata": {
    "scrolled": true
   },
   "outputs": [
    {
     "name": "stdout",
     "output_type": "stream",
     "text": [
      "Classes(rank='A', number='1')\n",
      "Classes(rank='A', number='2')\n",
      "Classes(rank='A', number='3')\n",
      "Classes(rank='A', number='4')\n",
      "Classes(rank='A', number='5')\n",
      "Classes(rank='A', number='6')\n",
      "Classes(rank='A', number='7')\n",
      "Classes(rank='A', number='8')\n",
      "Classes(rank='A', number='9')\n",
      "Classes(rank='A', number='10')\n",
      "Classes(rank='A', number='11')\n",
      "Classes(rank='A', number='12')\n",
      "Classes(rank='A', number='13')\n",
      "Classes(rank='A', number='14')\n",
      "Classes(rank='A', number='15')\n",
      "Classes(rank='A', number='16')\n",
      "Classes(rank='A', number='17')\n",
      "Classes(rank='A', number='18')\n",
      "Classes(rank='A', number='19')\n",
      "Classes(rank='A', number='20')\n",
      "Classes(rank='B', number='1')\n",
      "Classes(rank='B', number='2')\n",
      "Classes(rank='B', number='3')\n",
      "Classes(rank='B', number='4')\n",
      "Classes(rank='B', number='5')\n",
      "Classes(rank='B', number='6')\n",
      "Classes(rank='B', number='7')\n",
      "Classes(rank='B', number='8')\n",
      "Classes(rank='B', number='9')\n",
      "Classes(rank='B', number='10')\n",
      "Classes(rank='B', number='11')\n",
      "Classes(rank='B', number='12')\n",
      "Classes(rank='B', number='13')\n",
      "Classes(rank='B', number='14')\n",
      "Classes(rank='B', number='15')\n",
      "Classes(rank='B', number='16')\n",
      "Classes(rank='B', number='17')\n",
      "Classes(rank='B', number='18')\n",
      "Classes(rank='B', number='19')\n",
      "Classes(rank='B', number='20')\n",
      "Classes(rank='C', number='1')\n",
      "Classes(rank='C', number='2')\n",
      "Classes(rank='C', number='3')\n",
      "Classes(rank='C', number='4')\n",
      "Classes(rank='C', number='5')\n",
      "Classes(rank='C', number='6')\n",
      "Classes(rank='C', number='7')\n",
      "Classes(rank='C', number='8')\n",
      "Classes(rank='C', number='9')\n",
      "Classes(rank='C', number='10')\n",
      "Classes(rank='C', number='11')\n",
      "Classes(rank='C', number='12')\n",
      "Classes(rank='C', number='13')\n",
      "Classes(rank='C', number='14')\n",
      "Classes(rank='C', number='15')\n",
      "Classes(rank='C', number='16')\n",
      "Classes(rank='C', number='17')\n",
      "Classes(rank='C', number='18')\n",
      "Classes(rank='C', number='19')\n",
      "Classes(rank='C', number='20')\n",
      "Classes(rank='D', number='1')\n",
      "Classes(rank='D', number='2')\n",
      "Classes(rank='D', number='3')\n",
      "Classes(rank='D', number='4')\n",
      "Classes(rank='D', number='5')\n",
      "Classes(rank='D', number='6')\n",
      "Classes(rank='D', number='7')\n",
      "Classes(rank='D', number='8')\n",
      "Classes(rank='D', number='9')\n",
      "Classes(rank='D', number='10')\n",
      "Classes(rank='D', number='11')\n",
      "Classes(rank='D', number='12')\n",
      "Classes(rank='D', number='13')\n",
      "Classes(rank='D', number='14')\n",
      "Classes(rank='D', number='15')\n",
      "Classes(rank='D', number='16')\n",
      "Classes(rank='D', number='17')\n",
      "Classes(rank='D', number='18')\n",
      "Classes(rank='D', number='19')\n",
      "Classes(rank='D', number='20')\n"
     ]
    }
   ],
   "source": [
    "# 출력\n",
    "for s in students:\n",
    "    print(s)"
   ]
  },
  {
   "cell_type": "markdown",
   "id": "bb5a68f2",
   "metadata": {},
   "source": [
    "# 2. Special Method (Magic Method)\n",
    "클래스 안에 정의된 함수를 우리는 특별히 '메소드(method)'라고 부른다. 메소드 중에서 언더 바 두개 \\__로 시작해서 \\__로 끝나는 메소드들이 있는데 이를 매직 메소드 또는 특별 메소드(special method)라고 부른다. 가장 유명한 매직 메소드에는 \\__init\\__이라는 생성자가 있다. 생성자는 어떤 클래스의 인스턴스(객체)가 생성될 때 파이썬 인터프리터에 의해 자동으로 호출되는 메소드였다. 이처럼 파이썬의 매직 메소드는 특별한 기능을 제공한다.\n",
    "  \n",
    "출처: https://www.tutorialsteacher.com/python/magic-methods-in-python\n",
    "  \n",
    "참조 링크:\n",
    "* https://docs.python.org/3/reference/datamodel.html#special-method-names\n",
    "* https://www.tutorialsteacher.com/python/magic-methods-in-python"
   ]
  },
  {
   "cell_type": "code",
   "execution_count": 33,
   "id": "830c98c6",
   "metadata": {},
   "outputs": [
    {
     "name": "stdout",
     "output_type": "stream",
     "text": [
      "<class 'int'>\n",
      "['__abs__', '__add__', '__and__', '__bool__', '__ceil__', '__class__', '__delattr__', '__dir__', '__divmod__', '__doc__', '__eq__', '__float__', '__floor__', '__floordiv__', '__format__', '__ge__', '__getattribute__', '__getnewargs__', '__gt__', '__hash__', '__index__', '__init__', '__init_subclass__', '__int__', '__invert__', '__le__', '__lshift__', '__lt__', '__mod__', '__mul__', '__ne__', '__neg__', '__new__', '__or__', '__pos__', '__pow__', '__radd__', '__rand__', '__rdivmod__', '__reduce__', '__reduce_ex__', '__repr__', '__rfloordiv__', '__rlshift__', '__rmod__', '__rmul__', '__ror__', '__round__', '__rpow__', '__rrshift__', '__rshift__', '__rsub__', '__rtruediv__', '__rxor__', '__setattr__', '__sizeof__', '__str__', '__sub__', '__subclasshook__', '__truediv__', '__trunc__', '__xor__', 'as_integer_ratio', 'bit_length', 'conjugate', 'denominator', 'from_bytes', 'imag', 'numerator', 'real', 'to_bytes']\n"
     ]
    }
   ],
   "source": [
    "# 매직 메소드 기초 설명: 언더 바 두 개(__)로 시작하는 메소드\n",
    "# 기본형\n",
    "print(int)\n",
    "\n",
    "# 모든 속성 및 메소드 출력\n",
    "print(dir(int))"
   ]
  },
  {
   "cell_type": "code",
   "execution_count": 35,
   "id": "a6524172",
   "metadata": {},
   "outputs": [
    {
     "name": "stdout",
     "output_type": "stream",
     "text": [
      "300\n",
      "300\n",
      "int([x]) -> integer\n",
      "int(x, base=10) -> integer\n",
      "\n",
      "Convert a number or string to an integer, or return 0 if no arguments\n",
      "are given.  If x is a number, return x.__int__().  For floating point\n",
      "numbers, this truncates towards zero.\n",
      "\n",
      "If x is not a number or if base is given, then x must be a string,\n",
      "bytes, or bytearray instance representing an integer literal in the\n",
      "given base.  The literal can be preceded by '+' or '-' and be surrounded\n",
      "by whitespace.  The base defaults to 10.  Valid bases are 0 and 2-36.\n",
      "Base 0 means to interpret the base from the string as an integer literal.\n",
      ">>> int('0b100', base=0)\n",
      "4\n",
      "True True\n",
      "10000 10000\n"
     ]
    }
   ],
   "source": [
    "# 사용\n",
    "n = 100\n",
    "print(n + 200)\n",
    "print(n.__add__(200))\n",
    "print(n.__doc__)\n",
    "print(n.__bool__(), bool(n))\n",
    "print(n * 100, n.__mul__(100))"
   ]
  },
  {
   "cell_type": "code",
   "execution_count": 43,
   "id": "9d43b071",
   "metadata": {},
   "outputs": [],
   "source": [
    "# 클래스 예제\n",
    "class Student:\n",
    "    def __init__(self, name, height):\n",
    "        self._name = name\n",
    "        self._height = height\n",
    "        \n",
    "    def __str__(self):\n",
    "        return \"Student Class Info : {}, {}\".format(self._name, self._height)\n",
    "    \n",
    "    def __ge__(self, x):\n",
    "        print(\"Called >> __ge__ Method.\")\n",
    "        \n",
    "        if self._height >= x._height:\n",
    "            return True\n",
    "        else:\n",
    "            return False\n",
    "        \n",
    "    def __le__(self, x):\n",
    "        print(\"Called >> __le__ Method.\")\n",
    "        \n",
    "        if self._height <= x._height:\n",
    "            return True\n",
    "        else:\n",
    "            return False\n",
    "        \n",
    "    def __sub__(self, x):\n",
    "        print(\"Called >> __sub__ Method.\")\n",
    "        return self._height - x._height"
   ]
  },
  {
   "cell_type": "code",
   "execution_count": 44,
   "id": "163cb105",
   "metadata": {},
   "outputs": [
    {
     "ename": "TypeError",
     "evalue": "unsupported operand type(s) for +: 'Student' and 'Student'",
     "output_type": "error",
     "traceback": [
      "\u001b[0;31m---------------------------------------------------------------------------\u001b[0m",
      "\u001b[0;31mTypeError\u001b[0m                                 Traceback (most recent call last)",
      "\u001b[0;32m<ipython-input-44-97fef370ee99>\u001b[0m in \u001b[0;36m<module>\u001b[0;34m\u001b[0m\n\u001b[1;32m      3\u001b[0m \u001b[0ms2\u001b[0m \u001b[0;34m=\u001b[0m \u001b[0mStudent\u001b[0m\u001b[0;34m(\u001b[0m\u001b[0;34m\"Mie\"\u001b[0m\u001b[0;34m,\u001b[0m \u001b[0;36m165\u001b[0m\u001b[0;34m)\u001b[0m\u001b[0;34m\u001b[0m\u001b[0;34m\u001b[0m\u001b[0m\n\u001b[1;32m      4\u001b[0m \u001b[0;34m\u001b[0m\u001b[0m\n\u001b[0;32m----> 5\u001b[0;31m \u001b[0mprint\u001b[0m\u001b[0;34m(\u001b[0m\u001b[0ms1\u001b[0m \u001b[0;34m+\u001b[0m \u001b[0ms2\u001b[0m\u001b[0;34m)\u001b[0m \u001b[0;31m# 계산 불가\u001b[0m\u001b[0;34m\u001b[0m\u001b[0;34m\u001b[0m\u001b[0m\n\u001b[0m",
      "\u001b[0;31mTypeError\u001b[0m: unsupported operand type(s) for +: 'Student' and 'Student'"
     ]
    }
   ],
   "source": [
    "# 인스턴스 생성\n",
    "s1 = Student(\"James\", 181)\n",
    "s2 = Student(\"Mie\", 165)\n",
    "\n",
    "print(s1 + s2) # 매직 메소드를 오버라이딩 하지 않았으므로 계산 불가"
   ]
  },
  {
   "cell_type": "code",
   "execution_count": 46,
   "id": "82d94e58",
   "metadata": {},
   "outputs": [
    {
     "name": "stdout",
     "output_type": "stream",
     "text": [
      "Called >> __ge__ Method.\n",
      "True\n",
      "Called >> __le__ Method.\n",
      "False\n",
      "Called >> __sub__ Method.\n",
      "16\n",
      "Called >> __sub__ Method.\n",
      "-16\n"
     ]
    }
   ],
   "source": [
    "# 매직 메소드 출력\n",
    "print(s1 >= s2)\n",
    "print(s1 <= s2)\n",
    "print(s1 - s2)\n",
    "print(s2 - s1)"
   ]
  },
  {
   "cell_type": "code",
   "execution_count": 97,
   "id": "3d528742",
   "metadata": {},
   "outputs": [],
   "source": [
    "# 클래스 예제 2\n",
    "# 벡터\n",
    "class Vector(object):\n",
    "    def __init__(self, *args):\n",
    "        '''Create a vector, example : v = Vector(1,2)'''\n",
    "        if len(args) == 0:\n",
    "            self._x, self._y = 0, 0\n",
    "        else:\n",
    "            self._x, self._y = args\n",
    "            \n",
    "    def __repr__(self):\n",
    "        '''Returns the vector informations'''\n",
    "        # %s 지정자는 str() 을 사용하여 객체를 변환하고 %r는 repr() 을 사용하여 객체를 변환\n",
    "        return 'Vector(%r, %r)' % (self._x, self._y)\n",
    "    \n",
    "    def __add__(self, other):\n",
    "        '''Returns the vector addition of self and other'''\n",
    "        return Vector(self._x + other._x, self._y + other._y)\n",
    "    \n",
    "    \n",
    "    def __mul__(self, y):\n",
    "        '''Returns the vector multiplication of self and other'''\n",
    "        return Vector(self._x * y, self._y * y)\n",
    "    \n",
    "    def __bool_(self):\n",
    "        return bool(max(self._x, self._y))"
   ]
  },
  {
   "cell_type": "code",
   "execution_count": 98,
   "id": "55ef8cdf",
   "metadata": {},
   "outputs": [],
   "source": [
    "# Vecotr 인스턴스 생성\n",
    "v1 = Vector(3, 5)\n",
    "v2 = Vector(15, 20)\n",
    "v3 = Vector()"
   ]
  },
  {
   "cell_type": "code",
   "execution_count": 99,
   "id": "d36e15e0",
   "metadata": {},
   "outputs": [
    {
     "name": "stdout",
     "output_type": "stream",
     "text": [
      "Create a vector, example : v = Vector(1,2)\n",
      "Returns the vector informations\n",
      "Returns the vector addition of self and other\n"
     ]
    }
   ],
   "source": [
    "print(Vector.__init__.__doc__)\n",
    "print(Vector.__repr__.__doc__)\n",
    "print(Vector.__add__.__doc__)"
   ]
  },
  {
   "cell_type": "code",
   "execution_count": 100,
   "id": "2a46eab6",
   "metadata": {},
   "outputs": [
    {
     "name": "stdout",
     "output_type": "stream",
     "text": [
      "Vector(3, 5) Vector(15, 20) Vector(0, 0)\n"
     ]
    }
   ],
   "source": [
    "print(v1, v2, v3)"
   ]
  },
  {
   "cell_type": "code",
   "execution_count": 101,
   "id": "0a4cb9fd",
   "metadata": {},
   "outputs": [
    {
     "name": "stdout",
     "output_type": "stream",
     "text": [
      "Vector(18, 25)\n",
      "Vector(12, 20)\n",
      "True True\n",
      "True\n"
     ]
    }
   ],
   "source": [
    "print(v1 + v2)\n",
    "print(v1 * 4)\n",
    "print(bool(v1), bool(v2))\n",
    "print(bool(v3))"
   ]
  }
 ],
 "metadata": {
  "kernelspec": {
   "display_name": "Python 3",
   "language": "python",
   "name": "python3"
  },
  "language_info": {
   "codemirror_mode": {
    "name": "ipython",
    "version": 3
   },
   "file_extension": ".py",
   "mimetype": "text/x-python",
   "name": "python",
   "nbconvert_exporter": "python",
   "pygments_lexer": "ipython3",
   "version": "3.8.8"
  }
 },
 "nbformat": 4,
 "nbformat_minor": 5
}
