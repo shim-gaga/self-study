{
 "cells": [
  {
   "cell_type": "markdown",
   "id": "1b7705eb",
   "metadata": {},
   "source": [
    "# 📍 Class Advanced"
   ]
  },
  {
   "cell_type": "markdown",
   "id": "5545dc3e",
   "metadata": {},
   "source": [
    "# 1. 절차지향 프로그래밍 VS 객체지향 프로그래밍\n",
    "## 절차지향 프로그래밍 (PP : Procedure Programming)\n",
    "절차지향 프로그래밍은 물 위에서 아래로 흐르는 것처럼 순차적인 처리가 중시되며 프로그램 전체가 유기적으로 연결되도록 만드는 프로그래밍 기법이다. 대표적으로 C언어가 절차지향 언어이다. \n",
    "\n",
    "#### 장점\n",
    "* 절차지향 프로그래밍은 컴퓨터의 처리 방식과 비슷하기 때문에 객체지향 프로그래밍의 처리 속도보다 더 빠르다.\n",
    "\n",
    "#### 단점\n",
    "* 유지 보수가 힘들다.  \n",
    "* 실행 순서가 정해져 있으므로 코드의 순서가 바뀌면 동일한 결과를 보장하기 어렵다.  \n",
    "* 디버깅이 쉽지 않다."
   ]
  },
  {
   "cell_type": "code",
   "execution_count": 28,
   "id": "72629f90",
   "metadata": {},
   "outputs": [
    {
     "name": "stdout",
     "output_type": "stream",
     "text": [
      "['Kim', 'Park']\n",
      "[1, 3]\n",
      "[1, 4]\n",
      "[{'gender': 'Male', 'score1': 95, 'score2': 88}, {'gender': 'Male', 'score1': 99, 'score2': 100}]\n"
     ]
    }
   ],
   "source": [
    "### 절차지향 프로그래밍 ###\n",
    "\n",
    "# student1\n",
    "student_name_1 = 'Kim'\n",
    "student_number_1 = 1\n",
    "student_grade_1 = 1\n",
    "student_detail_1 = [\n",
    "    {'gender':'Male'},\n",
    "    {'score1':95},\n",
    "    {'score2':88}\n",
    "]\n",
    "\n",
    "# student2\n",
    "student_name_2 = 'Lee'\n",
    "student_number_2 = 2\n",
    "student_grade_2 = 2\n",
    "student_detail_2 = [\n",
    "    {'gender':'Female'},\n",
    "    {'score1':77},\n",
    "    {'score2':92}\n",
    "]\n",
    "\n",
    "# student3\n",
    "student_name_3 = 'Park'\n",
    "student_number_3 = 3\n",
    "student_grade_3 = 4\n",
    "student_detail_3 = [\n",
    "    {'gender':'Male'},\n",
    "    {'score1':99},\n",
    "    {'score2':100}\n",
    "]\n",
    "\n",
    "\n",
    "# 리스트 구조\n",
    "# 관리하기 불편\n",
    "# 데이터의 정확한 위치(인덱스)를 맵핑해서 사용해야 한다\n",
    "student_names_list = ['Kim', 'Lee', 'Park']\n",
    "student_numbers_list = [1, 2, 3]\n",
    "student_grades_list = [1, 2, 4]\n",
    "student_details_list = [\n",
    "    {'gender' : 'Male', 'score1': 95, 'score2': 88},\n",
    "    {'gender' : 'Female', 'score1': 77, 'score2': 92},\n",
    "    {'gender' : 'Male', 'score1': 99, 'score2': 100}\n",
    "]\n",
    "\n",
    "# 학생 삭제\n",
    "del student_names_list[1]\n",
    "del student_numbers_list[1]\n",
    "del student_grades_list[1]\n",
    "del student_details_list[1]\n",
    "\n",
    "print(student_names_list)\n",
    "print(student_numbers_list)\n",
    "print(student_grades_list)\n",
    "print(student_details_list)"
   ]
  },
  {
   "cell_type": "markdown",
   "id": "3e3fe94e",
   "metadata": {},
   "source": [
    "#### 딕셔너리 구조\n",
    "서드파티(Third Party)에서 아래와 같은 딕셔너리 구조로 많이 사용한다.  \n",
    "(서드파티란 다른 회사에 이용되는 소프트웨어나 하드웨어를 개발하는 회사를 말한다.)  \n",
    "데이터 베이스의 쿼리에서도 이런 형식이 많이 보이지만 데이터의 양이 많은 경우에는 적합하지 않다.  \n",
    "  \n",
    "student_details_list = [\n",
    "    {'gender' : 'Male', 'score1': 95, 'score2': 88},\n",
    "    {'gender' : 'Female', 'score1': 77, 'score2': 92},\n",
    "    {'gender' : 'Male', 'score1': 99, 'score2': 100}\n",
    "]"
   ]
  },
  {
   "cell_type": "code",
   "execution_count": 29,
   "id": "7d7897b8",
   "metadata": {},
   "outputs": [
    {
     "name": "stdout",
     "output_type": "stream",
     "text": [
      "[{'student_name': 'Kim', 'student_number': 1, 'student_grade': 1, 'student_detail': {'gender': 'Male', 'score1': 95, 'score2': 88}}, {'student_name': 'Park', 'student_number': 3, 'student_grade': 4, 'student_detail': {'gender': 'Male', 'score1': 99, 'score2': 100}}]\n"
     ]
    }
   ],
   "source": [
    "# 딕셔너리 구조\n",
    "# 코드 반복 지속, 중첩 문제\n",
    "students_dicts = [\n",
    "    {'student_name': 'Kim', 'student_number': 1, 'student_grade': 1, 'student_detail': {'gender': 'Male', 'score1': 95, 'score2': 88}},\n",
    "    {'student_name': 'Lee', 'student_number': 2, 'student_grade': 2, 'student_detail': {'gender': 'Female', 'score1': 77, 'score2': 92}},\n",
    "    {'student_name': 'Park', 'student_number': 3, 'student_grade': 4, 'student_detail': {'gender': 'Male', 'score1': 99, 'score2': 100}}\n",
    "]\n",
    "\n",
    "del students_dicts[1]\n",
    "print(students_dicts)"
   ]
  },
  {
   "cell_type": "markdown",
   "id": "f1bcf25b",
   "metadata": {},
   "source": [
    "## 객체지향 프로그래밍 (OOP : Object Oriented Programming)\n",
    "객체지향 언어란 프로그램을 다수의 객체로 만들고, 이들끼리 서로 상호작용하도록 만드는 프로그래밍 언어이다. 컴퓨터의 모든 부품을 적절히 연결하고 조립해서 컴퓨터가 제대로 작동하도록 만드는 것이라고 볼 수 있다. 객체지향언어의 특징은 크게 캡슐화, 상속, 다형성, 추상화 4가지로 나눌 수 있다. 객체지향 언어로는 자바, C++, 파이썬 등이 있다. \n",
    "  \n",
    "#### 장점\n",
    "* 재사용성\n",
    "* 생산성 증가\n",
    "* 자연스러운 모델링\n",
    "  \n",
    "#### 단점\n",
    "* 느린 개발 속도\n",
    "* 느린 실행 속도\n",
    "* 높은 난이도\n",
    "   \n",
    "   \n",
    "출처: https://blog.naver.com/PostView.naver?blogId=gitacademy01&logNo=222394033958&redirect=Dlog&widgetTypeCall=true&directAccess=false"
   ]
  },
  {
   "cell_type": "code",
   "execution_count": 30,
   "id": "cae7a22b",
   "metadata": {},
   "outputs": [],
   "source": [
    "# OOP 기반\n",
    "# 클래스 구조\n",
    "# 구조 설계 후 재사용성이 증가, 코드 반복 최소화, 메소드 활용\n",
    "class Student():\n",
    "    def __init__(self, name, number, grade, details):\n",
    "        self._name = name\n",
    "        self._number = number\n",
    "        self._grad = grade\n",
    "        self._details = details\n",
    "    \n",
    "    def __str__(self):\n",
    "        return 'str : {} - {}'.format(self._name, self._number)\n",
    "    \n",
    "    def __repr__(self):\n",
    "        return 'str : {} - {}'.format(self._name, self._number)"
   ]
  },
  {
   "cell_type": "code",
   "execution_count": 31,
   "id": "83c14a0c",
   "metadata": {},
   "outputs": [
    {
     "name": "stdout",
     "output_type": "stream",
     "text": [
      "{'_name': 'Kim', '_number': 1, '_grad': 1, '_details': {'gender': 'Male', 'score1': 95, 'score2': 88}}\n",
      "{'_name': 'Lee', '_number': 2, '_grad': 2, '_details': {'gender': 'Female', 'score1': 77, 'score2': 92}}\n",
      "{'_name': 'Park', '_number': 3, '_grad': 4, '_details': {'gender': 'Male', 'score1': 99, 'score2': 100}}\n"
     ]
    }
   ],
   "source": [
    "student1 = Student('Kim', 1, 1, {'gender':'Male', 'score1':95, 'score2':88})\n",
    "student2 = Student('Lee', 2, 2, {'gender':'Female', 'score1':77, 'score2':92})\n",
    "student3 = Student('Park', 3, 4, {'gender':'Male', 'score1':99, 'score2':100})\n",
    "\n",
    "print(student1.__dict__)\n",
    "print(student2.__dict__)\n",
    "print(student3.__dict__)"
   ]
  },
  {
   "cell_type": "code",
   "execution_count": 32,
   "id": "3663a36e",
   "metadata": {},
   "outputs": [],
   "source": [
    "# 리스트 선언\n",
    "students_list = []\n",
    "students_list.append(student1)\n",
    "students_list.append(student2)\n",
    "students_list.append(student3)"
   ]
  },
  {
   "cell_type": "code",
   "execution_count": 33,
   "id": "0dc95ef0",
   "metadata": {},
   "outputs": [
    {
     "data": {
      "text/plain": [
       "[str : Kim - 1, str : Lee - 2, str : Park - 3]"
      ]
     },
     "execution_count": 33,
     "metadata": {},
     "output_type": "execute_result"
    }
   ],
   "source": [
    "students_list"
   ]
  },
  {
   "cell_type": "markdown",
   "id": "0aa0646e",
   "metadata": {},
   "source": [
    "## ____str____ VS ____repr____\n",
    "str, repr 함수는 인스턴스의 ___str___, ____repr____ 메소드를 각각 호출한다. (repr 함수는 어떤 객체의 ‘출력될 수 있는 표현’(printable representation)을 문자열의 형태로 반환한다.)\n",
    "  \n",
    "____str____, ____repr____ 두 메소드는 객체를 Universal interface인 평문으로 변환해 반환한다는 공통점이 있다. 반면 ____str____이 객체를 평문화하는 데 방점이 찍혀 있는 데 비해, ____repr____는 객체를 표현하는 데 방점이 찍혀 있다는 차이가 있다.\n",
    "  \n",
    "  \n",
    "출처: https://shoark7.github.io/programming/python/difference-between-__repr__-vs-__str__"
   ]
  },
  {
   "cell_type": "code",
   "execution_count": 34,
   "id": "f4812d4d",
   "metadata": {},
   "outputs": [
    {
     "name": "stdout",
     "output_type": "stream",
     "text": [
      "str : Kim - 1\n",
      "str : Lee - 2\n",
      "str : Park - 3\n"
     ]
    }
   ],
   "source": [
    "# __str__: 객체의 정보를 알려주기 위함\n",
    "for x in students_list:\n",
    "    print(x)"
   ]
  },
  {
   "cell_type": "markdown",
   "id": "4abd85af",
   "metadata": {},
   "source": [
    "인스턴스(instance)\n",
    "class variable\n",
    "instance variable\n",
    "클래스 설계 실습\n",
    "\n",
    "왜 이렇게 실행이 되는지"
   ]
  },
  {
   "cell_type": "code",
   "execution_count": 35,
   "id": "6daa9637",
   "metadata": {},
   "outputs": [],
   "source": [
    "# 클래스 재 선언\n",
    "class Student():\n",
    "    \"\"\"\n",
    "    Student Class\n",
    "    Author: gaga\n",
    "    Date: 2021.01.10\n",
    "    \"\"\"\n",
    "    \n",
    "    student_count = 0 # 클래스 변수\n",
    "    \n",
    "    def __init__(self, name, number, grade, details, email=None):\n",
    "        self._name = name    # 인스턴스 변수\n",
    "        self._number = number        \n",
    "        self._grade = grade        \n",
    "        self._details = details\n",
    "        self._email = email\n",
    "        \n",
    "        Student.student_count += 1\n",
    "    \n",
    "    def __str__(self):\n",
    "        return 'str {}'.format(self._name)\n",
    "    \n",
    "    def __repr__(self):\n",
    "        return 'str {}'.format(self._name)\n",
    "    \n",
    "    def detail_info(self):\n",
    "        print(\"Current Id: {}\".format(id(self)))\n",
    "        print(\"Student Detail Info: {} {} {}\".format(self._name, self._email, self._details))\n",
    "        \n",
    "    def __del__(self):\n",
    "        Student.student_count -= 1"
   ]
  },
  {
   "cell_type": "code",
   "execution_count": 36,
   "id": "03abe72e",
   "metadata": {},
   "outputs": [
    {
     "name": "stdout",
     "output_type": "stream",
     "text": [
      "140646997001072\n",
      "140646997000688\n"
     ]
    }
   ],
   "source": [
    "# self의 의미: 인스턴스화\n",
    "studt1 = Student(\"Cho\", 2, 3, {'gender':'Male', 'score1':65, 'score2':44})\n",
    "studt2 = Student(\"Chang\", 4, 1, {'gender':'Female', 'score1':85, 'score2':74}, 'stu2@naver.com')\n",
    "\n",
    "# ID 확인\n",
    "print(id(studt1))\n",
    "print(id(studt2))"
   ]
  },
  {
   "cell_type": "markdown",
   "id": "a8f68bd1",
   "metadata": {},
   "source": [
    "## == vs is\n",
    "### ==\n",
    "== 연산자는 오브젝트의 값이 같은지 확인하는 경우 사용한다. 이때, 종류가 다른 오브젝트라도 값이 같으면 True를 반환한다.  \n",
    "### is\n",
    "is 연산자는 id 값을 비교하기 때문에 값이 같더라도 오브젝트가 다르면 False를 반환힌다."
   ]
  },
  {
   "cell_type": "code",
   "execution_count": 37,
   "id": "3cdccb86",
   "metadata": {},
   "outputs": [
    {
     "name": "stdout",
     "output_type": "stream",
     "text": [
      "False\n",
      "False\n"
     ]
    }
   ],
   "source": [
    "# == 는 값을 비교\n",
    "# is 는 id 값을 비교\n",
    "print(studt1._name == studt2._name)\n",
    "print(studt1 is studt2)"
   ]
  },
  {
   "cell_type": "markdown",
   "id": "0a3dce8a",
   "metadata": {},
   "source": [
    "## dir() VS __dict__\n",
    "### dir()\n",
    "dir()은 내장함수로 객체가 가진 속성과 메소드 정보를 나타낸다.\n",
    "\n",
    "### __dict__\n",
    "__dict__는 매직 메소드로 딕셔너리 형태로 객체의 속성과 그 속성의 내용까지 나타낸다."
   ]
  },
  {
   "cell_type": "code",
   "execution_count": 38,
   "id": "e82663fb",
   "metadata": {},
   "outputs": [
    {
     "name": "stdout",
     "output_type": "stream",
     "text": [
      "['__class__', '__del__', '__delattr__', '__dict__', '__dir__', '__doc__', '__eq__', '__format__', '__ge__', '__getattribute__', '__gt__', '__hash__', '__init__', '__init_subclass__', '__le__', '__lt__', '__module__', '__ne__', '__new__', '__reduce__', '__reduce_ex__', '__repr__', '__setattr__', '__sizeof__', '__str__', '__subclasshook__', '__weakref__', '_details', '_email', '_grade', '_name', '_number', 'detail_info', 'student_count']\n",
      "['__class__', '__del__', '__delattr__', '__dict__', '__dir__', '__doc__', '__eq__', '__format__', '__ge__', '__getattribute__', '__gt__', '__hash__', '__init__', '__init_subclass__', '__le__', '__lt__', '__module__', '__ne__', '__new__', '__reduce__', '__reduce_ex__', '__repr__', '__setattr__', '__sizeof__', '__str__', '__subclasshook__', '__weakref__', '_details', '_email', '_grade', '_name', '_number', 'detail_info', 'student_count']\n"
     ]
    }
   ],
   "source": [
    "# dir: 속성 값을 다 보여준다\n",
    "print(dir(studt1)) \n",
    "print(dir(studt2))"
   ]
  },
  {
   "cell_type": "code",
   "execution_count": 39,
   "id": "a3dbcd92",
   "metadata": {},
   "outputs": [
    {
     "name": "stdout",
     "output_type": "stream",
     "text": [
      "{'_name': 'Cho', '_number': 2, '_grade': 3, '_details': {'gender': 'Male', 'score1': 65, 'score2': 44}, '_email': None}\n",
      "{'_name': 'Chang', '_number': 4, '_grade': 1, '_details': {'gender': 'Female', 'score1': 85, 'score2': 74}, '_email': 'stu2@naver.com'}\n"
     ]
    }
   ],
   "source": [
    "# __dict__: dir 보다 디테일 하지는 않지만 인스턴스의 속성 값 확인도 가능\n",
    "print(studt1.__dict__) \n",
    "print(studt2.__dict__)"
   ]
  },
  {
   "cell_type": "markdown",
   "id": "0d11e1b0",
   "metadata": {},
   "source": [
    "## Docstring\n",
    "docstring은 코드의 문서화에 도움이 되는 문자열을 말한다. 쌍따옴표 세개를 사용하여 docstring을 작성한다. (\"\"\" 이런 저런 내용 \"\"\") docstring 내용은 __doc__ 속성에 저장된다."
   ]
  },
  {
   "cell_type": "code",
   "execution_count": 40,
   "id": "3cd760c7",
   "metadata": {},
   "outputs": [
    {
     "name": "stdout",
     "output_type": "stream",
     "text": [
      "\n",
      "    Student Class\n",
      "    Author: gaga\n",
      "    Date: 2021.01.10\n",
      "    \n"
     ]
    }
   ],
   "source": [
    "# Doctring\n",
    "print(Student.__doc__)"
   ]
  },
  {
   "cell_type": "code",
   "execution_count": 41,
   "id": "cd2286f5",
   "metadata": {},
   "outputs": [
    {
     "name": "stdout",
     "output_type": "stream",
     "text": [
      "Current Id: 140646997001072\n",
      "Student Detail Info: Cho None {'gender': 'Male', 'score1': 65, 'score2': 44}\n",
      "Current Id: 140646997000688\n",
      "Student Detail Info: Chang stu2@naver.com {'gender': 'Female', 'score1': 85, 'score2': 74}\n"
     ]
    }
   ],
   "source": [
    "# 실행\n",
    "studt1.detail_info()\n",
    "studt2.detail_info()"
   ]
  },
  {
   "cell_type": "code",
   "execution_count": 42,
   "id": "08a4c657",
   "metadata": {},
   "outputs": [
    {
     "ename": "TypeError",
     "evalue": "detail_info() missing 1 required positional argument: 'self'",
     "output_type": "error",
     "traceback": [
      "\u001b[0;31m---------------------------------------------------------------------------\u001b[0m",
      "\u001b[0;31mTypeError\u001b[0m                                 Traceback (most recent call last)",
      "\u001b[0;32m<ipython-input-42-76d3a9200140>\u001b[0m in \u001b[0;36m<module>\u001b[0;34m\u001b[0m\n\u001b[1;32m      1\u001b[0m \u001b[0;31m# 에러\u001b[0m\u001b[0;34m\u001b[0m\u001b[0;34m\u001b[0m\u001b[0;34m\u001b[0m\u001b[0m\n\u001b[0;32m----> 2\u001b[0;31m \u001b[0mStudent\u001b[0m\u001b[0;34m.\u001b[0m\u001b[0mdetail_info\u001b[0m\u001b[0;34m(\u001b[0m\u001b[0;34m)\u001b[0m\u001b[0;34m\u001b[0m\u001b[0;34m\u001b[0m\u001b[0m\n\u001b[0m",
      "\u001b[0;31mTypeError\u001b[0m: detail_info() missing 1 required positional argument: 'self'"
     ]
    }
   ],
   "source": [
    "# 에러: 클래스에서 인스턴스 메소드를 호출하여 에러 발생\n",
    "Student.detail_info()"
   ]
  },
  {
   "cell_type": "code",
   "execution_count": 43,
   "id": "51138359",
   "metadata": {},
   "outputs": [
    {
     "name": "stdout",
     "output_type": "stream",
     "text": [
      "Current Id: 140646997001072\n",
      "Student Detail Info: Cho None {'gender': 'Male', 'score1': 65, 'score2': 44}\n",
      "Current Id: 140646997000688\n",
      "Student Detail Info: Chang stu2@naver.com {'gender': 'Female', 'score1': 85, 'score2': 74}\n"
     ]
    }
   ],
   "source": [
    "# 인스턴스를 넣어주면 된다\n",
    "Student.detail_info(studt1)\n",
    "Student.detail_info(studt2)"
   ]
  },
  {
   "cell_type": "code",
   "execution_count": 44,
   "id": "9dfc1578",
   "metadata": {},
   "outputs": [
    {
     "name": "stdout",
     "output_type": "stream",
     "text": [
      "<class '__main__.Student'> <class '__main__.Student'>\n",
      "True\n"
     ]
    }
   ],
   "source": [
    "# 비교\n",
    "print(studt1.__class__, studt2.__class__)\n",
    "print(id(studt1.__class__) == id(studt2.__class__))"
   ]
  },
  {
   "cell_type": "markdown",
   "id": "83a80f6d",
   "metadata": {},
   "source": [
    "## 인스턴스 변수 VS 클래스 변수\n",
    "* 클래스 속성: 모든 인스턴스가 공유. 인스턴스 전체가 사용해야 하는 값을 저장할 때 사용\n",
    "* 인스턴스 속성: 인스턴스별로 독립되어 있음. 각 인스턴스가 값을 따로 저장해야 할 때 사용\n",
    "\n",
    "### 인스턴스 변수\n",
    "직접 접근 할 수는 있지만 PEP 문법적으로 권장하지 않는다. 그 이유는 캡슐화를 통해 객체 안에 있는 정보를 노출하지 않고 숨겨두기 위함이다.\n",
    "\n",
    "### 클래스 변수\n",
    "인스턴스에서는 클래스 변수를 가지고 있지 않다. 그래서 인스턴스에서 클래스 변수를 접근할 때, 인스턴스 네임스페이스에서 먼저 클래스 변수를 검색해보고 없을 경우 상위에서 검색하기 때문에 인스턴스에서도 클래스 변수 접근이 가능한 것이다. 즉, 동일한 이름으로 변수 생성 가능하다(인스턴스 검색 후 -> 상위(클래스 변수, 클래스 변수)"
   ]
  },
  {
   "cell_type": "code",
   "execution_count": 45,
   "id": "4fccf7ab",
   "metadata": {},
   "outputs": [
    {
     "name": "stdout",
     "output_type": "stream",
     "text": [
      "HAHAHA\n"
     ]
    }
   ],
   "source": [
    "# 인스턴스 변수\n",
    "studt1._name = 'HAHAHA'\n",
    "print(studt1._name)"
   ]
  },
  {
   "cell_type": "code",
   "execution_count": 46,
   "id": "aaa1695c",
   "metadata": {},
   "outputs": [
    {
     "name": "stdout",
     "output_type": "stream",
     "text": [
      "2\n",
      "2\n",
      "2\n"
     ]
    }
   ],
   "source": [
    "# 클래스 변수 접근\n",
    "print(studt1.student_count)\n",
    "print(studt2.student_count)\n",
    "print(Student.student_count)"
   ]
  },
  {
   "cell_type": "code",
   "execution_count": 47,
   "id": "0ebb9d56",
   "metadata": {},
   "outputs": [
    {
     "name": "stdout",
     "output_type": "stream",
     "text": [
      "{'__module__': '__main__', '__doc__': '\\n    Student Class\\n    Author: gaga\\n    Date: 2021.01.10\\n    ', 'student_count': 2, '__init__': <function Student.__init__ at 0x7feaee5544c0>, '__str__': <function Student.__str__ at 0x7feaee554670>, '__repr__': <function Student.__repr__ at 0x7feaee5549d0>, 'detail_info': <function Student.detail_info at 0x7feaee554af0>, '__del__': <function Student.__del__ at 0x7feaee5543a0>, '__dict__': <attribute '__dict__' of 'Student' objects>, '__weakref__': <attribute '__weakref__' of 'Student' objects>}\n"
     ]
    }
   ],
   "source": [
    "# 공유 확인: student_count의 값이 2이다\n",
    "print(Student.__dict__)"
   ]
  },
  {
   "cell_type": "code",
   "execution_count": 48,
   "id": "1220377c",
   "metadata": {},
   "outputs": [
    {
     "name": "stdout",
     "output_type": "stream",
     "text": [
      "{'_name': 'HAHAHA', '_number': 2, '_grade': 3, '_details': {'gender': 'Male', 'score1': 65, 'score2': 44}, '_email': None}\n"
     ]
    }
   ],
   "source": [
    "# 그러나 인스턴스에는 클래스 변수를 가지고 있지 않음\n",
    "# 인스턴스 네임스페이스에 없으면 상위에서 검색\n",
    "print(studt1.__dict__)"
   ]
  },
  {
   "cell_type": "code",
   "execution_count": 49,
   "id": "e895d7ea",
   "metadata": {},
   "outputs": [
    {
     "name": "stdout",
     "output_type": "stream",
     "text": [
      "1\n",
      "1\n"
     ]
    }
   ],
   "source": [
    "del studt2\n",
    "print(studt1.student_count)\n",
    "print(Student.student_count)"
   ]
  },
  {
   "cell_type": "markdown",
   "id": "802e3104",
   "metadata": {},
   "source": [
    "# 2. Class, Instance, Static Method\n",
    "\n",
    "## Instance Method\n",
    "데코레이터가 없는 기본 메소드를 인스턴스 메소드라고 한다. 클래스의 인스턴스를 호출할 때 **self를 인자로 받는다.** 동일 오브젝트의 다른 메소드와 속성에 self를 통해 접근 가능하다. 인스턴스 메소드는 오브젝트의 상태를 바꿀 수 있을 뿐만 아니라 **self.__class__**속성을 통해 클래스 자체에 접근할 수 있다. 이는 인스턴스 메소드가 클래스의 상태를 바꿀 수 있다는 뜻이다.\n",
    "\n",
    "## Class Method\n",
    "self 파라미터 대신에 클래스를 연결하는 **'cls'** 파라미터를 받는다. 또한, 클래스 메소드 위에 **@classmethod 데코레이터**를 붙여주어야 한다. 이것은 오브젝트 인스턴스가 아니다. cls 인자로만 클래스에 접근할 수 있고 오브젝트 인스턴스의 상태를 바꿀 수 없기 때문이다. 그러나 클래스 인스턴스를 통해 클래스의 상태를 변경할 수 있다.\n",
    "\n",
    "## Static Method\n",
    "self 인자도 사용하지 않고 cls 인자도 사용하지 않는 누구나 사용할 수 있는 메소드이다. 스테틱 메소드는 오브젝트의 상태와 클래스의 상태 모두 변경할 수 없다. 데이터 접근에 제한적이다. 클래스 내에서 스테딕 메소드를 정의할 때는 함수 위에 **@staticmethod 데코레이터**를 붙여주어야 한다 "
   ]
  },
  {
   "cell_type": "code",
   "execution_count": 50,
   "id": "3fe74721",
   "metadata": {},
   "outputs": [],
   "source": [
    "# 기본 인스턴스 메소드\n",
    "class Student():\n",
    "    '''\n",
    "    Student Class\n",
    "    Author: gaga\n",
    "    Date: 2021.01.10\n",
    "    Description: Class, Static, Instance Method\n",
    "    '''\n",
    "    tuition_per = 1.0 # 클래스 변수\n",
    "    \n",
    "    def __init__(self, id, first_name, last_name, email, grade, tuition, gpa):\n",
    "        self._id = id\n",
    "        self._first_name = first_name        \n",
    "        self._last_name = last_name        \n",
    "        self._email = email     \n",
    "        self._grade = grade\n",
    "        self._tuition = tuition        \n",
    "        self._gpa = gpa        \n",
    "    \n",
    "    # Instance Method: self라는 인자를 포함\n",
    "    def full_name(self):\n",
    "        return '{} {}'.format(self._first_name, self._last_name)\n",
    "    \n",
    "    def detail_info(self):\n",
    "        return 'Student Detail Info : {}, {}, {}, {}, {}, {}'.format(self._id, self.full_name(), self._email, self._grade, self._tuition, self._gpa)\n",
    "    \n",
    "    def get_fee(self):\n",
    "        return 'Before Tuition -> Id: {}, fee: {}'.format(self._id, self._tuition)\n",
    "    \n",
    "    def get_fee_culc(self):\n",
    "        return 'Before Tuition -> Id: {}, fee: {}'.format(self._id, self._tuition * Student.tuition_per)\n",
    "    \n",
    "    def __str__(self):\n",
    "        return 'Student Info -> name : {}, grade : {}, email : {}'.format(self.full_name(), self._grade, self._email)\n",
    "    \n",
    "    # Class Method, 데코레이터. 기능은 같지만 클래스 메소드 사용 권장\n",
    "    # cls == Student 클래스\n",
    "    @classmethod\n",
    "    def raise_fee(cls, per):\n",
    "        if per <= 1:\n",
    "            print(\"Please Enter 1 or More\")\n",
    "            return\n",
    "        cls.tuition_per = per\n",
    "        print(\"Succed! Raise fee\")\n",
    "        \n",
    "    @classmethod\n",
    "    def student_const(cls, id, first_name, last_name, email, grade, tuition, gpa):\n",
    "        return cls(id, first_name, last_name, email, grade, tuition * cls.tuition_per, gpa)\n",
    "    \n",
    "    @staticmethod\n",
    "    def is_scholarship_st(inst):\n",
    "        if inst._gpa >= 4.3:\n",
    "            return '{} is a scholoarshil recipient'.format(inst._last_name)\n",
    "        return 'Sorry. Not a scholarship recipient'\n"
   ]
  },
  {
   "cell_type": "code",
   "execution_count": 51,
   "id": "95452bc3",
   "metadata": {},
   "outputs": [],
   "source": [
    "student_1 = Student(1, 'Kim', 'Sarang', 'student1@naver.com', '1', 400, 3.5)\n",
    "student_2 = Student(2, 'Lee', 'Kanghan', 'student2@naver.com', '2', 500, 4.3)"
   ]
  },
  {
   "cell_type": "code",
   "execution_count": 52,
   "id": "3c233472",
   "metadata": {},
   "outputs": [
    {
     "name": "stdout",
     "output_type": "stream",
     "text": [
      "{'_id': 1, '_first_name': 'Kim', '_last_name': 'Sarang', '_email': 'student1@naver.com', '_grade': '1', '_tuition': 400, '_gpa': 3.5}\n",
      "{'_id': 2, '_first_name': 'Lee', '_last_name': 'Kanghan', '_email': 'student2@naver.com', '_grade': '2', '_tuition': 500, '_gpa': 4.3}\n"
     ]
    }
   ],
   "source": [
    "print(student_1.__dict__)\n",
    "print(student_2.__dict__)"
   ]
  },
  {
   "cell_type": "code",
   "execution_count": 53,
   "id": "b2b888ad",
   "metadata": {},
   "outputs": [
    {
     "name": "stdout",
     "output_type": "stream",
     "text": [
      "Student Detail Info : 1, Kim Sarang, student1@naver.com, 1, 400, 3.5\n",
      "Student Detail Info : 2, Lee Kanghan, student2@naver.com, 2, 500, 4.3\n"
     ]
    }
   ],
   "source": [
    "# 전체 정보\n",
    "print(student_1.detail_info())\n",
    "print(student_2.detail_info())"
   ]
  },
  {
   "cell_type": "code",
   "execution_count": 54,
   "id": "2e9afef8",
   "metadata": {},
   "outputs": [
    {
     "name": "stdout",
     "output_type": "stream",
     "text": [
      "등록금 인상 전\n",
      "Before Tuition -> Id: 1, fee: 400\n",
      "Before Tuition -> Id: 2, fee: 500\n"
     ]
    }
   ],
   "source": [
    "# 학비 정보 (등록금 인상 전)\n",
    "print('등록금 인상 전')\n",
    "print(student_1.get_fee())\n",
    "print(student_2.get_fee())"
   ]
  },
  {
   "cell_type": "code",
   "execution_count": 55,
   "id": "a8bf3c20",
   "metadata": {},
   "outputs": [
    {
     "name": "stdout",
     "output_type": "stream",
     "text": [
      "등록금 인상 후\n",
      "Before Tuition -> Id: 1, fee: 560.0\n",
      "Before Tuition -> Id: 2, fee: 700.0\n"
     ]
    }
   ],
   "source": [
    "# 클래스 변수에 직접 접근\n",
    "Student.tuition_per = 1.4\n",
    "\n",
    "print('등록금 인상 후')\n",
    "print(student_1.get_fee_culc())\n",
    "print(student_2.get_fee_culc())"
   ]
  },
  {
   "cell_type": "code",
   "execution_count": 56,
   "id": "b6bc98a9",
   "metadata": {},
   "outputs": [
    {
     "name": "stdout",
     "output_type": "stream",
     "text": [
      "Succed! Raise fee\n",
      "Before Tuition -> Id: 1, fee: 600.0\n",
      "Before Tuition -> Id: 2, fee: 750.0\n"
     ]
    }
   ],
   "source": [
    "# 클래스 메소드 호출\n",
    "Student.raise_fee(1.5)\n",
    "print(student_1.get_fee_culc())\n",
    "print(student_2.get_fee_culc())"
   ]
  },
  {
   "cell_type": "code",
   "execution_count": 57,
   "id": "7d33a4e2",
   "metadata": {},
   "outputs": [
    {
     "name": "stdout",
     "output_type": "stream",
     "text": [
      "Student Detail Info : 3, Park Minji, student3@naver.com, 3, 825.0, 4.5\n",
      "Student Detail Info : 4, Cho Sungjin, student4@naver.com, 4, 900.0, 4.1\n"
     ]
    }
   ],
   "source": [
    "# 클래스 메소드 인스턴스 생성 실습\n",
    "student_3 = Student.student_const(3, 'Park', 'Minji', 'student3@naver.com', '3', 550, 4.5)\n",
    "student_4 = Student.student_const(4, 'Cho', 'Sungjin', 'student4@naver.com', '4', 600, 4.1)\n",
    "\n",
    "print(student_3.detail_info())\n",
    "print(student_4.detail_info())"
   ]
  },
  {
   "cell_type": "code",
   "execution_count": 58,
   "id": "5a9f99df",
   "metadata": {},
   "outputs": [
    {
     "name": "stdout",
     "output_type": "stream",
     "text": [
      "825.0\n",
      "900.0\n"
     ]
    }
   ],
   "source": [
    "print(student_3._tuition)\n",
    "print(student_4._tuition)"
   ]
  },
  {
   "cell_type": "code",
   "execution_count": 59,
   "id": "102c1ff8",
   "metadata": {},
   "outputs": [
    {
     "name": "stdout",
     "output_type": "stream",
     "text": [
      "Sorry. Not a scholarship recipient\n",
      "Kanghan is a scholoarshil recipient\n",
      "Minji is a scholoarshil recipient\n",
      "Sorry. Not a scholarship recipient\n"
     ]
    }
   ],
   "source": [
    "# static method:\n",
    "# 장학금 혜택 여부(static method 미사용)\n",
    "def is_scholarship(inst):\n",
    "    if inst._gpa >= 4.3:\n",
    "        return '{} is a scholoarshil recipient'.format(inst._last_name)\n",
    "    return 'Sorry. Not a scholarship recipient'\n",
    "\n",
    "print(is_scholarship(student_1))\n",
    "print(is_scholarship(student_2))\n",
    "print(is_scholarship(student_3))\n",
    "print(is_scholarship(student_4))"
   ]
  },
  {
   "cell_type": "code",
   "execution_count": 63,
   "id": "135390c3",
   "metadata": {},
   "outputs": [
    {
     "name": "stdout",
     "output_type": "stream",
     "text": [
      "Static :  Sorry. Not a scholarship recipient\n",
      "Static :  Kanghan is a scholoarshil recipient\n",
      "Static :  Minji is a scholoarshil recipient\n",
      "Static :  Sorry. Not a scholarship recipient\n"
     ]
    }
   ],
   "source": [
    "# 장학금 혜택 여부(static method 사용)\n",
    "print('Static : ', Student.is_scholarship_st(student_1))\n",
    "print('Static : ', Student.is_scholarship_st(student_2))\n",
    "print('Static : ', Student.is_scholarship_st(student_3))\n",
    "print('Static : ', Student.is_scholarship_st(student_4))"
   ]
  },
  {
   "cell_type": "code",
   "execution_count": 64,
   "id": "4ccd245b",
   "metadata": {},
   "outputs": [
    {
     "name": "stdout",
     "output_type": "stream",
     "text": [
      "Static :  Sorry. Not a scholarship recipient\n",
      "Static :  Kanghan is a scholoarshil recipient\n",
      "Static :  Minji is a scholoarshil recipient\n",
      "Static :  Sorry. Not a scholarship recipient\n"
     ]
    }
   ],
   "source": [
    "print('Static : ', student_1.is_scholarship_st(student_1))\n",
    "print('Static : ', student_2.is_scholarship_st(student_2))\n",
    "print('Static : ', student_3.is_scholarship_st(student_3))\n",
    "print('Static : ', student_4.is_scholarship_st(student_4))"
   ]
  }
 ],
 "metadata": {
  "kernelspec": {
   "display_name": "Python 3",
   "language": "python",
   "name": "python3"
  },
  "language_info": {
   "codemirror_mode": {
    "name": "ipython",
    "version": 3
   },
   "file_extension": ".py",
   "mimetype": "text/x-python",
   "name": "python",
   "nbconvert_exporter": "python",
   "pygments_lexer": "ipython3",
   "version": "3.8.8"
  }
 },
 "nbformat": 4,
 "nbformat_minor": 5
}
